{
 "cells": [
  {
   "cell_type": "code",
   "execution_count": 4,
   "id": "eb15d20e",
   "metadata": {},
   "outputs": [],
   "source": [
    "library(ggplot2)\n",
    "library(tidyverse)\n",
    "library(dplyr) "
   ]
  },
  {
   "cell_type": "code",
   "execution_count": 11,
   "id": "e898fbce",
   "metadata": {},
   "outputs": [
    {
     "name": "stderr",
     "output_type": "stream",
     "text": [
      "\u001b[1mRows: \u001b[22m\u001b[34m120\u001b[39m \u001b[1mColumns: \u001b[22m\u001b[34m5\u001b[39m\n",
      "\u001b[36m──\u001b[39m \u001b[1mColumn specification\u001b[22m \u001b[36m────────────────────────────────────────────────────────\u001b[39m\n",
      "\u001b[1mDelimiter:\u001b[22m \",\"\n",
      "\u001b[31mchr\u001b[39m (4): chr, gene, CNV, Type\n",
      "\u001b[32mdbl\u001b[39m (1): Count\n",
      "\n",
      "\u001b[36mℹ\u001b[39m Use `spec()` to retrieve the full column specification for this data.\n",
      "\u001b[36mℹ\u001b[39m Specify the column types or set `show_col_types = FALSE` to quiet this message.\n"
     ]
    },
    {
     "data": {
      "text/html": [
       "<table class=\"dataframe\">\n",
       "<caption>A tibble: 6 × 5</caption>\n",
       "<thead>\n",
       "\t<tr><th scope=col>chr</th><th scope=col>gene</th><th scope=col>CNV</th><th scope=col>Type</th><th scope=col>Count</th></tr>\n",
       "\t<tr><th scope=col>&lt;chr&gt;</th><th scope=col>&lt;chr&gt;</th><th scope=col>&lt;chr&gt;</th><th scope=col>&lt;chr&gt;</th><th scope=col>&lt;dbl&gt;</th></tr>\n",
       "</thead>\n",
       "<tbody>\n",
       "\t<tr><td>chr1</td><td>AKT3  </td><td>;loss_cfDNA</td><td>Luminal A</td><td>1</td></tr>\n",
       "\t<tr><td>chr1</td><td>ARID1A</td><td>loss_tumor;</td><td>Luminal A</td><td>1</td></tr>\n",
       "\t<tr><td>chr1</td><td>ARID1A</td><td>;loss_cfDNA</td><td>Luminal A</td><td>1</td></tr>\n",
       "\t<tr><td>chr1</td><td>CDKN2C</td><td>loss_tumor;</td><td>Luminal A</td><td>1</td></tr>\n",
       "\t<tr><td>chr1</td><td>FUBP1 </td><td>;loss_cfDNA</td><td>Luminal A</td><td>1</td></tr>\n",
       "\t<tr><td>chr1</td><td>MTOR  </td><td>loss_tumor;</td><td>Luminal A</td><td>1</td></tr>\n",
       "</tbody>\n",
       "</table>\n"
      ],
      "text/latex": [
       "A tibble: 6 × 5\n",
       "\\begin{tabular}{lllll}\n",
       " chr & gene & CNV & Type & Count\\\\\n",
       " <chr> & <chr> & <chr> & <chr> & <dbl>\\\\\n",
       "\\hline\n",
       "\t chr1 & AKT3   & ;loss\\_cfDNA & Luminal A & 1\\\\\n",
       "\t chr1 & ARID1A & loss\\_tumor; & Luminal A & 1\\\\\n",
       "\t chr1 & ARID1A & ;loss\\_cfDNA & Luminal A & 1\\\\\n",
       "\t chr1 & CDKN2C & loss\\_tumor; & Luminal A & 1\\\\\n",
       "\t chr1 & FUBP1  & ;loss\\_cfDNA & Luminal A & 1\\\\\n",
       "\t chr1 & MTOR   & loss\\_tumor; & Luminal A & 1\\\\\n",
       "\\end{tabular}\n"
      ],
      "text/markdown": [
       "\n",
       "A tibble: 6 × 5\n",
       "\n",
       "| chr &lt;chr&gt; | gene &lt;chr&gt; | CNV &lt;chr&gt; | Type &lt;chr&gt; | Count &lt;dbl&gt; |\n",
       "|---|---|---|---|---|\n",
       "| chr1 | AKT3   | ;loss_cfDNA | Luminal A | 1 |\n",
       "| chr1 | ARID1A | loss_tumor; | Luminal A | 1 |\n",
       "| chr1 | ARID1A | ;loss_cfDNA | Luminal A | 1 |\n",
       "| chr1 | CDKN2C | loss_tumor; | Luminal A | 1 |\n",
       "| chr1 | FUBP1  | ;loss_cfDNA | Luminal A | 1 |\n",
       "| chr1 | MTOR   | loss_tumor; | Luminal A | 1 |\n",
       "\n"
      ],
      "text/plain": [
       "  chr  gene   CNV         Type      Count\n",
       "1 chr1 AKT3   ;loss_cfDNA Luminal A 1    \n",
       "2 chr1 ARID1A loss_tumor; Luminal A 1    \n",
       "3 chr1 ARID1A ;loss_cfDNA Luminal A 1    \n",
       "4 chr1 CDKN2C loss_tumor; Luminal A 1    \n",
       "5 chr1 FUBP1  ;loss_cfDNA Luminal A 1    \n",
       "6 chr1 MTOR   loss_tumor; Luminal A 1    "
      ]
     },
     "metadata": {},
     "output_type": "display_data"
    }
   ],
   "source": [
    "df = read_csv('/home/fer/Documents/cfDNA/OncoprintAll_mergeDirectionality/CountTypes.csv')\n",
    "head(df)"
   ]
  },
  {
   "cell_type": "code",
   "execution_count": 12,
   "id": "447a4de7",
   "metadata": {},
   "outputs": [],
   "source": [
    "plotchr <- function(df, chrom) {\n",
    "    df_i = filter(df, chr == chrom)\n",
    "    \n",
    "    df_i_cfDNA = df_i %>% filter(CNV %in% c(\";loss_cfDNA\", \"loss_tumor;loss_cfDNA\"))\n",
    "    df_i_tumor = df_i %>% filter(CNV%in% c(\"loss_tumor;\", \"loss_tumor;loss_cfDNA\", \"gain_tumor;\"))\n",
    "    \n",
    "\n",
    "    theme_set(theme_bw(base_size = 10))\n",
    "    \n",
    "    cfDNA_id = paste(\"cfDNA\", chrom, sep = \" \")\n",
    "    tumor_id = paste(\"Tumor\", chrom, sep = \" \")\n",
    "    \n",
    "    options(repr.plot.width = 8, repr.plot.height = 5)\n",
    "    \n",
    "    p <- ggplot(df_i_cfDNA, aes(fill=Type, y=Count, x=gene)) + \n",
    "    geom_bar(position=\"fill\", stat=\"identity\")+ ggtitle(cfDNA_id) +\n",
    "    xlab(\"Gene\") + ylab(\"CNV Relative Frequency\")\n",
    "    \n",
    "    p2 <- ggplot(df_i_tumor, aes(fill=Type, y=Count, x=gene)) + \n",
    "    geom_bar(position=\"fill\", stat=\"identity\")+ ggtitle(tumor_id) +\n",
    "    xlab(\"Gene\") + ylab(\"CNV Relative Frequency\") \n",
    "    \n",
    "  return (list(p, p2))\n",
    "}"
   ]
  },
  {
   "cell_type": "code",
   "execution_count": 24,
   "id": "12cb39e2",
   "metadata": {},
   "outputs": [
    {
     "data": {
      "text/plain": [
       "[[1]]\n"
      ]
     },
     "metadata": {},
     "output_type": "display_data"
    },
    {
     "data": {
      "text/html": [
       "<strong>png:</strong> 2"
      ],
      "text/latex": [
       "\\textbf{png:} 2"
      ],
      "text/markdown": [
       "**png:** 2"
      ],
      "text/plain": [
       "png \n",
       "  2 "
      ]
     },
     "metadata": {},
     "output_type": "display_data"
    }
   ],
   "source": [
    "pdf(\"/home/fer/Tumor_chrX.pdf\", width = 8, height = 5)\n",
    "x = plotchr(df, 'chrX')\n",
    "x[2]\n",
    "dev.off()"
   ]
  },
  {
   "cell_type": "code",
   "execution_count": 34,
   "id": "95a4e357",
   "metadata": {},
   "outputs": [
    {
     "data": {
      "image/png": "[encoded data removed]",
      "text/plain": [
       "plot without title"
      ]
     },
     "metadata": {
      "image/png": {
       "height": 300,
       "width": 480
      }
     },
     "output_type": "display_data"
    }
   ],
   "source": [
    "#options(repr.plot.width = 8, repr.plot.height = 5)\n",
    "#pdf(\"/home/fer/Oncoprint.pdf\", width = 20, height = 20)\n",
    "\n",
    "#theme_set(theme_bw(base_size = 10))\n",
    "\n",
    "#ggplot(df_chr1_cfDNA, aes(fill=Type, y=Count, x=gene)) + \n",
    "#    geom_bar(position=\"fill\", stat=\"identity\")+ ggtitle(\"cfDNA chr17\") +\n",
    "#  xlab(\"Gene\") + ylab(\"CNV Relative Frequency\")\n",
    "\n",
    "#dev.off()"
   ]
  },
  {
   "cell_type": "code",
   "execution_count": null,
   "id": "a0b00060",
   "metadata": {},
   "outputs": [],
   "source": []
  }
 ],
 "metadata": {
  "kernelspec": {
   "display_name": "R",
   "language": "R",
   "name": "ir"
  },
  "language_info": {
   "codemirror_mode": "r",
   "file_extension": ".r",
   "mimetype": "text/x-r-source",
   "name": "R",
   "pygments_lexer": "r",
   "version": "4.1.2"
  }
 },
 "nbformat": 4,
 "nbformat_minor": 5
}
