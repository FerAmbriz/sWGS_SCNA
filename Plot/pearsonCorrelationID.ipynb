{
 "cells": [
  {
   "cell_type": "code",
   "execution_count": 23,
   "id": "ff930d87",
   "metadata": {},
   "outputs": [],
   "source": [
    "library(tidyverse)\n",
    "library(ComplexHeatmap)\n",
    "library(circlize)"
   ]
  },
  {
   "cell_type": "markdown",
   "id": "daa98847",
   "metadata": {},
   "source": [
    "# Comparative person "
   ]
  },
  {
   "cell_type": "code",
   "execution_count": 24,
   "id": "06304b18",
   "metadata": {},
   "outputs": [
    {
     "name": "stderr",
     "output_type": "stream",
     "text": [
      "\u001b[1m\u001b[22mNew names:\n",
      "\u001b[36m•\u001b[39m `` -> `...1`\n",
      "\u001b[1mRows: \u001b[22m\u001b[34m64\u001b[39m \u001b[1mColumns: \u001b[22m\u001b[34m26\u001b[39m\n",
      "\u001b[36m──\u001b[39m \u001b[1mColumn specification\u001b[22m \u001b[36m────────────────────────────────────────────────────────\u001b[39m\n",
      "\u001b[1mDelimiter:\u001b[22m \",\"\n",
      "\u001b[31mchr\u001b[39m  (1): ID\n",
      "\u001b[32mdbl\u001b[39m (25): ...1, UEB-0205, UEB-0208, UEB-0209, UEB-0210, UEB-0211, UEB-0212, ...\n",
      "\n",
      "\u001b[36mℹ\u001b[39m Use `spec()` to retrieve the full column specification for this data.\n",
      "\u001b[36mℹ\u001b[39m Specify the column types or set `show_col_types = FALSE` to quiet this message.\n"
     ]
    },
    {
     "data": {
      "text/html": [
       "<table class=\"dataframe\">\n",
       "<caption>A matrix: 6 × 24 of type chr</caption>\n",
       "<thead>\n",
       "\t<tr><th></th><th scope=col>UEB-0205</th><th scope=col>UEB-0208</th><th scope=col>UEB-0209</th><th scope=col>UEB-0210</th><th scope=col>UEB-0211</th><th scope=col>UEB-0212</th><th scope=col>UEB-0213</th><th scope=col>UEB-0214</th><th scope=col>UEB-0215</th><th scope=col>UEB-0217</th><th scope=col>⋯</th><th scope=col>UEB-0223</th><th scope=col>UEB-0226</th><th scope=col>UEB-0228</th><th scope=col>UEB-0230</th><th scope=col>UEB-0232</th><th scope=col>UEB-0233</th><th scope=col>UEB-0234</th><th scope=col>UEB-0235</th><th scope=col>UEB-0236</th><th scope=col>UEB-0237</th></tr>\n",
       "</thead>\n",
       "<tbody>\n",
       "\t<tr><th scope=row>AKT3</th><td>0</td><td>0</td><td>0</td><td>0</td><td>0</td><td>0</td><td>0</td><td>0</td><td>0</td><td>0</td><td>⋯</td><td>0</td><td>0</td><td>0</td><td>0</td><td>0</td><td>0</td><td>0</td><td>0</td><td>0</td><td>0</td></tr>\n",
       "\t<tr><th scope=row>AR</th><td>0</td><td>0</td><td>0</td><td>0</td><td>0</td><td>1</td><td>0</td><td>1</td><td>0</td><td>0</td><td>⋯</td><td>0</td><td>0</td><td>0</td><td>1</td><td>0</td><td>0</td><td>0</td><td>0</td><td>0</td><td>1</td></tr>\n",
       "\t<tr><th scope=row>ARHGAP35</th><td>0</td><td>0</td><td>0</td><td>0</td><td>0</td><td>0</td><td>0</td><td>0</td><td>0</td><td>0</td><td>⋯</td><td>0</td><td>0</td><td>0</td><td>0</td><td>0</td><td>0</td><td>0</td><td>0</td><td>0</td><td>0</td></tr>\n",
       "\t<tr><th scope=row>ARID1A</th><td>0</td><td>0</td><td>0</td><td>0</td><td>0</td><td>0</td><td>0</td><td>0</td><td>0</td><td>0</td><td>⋯</td><td>0</td><td>0</td><td>0</td><td>0</td><td>0</td><td>0</td><td>0</td><td>0</td><td>0</td><td>0</td></tr>\n",
       "\t<tr><th scope=row>ARID2</th><td>0</td><td>0</td><td>0</td><td>0</td><td>0</td><td>0</td><td>0</td><td>0</td><td>0</td><td>0</td><td>⋯</td><td>0</td><td>0</td><td>0</td><td>0</td><td>0</td><td>0</td><td>0</td><td>0</td><td>0</td><td>0</td></tr>\n",
       "\t<tr><th scope=row>ATRX</th><td>0</td><td>0</td><td>0</td><td>0</td><td>0</td><td>1</td><td>0</td><td>1</td><td>0</td><td>0</td><td>⋯</td><td>0</td><td>0</td><td>0</td><td>1</td><td>0</td><td>0</td><td>0</td><td>0</td><td>0</td><td>1</td></tr>\n",
       "</tbody>\n",
       "</table>\n"
      ],
      "text/latex": [
       "A matrix: 6 × 24 of type chr\n",
       "\\begin{tabular}{r|lllllllllllllllllllll}\n",
       "  & UEB-0205 & UEB-0208 & UEB-0209 & UEB-0210 & UEB-0211 & UEB-0212 & UEB-0213 & UEB-0214 & UEB-0215 & UEB-0217 & ⋯ & UEB-0223 & UEB-0226 & UEB-0228 & UEB-0230 & UEB-0232 & UEB-0233 & UEB-0234 & UEB-0235 & UEB-0236 & UEB-0237\\\\\n",
       "\\hline\n",
       "\tAKT3 & 0 & 0 & 0 & 0 & 0 & 0 & 0 & 0 & 0 & 0 & ⋯ & 0 & 0 & 0 & 0 & 0 & 0 & 0 & 0 & 0 & 0\\\\\n",
       "\tAR & 0 & 0 & 0 & 0 & 0 & 1 & 0 & 1 & 0 & 0 & ⋯ & 0 & 0 & 0 & 1 & 0 & 0 & 0 & 0 & 0 & 1\\\\\n",
       "\tARHGAP35 & 0 & 0 & 0 & 0 & 0 & 0 & 0 & 0 & 0 & 0 & ⋯ & 0 & 0 & 0 & 0 & 0 & 0 & 0 & 0 & 0 & 0\\\\\n",
       "\tARID1A & 0 & 0 & 0 & 0 & 0 & 0 & 0 & 0 & 0 & 0 & ⋯ & 0 & 0 & 0 & 0 & 0 & 0 & 0 & 0 & 0 & 0\\\\\n",
       "\tARID2 & 0 & 0 & 0 & 0 & 0 & 0 & 0 & 0 & 0 & 0 & ⋯ & 0 & 0 & 0 & 0 & 0 & 0 & 0 & 0 & 0 & 0\\\\\n",
       "\tATRX & 0 & 0 & 0 & 0 & 0 & 1 & 0 & 1 & 0 & 0 & ⋯ & 0 & 0 & 0 & 1 & 0 & 0 & 0 & 0 & 0 & 1\\\\\n",
       "\\end{tabular}\n"
      ],
      "text/markdown": [
       "\n",
       "A matrix: 6 × 24 of type chr\n",
       "\n",
       "| <!--/--> | UEB-0205 | UEB-0208 | UEB-0209 | UEB-0210 | UEB-0211 | UEB-0212 | UEB-0213 | UEB-0214 | UEB-0215 | UEB-0217 | ⋯ | UEB-0223 | UEB-0226 | UEB-0228 | UEB-0230 | UEB-0232 | UEB-0233 | UEB-0234 | UEB-0235 | UEB-0236 | UEB-0237 |\n",
       "|---|---|---|---|---|---|---|---|---|---|---|---|---|---|---|---|---|---|---|---|---|---|\n",
       "| AKT3 | 0 | 0 | 0 | 0 | 0 | 0 | 0 | 0 | 0 | 0 | ⋯ | 0 | 0 | 0 | 0 | 0 | 0 | 0 | 0 | 0 | 0 |\n",
       "| AR | 0 | 0 | 0 | 0 | 0 | 1 | 0 | 1 | 0 | 0 | ⋯ | 0 | 0 | 0 | 1 | 0 | 0 | 0 | 0 | 0 | 1 |\n",
       "| ARHGAP35 | 0 | 0 | 0 | 0 | 0 | 0 | 0 | 0 | 0 | 0 | ⋯ | 0 | 0 | 0 | 0 | 0 | 0 | 0 | 0 | 0 | 0 |\n",
       "| ARID1A | 0 | 0 | 0 | 0 | 0 | 0 | 0 | 0 | 0 | 0 | ⋯ | 0 | 0 | 0 | 0 | 0 | 0 | 0 | 0 | 0 | 0 |\n",
       "| ARID2 | 0 | 0 | 0 | 0 | 0 | 0 | 0 | 0 | 0 | 0 | ⋯ | 0 | 0 | 0 | 0 | 0 | 0 | 0 | 0 | 0 | 0 |\n",
       "| ATRX | 0 | 0 | 0 | 0 | 0 | 1 | 0 | 1 | 0 | 0 | ⋯ | 0 | 0 | 0 | 1 | 0 | 0 | 0 | 0 | 0 | 1 |\n",
       "\n"
      ],
      "text/plain": [
       "         UEB-0205 UEB-0208 UEB-0209 UEB-0210 UEB-0211 UEB-0212 UEB-0213\n",
       "AKT3     0        0        0        0        0        0        0       \n",
       "AR       0        0        0        0        0        1        0       \n",
       "ARHGAP35 0        0        0        0        0        0        0       \n",
       "ARID1A   0        0        0        0        0        0        0       \n",
       "ARID2    0        0        0        0        0        0        0       \n",
       "ATRX     0        0        0        0        0        1        0       \n",
       "         UEB-0214 UEB-0215 UEB-0217 ⋯ UEB-0223 UEB-0226 UEB-0228 UEB-0230\n",
       "AKT3     0        0        0        ⋯ 0        0        0        0       \n",
       "AR       1        0        0        ⋯ 0        0        0        1       \n",
       "ARHGAP35 0        0        0        ⋯ 0        0        0        0       \n",
       "ARID1A   0        0        0        ⋯ 0        0        0        0       \n",
       "ARID2    0        0        0        ⋯ 0        0        0        0       \n",
       "ATRX     1        0        0        ⋯ 0        0        0        1       \n",
       "         UEB-0232 UEB-0233 UEB-0234 UEB-0235 UEB-0236 UEB-0237\n",
       "AKT3     0        0        0        0        0        0       \n",
       "AR       0        0        0        0        0        1       \n",
       "ARHGAP35 0        0        0        0        0        0       \n",
       "ARID1A   0        0        0        0        0        0       \n",
       "ARID2    0        0        0        0        0        0       \n",
       "ATRX     0        0        0        0        0        1       "
      ]
     },
     "metadata": {},
     "output_type": "display_data"
    }
   ],
   "source": [
    "df_tumor = read_csv('/home/fer/Documents/cfDNA/OncoV6/Tumor_v6.csv')\n",
    "mat_tumor = as.matrix(df_tumor)\n",
    "mat_tumor[is.na(mat_tumor)] = \"\"\n",
    "mat_tumor <- mat_tumor[,-c(1)]\n",
    "rownames(mat_tumor) = mat_tumor[, 1]\n",
    "mat_tumor <- mat_tumor[,-c(1)]\n",
    "head(mat_tumor)"
   ]
  },
  {
   "cell_type": "code",
   "execution_count": 25,
   "id": "21b4dae2",
   "metadata": {},
   "outputs": [
    {
     "data": {
      "text/html": [
       "<table class=\"dataframe\">\n",
       "<caption>A matrix: 6 × 24 of type dbl</caption>\n",
       "<thead>\n",
       "\t<tr><th></th><th scope=col>UEB-0205</th><th scope=col>UEB-0208</th><th scope=col>UEB-0209</th><th scope=col>UEB-0210</th><th scope=col>UEB-0211</th><th scope=col>UEB-0212</th><th scope=col>UEB-0213</th><th scope=col>UEB-0214</th><th scope=col>UEB-0215</th><th scope=col>UEB-0217</th><th scope=col>⋯</th><th scope=col>UEB-0223</th><th scope=col>UEB-0226</th><th scope=col>UEB-0228</th><th scope=col>UEB-0230</th><th scope=col>UEB-0232</th><th scope=col>UEB-0233</th><th scope=col>UEB-0234</th><th scope=col>UEB-0235</th><th scope=col>UEB-0236</th><th scope=col>UEB-0237</th></tr>\n",
       "</thead>\n",
       "<tbody>\n",
       "\t<tr><th scope=row>AKT3</th><td>0</td><td>0</td><td>0</td><td>0</td><td>0</td><td>0</td><td>0</td><td>0</td><td>0</td><td>0</td><td>⋯</td><td>0</td><td>0</td><td>0</td><td>0</td><td>0</td><td>0</td><td>0</td><td>0</td><td>0</td><td>0</td></tr>\n",
       "\t<tr><th scope=row>AR</th><td>0</td><td>0</td><td>0</td><td>0</td><td>0</td><td>1</td><td>0</td><td>1</td><td>0</td><td>0</td><td>⋯</td><td>0</td><td>0</td><td>0</td><td>1</td><td>0</td><td>0</td><td>0</td><td>0</td><td>0</td><td>1</td></tr>\n",
       "\t<tr><th scope=row>ARHGAP35</th><td>0</td><td>0</td><td>0</td><td>0</td><td>0</td><td>0</td><td>0</td><td>0</td><td>0</td><td>0</td><td>⋯</td><td>0</td><td>0</td><td>0</td><td>0</td><td>0</td><td>0</td><td>0</td><td>0</td><td>0</td><td>0</td></tr>\n",
       "\t<tr><th scope=row>ARID1A</th><td>0</td><td>0</td><td>0</td><td>0</td><td>0</td><td>0</td><td>0</td><td>0</td><td>0</td><td>0</td><td>⋯</td><td>0</td><td>0</td><td>0</td><td>0</td><td>0</td><td>0</td><td>0</td><td>0</td><td>0</td><td>0</td></tr>\n",
       "\t<tr><th scope=row>ARID2</th><td>0</td><td>0</td><td>0</td><td>0</td><td>0</td><td>0</td><td>0</td><td>0</td><td>0</td><td>0</td><td>⋯</td><td>0</td><td>0</td><td>0</td><td>0</td><td>0</td><td>0</td><td>0</td><td>0</td><td>0</td><td>0</td></tr>\n",
       "\t<tr><th scope=row>ATRX</th><td>0</td><td>0</td><td>0</td><td>0</td><td>0</td><td>1</td><td>0</td><td>1</td><td>0</td><td>0</td><td>⋯</td><td>0</td><td>0</td><td>0</td><td>1</td><td>0</td><td>0</td><td>0</td><td>0</td><td>0</td><td>1</td></tr>\n",
       "</tbody>\n",
       "</table>\n"
      ],
      "text/latex": [
       "A matrix: 6 × 24 of type dbl\n",
       "\\begin{tabular}{r|lllllllllllllllllllll}\n",
       "  & UEB-0205 & UEB-0208 & UEB-0209 & UEB-0210 & UEB-0211 & UEB-0212 & UEB-0213 & UEB-0214 & UEB-0215 & UEB-0217 & ⋯ & UEB-0223 & UEB-0226 & UEB-0228 & UEB-0230 & UEB-0232 & UEB-0233 & UEB-0234 & UEB-0235 & UEB-0236 & UEB-0237\\\\\n",
       "\\hline\n",
       "\tAKT3 & 0 & 0 & 0 & 0 & 0 & 0 & 0 & 0 & 0 & 0 & ⋯ & 0 & 0 & 0 & 0 & 0 & 0 & 0 & 0 & 0 & 0\\\\\n",
       "\tAR & 0 & 0 & 0 & 0 & 0 & 1 & 0 & 1 & 0 & 0 & ⋯ & 0 & 0 & 0 & 1 & 0 & 0 & 0 & 0 & 0 & 1\\\\\n",
       "\tARHGAP35 & 0 & 0 & 0 & 0 & 0 & 0 & 0 & 0 & 0 & 0 & ⋯ & 0 & 0 & 0 & 0 & 0 & 0 & 0 & 0 & 0 & 0\\\\\n",
       "\tARID1A & 0 & 0 & 0 & 0 & 0 & 0 & 0 & 0 & 0 & 0 & ⋯ & 0 & 0 & 0 & 0 & 0 & 0 & 0 & 0 & 0 & 0\\\\\n",
       "\tARID2 & 0 & 0 & 0 & 0 & 0 & 0 & 0 & 0 & 0 & 0 & ⋯ & 0 & 0 & 0 & 0 & 0 & 0 & 0 & 0 & 0 & 0\\\\\n",
       "\tATRX & 0 & 0 & 0 & 0 & 0 & 1 & 0 & 1 & 0 & 0 & ⋯ & 0 & 0 & 0 & 1 & 0 & 0 & 0 & 0 & 0 & 1\\\\\n",
       "\\end{tabular}\n"
      ],
      "text/markdown": [
       "\n",
       "A matrix: 6 × 24 of type dbl\n",
       "\n",
       "| <!--/--> | UEB-0205 | UEB-0208 | UEB-0209 | UEB-0210 | UEB-0211 | UEB-0212 | UEB-0213 | UEB-0214 | UEB-0215 | UEB-0217 | ⋯ | UEB-0223 | UEB-0226 | UEB-0228 | UEB-0230 | UEB-0232 | UEB-0233 | UEB-0234 | UEB-0235 | UEB-0236 | UEB-0237 |\n",
       "|---|---|---|---|---|---|---|---|---|---|---|---|---|---|---|---|---|---|---|---|---|---|\n",
       "| AKT3 | 0 | 0 | 0 | 0 | 0 | 0 | 0 | 0 | 0 | 0 | ⋯ | 0 | 0 | 0 | 0 | 0 | 0 | 0 | 0 | 0 | 0 |\n",
       "| AR | 0 | 0 | 0 | 0 | 0 | 1 | 0 | 1 | 0 | 0 | ⋯ | 0 | 0 | 0 | 1 | 0 | 0 | 0 | 0 | 0 | 1 |\n",
       "| ARHGAP35 | 0 | 0 | 0 | 0 | 0 | 0 | 0 | 0 | 0 | 0 | ⋯ | 0 | 0 | 0 | 0 | 0 | 0 | 0 | 0 | 0 | 0 |\n",
       "| ARID1A | 0 | 0 | 0 | 0 | 0 | 0 | 0 | 0 | 0 | 0 | ⋯ | 0 | 0 | 0 | 0 | 0 | 0 | 0 | 0 | 0 | 0 |\n",
       "| ARID2 | 0 | 0 | 0 | 0 | 0 | 0 | 0 | 0 | 0 | 0 | ⋯ | 0 | 0 | 0 | 0 | 0 | 0 | 0 | 0 | 0 | 0 |\n",
       "| ATRX | 0 | 0 | 0 | 0 | 0 | 1 | 0 | 1 | 0 | 0 | ⋯ | 0 | 0 | 0 | 1 | 0 | 0 | 0 | 0 | 0 | 1 |\n",
       "\n"
      ],
      "text/plain": [
       "         UEB-0205 UEB-0208 UEB-0209 UEB-0210 UEB-0211 UEB-0212 UEB-0213\n",
       "AKT3     0        0        0        0        0        0        0       \n",
       "AR       0        0        0        0        0        1        0       \n",
       "ARHGAP35 0        0        0        0        0        0        0       \n",
       "ARID1A   0        0        0        0        0        0        0       \n",
       "ARID2    0        0        0        0        0        0        0       \n",
       "ATRX     0        0        0        0        0        1        0       \n",
       "         UEB-0214 UEB-0215 UEB-0217 ⋯ UEB-0223 UEB-0226 UEB-0228 UEB-0230\n",
       "AKT3     0        0        0        ⋯ 0        0        0        0       \n",
       "AR       1        0        0        ⋯ 0        0        0        1       \n",
       "ARHGAP35 0        0        0        ⋯ 0        0        0        0       \n",
       "ARID1A   0        0        0        ⋯ 0        0        0        0       \n",
       "ARID2    0        0        0        ⋯ 0        0        0        0       \n",
       "ATRX     1        0        0        ⋯ 0        0        0        1       \n",
       "         UEB-0232 UEB-0233 UEB-0234 UEB-0235 UEB-0236 UEB-0237\n",
       "AKT3     0        0        0        0        0        0       \n",
       "AR       0        0        0        0        0        1       \n",
       "ARHGAP35 0        0        0        0        0        0       \n",
       "ARID1A   0        0        0        0        0        0       \n",
       "ARID2    0        0        0        0        0        0       \n",
       "ATRX     0        0        0        0        0        1       "
      ]
     },
     "metadata": {},
     "output_type": "display_data"
    }
   ],
   "source": [
    "# pasar los numeros a numericos\n",
    "x_tum <- matrix (as.numeric(mat_tumor), ncol = 24)\n",
    "\n",
    "rownames(x_tum) <- rownames(mat_tumor)\n",
    "colnames(x_tum) <- colnames(mat_tumor)\n",
    "head(x_tum)"
   ]
  },
  {
   "cell_type": "code",
   "execution_count": 26,
   "id": "0dbf4aca",
   "metadata": {},
   "outputs": [
    {
     "name": "stderr",
     "output_type": "stream",
     "text": [
      "Warning message in cor(x_tum):\n",
      "“the standard deviation is zero”\n"
     ]
    },
    {
     "data": {
      "text/html": [
       "<table class=\"dataframe\">\n",
       "<caption>A matrix: 6 × 24 of type dbl</caption>\n",
       "<thead>\n",
       "\t<tr><th></th><th scope=col>UEB-0205</th><th scope=col>UEB-0208</th><th scope=col>UEB-0209</th><th scope=col>UEB-0210</th><th scope=col>UEB-0211</th><th scope=col>UEB-0212</th><th scope=col>UEB-0213</th><th scope=col>UEB-0214</th><th scope=col>UEB-0215</th><th scope=col>UEB-0217</th><th scope=col>⋯</th><th scope=col>UEB-0223</th><th scope=col>UEB-0226</th><th scope=col>UEB-0228</th><th scope=col>UEB-0230</th><th scope=col>UEB-0232</th><th scope=col>UEB-0233</th><th scope=col>UEB-0234</th><th scope=col>UEB-0235</th><th scope=col>UEB-0236</th><th scope=col>UEB-0237</th></tr>\n",
       "</thead>\n",
       "<tbody>\n",
       "\t<tr><th scope=row>UEB-0205</th><td> 1.00000000</td><td>-0.06455869</td><td> 0.3697610</td><td>-0.09363121</td><td>-0.1398453</td><td>-0.1821027</td><td>0</td><td> 0.59416044</td><td>-0.03667657</td><td>-0.1100297</td><td>⋯</td><td>0</td><td>0</td><td>0</td><td>-0.1469757</td><td> 0.3697610</td><td>-0.06455869</td><td> 0.16536213</td><td>-0.05228512</td><td>-0.05228512</td><td> 0.51613027</td></tr>\n",
       "\t<tr><th scope=row>UEB-0208</th><td>-0.06455869</td><td> 1.00000000</td><td>-0.1280369</td><td>-0.07132756</td><td>-0.1065331</td><td>-0.1387245</td><td>0</td><td>-0.08381981</td><td>-0.02793994</td><td> 0.1396997</td><td>⋯</td><td>0</td><td>0</td><td>0</td><td>-0.1119650</td><td>-0.1280369</td><td>-0.04918033</td><td>-0.05725983</td><td>-0.03983042</td><td>-0.03983042</td><td>-0.09543306</td></tr>\n",
       "\t<tr><th scope=row>UEB-0209</th><td> 0.36976095</td><td>-0.12803688</td><td> 1.0000000</td><td> 0.43328912</td><td> 0.8320503</td><td> 0.6019293</td><td>0</td><td> 0.21821789</td><td>-0.07273930</td><td>-0.2182179</td><td>⋯</td><td>0</td><td>0</td><td>0</td><td> 0.3363364</td><td> 1.0000000</td><td> 0.04267896</td><td> 0.14907120</td><td> 0.31108551</td><td> 0.31108551</td><td> 0.14907120</td></tr>\n",
       "\t<tr><th scope=row>UEB-0210</th><td>-0.09363121</td><td>-0.07132756</td><td> 0.4332891</td><td> 1.00000000</td><td> 0.5321937</td><td> 0.3949400</td><td>0</td><td>-0.12156613</td><td>-0.04052204</td><td>-0.1215661</td><td>⋯</td><td>0</td><td>0</td><td>0</td><td>-0.1623859</td><td> 0.4332891</td><td>-0.07132756</td><td> 0.35986375</td><td>-0.05776713</td><td>-0.05776713</td><td>-0.13840913</td></tr>\n",
       "\t<tr><th scope=row>UEB-0211</th><td>-0.13984532</td><td>-0.10653312</td><td> 0.8320503</td><td> 0.53219374</td><td> 1.0000000</td><td> 0.7679476</td><td>0</td><td>-0.18156826</td><td>-0.06052275</td><td>-0.1815683</td><td>⋯</td><td>0</td><td>0</td><td>0</td><td> 0.4539769</td><td> 0.8320503</td><td> 0.08285910</td><td> 0.20672456</td><td> 0.37387825</td><td> 0.37387825</td><td>-0.20672456</td></tr>\n",
       "\t<tr><th scope=row>UEB-0212</th><td>-0.18210268</td><td>-0.13872446</td><td> 0.6019293</td><td> 0.39493995</td><td> 0.7679476</td><td> 1.0000000</td><td>0</td><td> 0.18389243</td><td>-0.07881104</td><td>-0.2364331</td><td>⋯</td><td>0</td><td>0</td><td>0</td><td> 0.7207246</td><td> 0.6019293</td><td> 0.02568972</td><td> 0.12562244</td><td> 0.28711892</td><td> 0.28711892</td><td> 0.01794606</td></tr>\n",
       "</tbody>\n",
       "</table>\n"
      ],
      "text/latex": [
       "A matrix: 6 × 24 of type dbl\n",
       "\\begin{tabular}{r|lllllllllllllllllllll}\n",
       "  & UEB-0205 & UEB-0208 & UEB-0209 & UEB-0210 & UEB-0211 & UEB-0212 & UEB-0213 & UEB-0214 & UEB-0215 & UEB-0217 & ⋯ & UEB-0223 & UEB-0226 & UEB-0228 & UEB-0230 & UEB-0232 & UEB-0233 & UEB-0234 & UEB-0235 & UEB-0236 & UEB-0237\\\\\n",
       "\\hline\n",
       "\tUEB-0205 &  1.00000000 & -0.06455869 &  0.3697610 & -0.09363121 & -0.1398453 & -0.1821027 & 0 &  0.59416044 & -0.03667657 & -0.1100297 & ⋯ & 0 & 0 & 0 & -0.1469757 &  0.3697610 & -0.06455869 &  0.16536213 & -0.05228512 & -0.05228512 &  0.51613027\\\\\n",
       "\tUEB-0208 & -0.06455869 &  1.00000000 & -0.1280369 & -0.07132756 & -0.1065331 & -0.1387245 & 0 & -0.08381981 & -0.02793994 &  0.1396997 & ⋯ & 0 & 0 & 0 & -0.1119650 & -0.1280369 & -0.04918033 & -0.05725983 & -0.03983042 & -0.03983042 & -0.09543306\\\\\n",
       "\tUEB-0209 &  0.36976095 & -0.12803688 &  1.0000000 &  0.43328912 &  0.8320503 &  0.6019293 & 0 &  0.21821789 & -0.07273930 & -0.2182179 & ⋯ & 0 & 0 & 0 &  0.3363364 &  1.0000000 &  0.04267896 &  0.14907120 &  0.31108551 &  0.31108551 &  0.14907120\\\\\n",
       "\tUEB-0210 & -0.09363121 & -0.07132756 &  0.4332891 &  1.00000000 &  0.5321937 &  0.3949400 & 0 & -0.12156613 & -0.04052204 & -0.1215661 & ⋯ & 0 & 0 & 0 & -0.1623859 &  0.4332891 & -0.07132756 &  0.35986375 & -0.05776713 & -0.05776713 & -0.13840913\\\\\n",
       "\tUEB-0211 & -0.13984532 & -0.10653312 &  0.8320503 &  0.53219374 &  1.0000000 &  0.7679476 & 0 & -0.18156826 & -0.06052275 & -0.1815683 & ⋯ & 0 & 0 & 0 &  0.4539769 &  0.8320503 &  0.08285910 &  0.20672456 &  0.37387825 &  0.37387825 & -0.20672456\\\\\n",
       "\tUEB-0212 & -0.18210268 & -0.13872446 &  0.6019293 &  0.39493995 &  0.7679476 &  1.0000000 & 0 &  0.18389243 & -0.07881104 & -0.2364331 & ⋯ & 0 & 0 & 0 &  0.7207246 &  0.6019293 &  0.02568972 &  0.12562244 &  0.28711892 &  0.28711892 &  0.01794606\\\\\n",
       "\\end{tabular}\n"
      ],
      "text/markdown": [
       "\n",
       "A matrix: 6 × 24 of type dbl\n",
       "\n",
       "| <!--/--> | UEB-0205 | UEB-0208 | UEB-0209 | UEB-0210 | UEB-0211 | UEB-0212 | UEB-0213 | UEB-0214 | UEB-0215 | UEB-0217 | ⋯ | UEB-0223 | UEB-0226 | UEB-0228 | UEB-0230 | UEB-0232 | UEB-0233 | UEB-0234 | UEB-0235 | UEB-0236 | UEB-0237 |\n",
       "|---|---|---|---|---|---|---|---|---|---|---|---|---|---|---|---|---|---|---|---|---|---|\n",
       "| UEB-0205 |  1.00000000 | -0.06455869 |  0.3697610 | -0.09363121 | -0.1398453 | -0.1821027 | 0 |  0.59416044 | -0.03667657 | -0.1100297 | ⋯ | 0 | 0 | 0 | -0.1469757 |  0.3697610 | -0.06455869 |  0.16536213 | -0.05228512 | -0.05228512 |  0.51613027 |\n",
       "| UEB-0208 | -0.06455869 |  1.00000000 | -0.1280369 | -0.07132756 | -0.1065331 | -0.1387245 | 0 | -0.08381981 | -0.02793994 |  0.1396997 | ⋯ | 0 | 0 | 0 | -0.1119650 | -0.1280369 | -0.04918033 | -0.05725983 | -0.03983042 | -0.03983042 | -0.09543306 |\n",
       "| UEB-0209 |  0.36976095 | -0.12803688 |  1.0000000 |  0.43328912 |  0.8320503 |  0.6019293 | 0 |  0.21821789 | -0.07273930 | -0.2182179 | ⋯ | 0 | 0 | 0 |  0.3363364 |  1.0000000 |  0.04267896 |  0.14907120 |  0.31108551 |  0.31108551 |  0.14907120 |\n",
       "| UEB-0210 | -0.09363121 | -0.07132756 |  0.4332891 |  1.00000000 |  0.5321937 |  0.3949400 | 0 | -0.12156613 | -0.04052204 | -0.1215661 | ⋯ | 0 | 0 | 0 | -0.1623859 |  0.4332891 | -0.07132756 |  0.35986375 | -0.05776713 | -0.05776713 | -0.13840913 |\n",
       "| UEB-0211 | -0.13984532 | -0.10653312 |  0.8320503 |  0.53219374 |  1.0000000 |  0.7679476 | 0 | -0.18156826 | -0.06052275 | -0.1815683 | ⋯ | 0 | 0 | 0 |  0.4539769 |  0.8320503 |  0.08285910 |  0.20672456 |  0.37387825 |  0.37387825 | -0.20672456 |\n",
       "| UEB-0212 | -0.18210268 | -0.13872446 |  0.6019293 |  0.39493995 |  0.7679476 |  1.0000000 | 0 |  0.18389243 | -0.07881104 | -0.2364331 | ⋯ | 0 | 0 | 0 |  0.7207246 |  0.6019293 |  0.02568972 |  0.12562244 |  0.28711892 |  0.28711892 |  0.01794606 |\n",
       "\n"
      ],
      "text/plain": [
       "         UEB-0205    UEB-0208    UEB-0209   UEB-0210    UEB-0211   UEB-0212  \n",
       "UEB-0205  1.00000000 -0.06455869  0.3697610 -0.09363121 -0.1398453 -0.1821027\n",
       "UEB-0208 -0.06455869  1.00000000 -0.1280369 -0.07132756 -0.1065331 -0.1387245\n",
       "UEB-0209  0.36976095 -0.12803688  1.0000000  0.43328912  0.8320503  0.6019293\n",
       "UEB-0210 -0.09363121 -0.07132756  0.4332891  1.00000000  0.5321937  0.3949400\n",
       "UEB-0211 -0.13984532 -0.10653312  0.8320503  0.53219374  1.0000000  0.7679476\n",
       "UEB-0212 -0.18210268 -0.13872446  0.6019293  0.39493995  0.7679476  1.0000000\n",
       "         UEB-0213 UEB-0214    UEB-0215    UEB-0217   ⋯ UEB-0223 UEB-0226\n",
       "UEB-0205 0         0.59416044 -0.03667657 -0.1100297 ⋯ 0        0       \n",
       "UEB-0208 0        -0.08381981 -0.02793994  0.1396997 ⋯ 0        0       \n",
       "UEB-0209 0         0.21821789 -0.07273930 -0.2182179 ⋯ 0        0       \n",
       "UEB-0210 0        -0.12156613 -0.04052204 -0.1215661 ⋯ 0        0       \n",
       "UEB-0211 0        -0.18156826 -0.06052275 -0.1815683 ⋯ 0        0       \n",
       "UEB-0212 0         0.18389243 -0.07881104 -0.2364331 ⋯ 0        0       \n",
       "         UEB-0228 UEB-0230   UEB-0232   UEB-0233    UEB-0234    UEB-0235   \n",
       "UEB-0205 0        -0.1469757  0.3697610 -0.06455869  0.16536213 -0.05228512\n",
       "UEB-0208 0        -0.1119650 -0.1280369 -0.04918033 -0.05725983 -0.03983042\n",
       "UEB-0209 0         0.3363364  1.0000000  0.04267896  0.14907120  0.31108551\n",
       "UEB-0210 0        -0.1623859  0.4332891 -0.07132756  0.35986375 -0.05776713\n",
       "UEB-0211 0         0.4539769  0.8320503  0.08285910  0.20672456  0.37387825\n",
       "UEB-0212 0         0.7207246  0.6019293  0.02568972  0.12562244  0.28711892\n",
       "         UEB-0236    UEB-0237   \n",
       "UEB-0205 -0.05228512  0.51613027\n",
       "UEB-0208 -0.03983042 -0.09543306\n",
       "UEB-0209  0.31108551  0.14907120\n",
       "UEB-0210 -0.05776713 -0.13840913\n",
       "UEB-0211  0.37387825 -0.20672456\n",
       "UEB-0212  0.28711892  0.01794606"
      ]
     },
     "metadata": {},
     "output_type": "display_data"
    }
   ],
   "source": [
    "x_pearson <- cor(x_tum)\n",
    "# se reemplazan los 0 ya que no existen todos los sitios en todas las muestras, lo que hace que\n",
    "# hace que haya algunos NA\n",
    "x_pearson[is.na(x_pearson)] = 0\n",
    "head(x_pearson)"
   ]
  },
  {
   "cell_type": "code",
   "execution_count": 27,
   "id": "3ed9f57b",
   "metadata": {},
   "outputs": [
    {
     "data": {
      "text/html": [
       "<strong>png:</strong> 2"
      ],
      "text/latex": [
       "\\textbf{png:} 2"
      ],
      "text/markdown": [
       "**png:** 2"
      ],
      "text/plain": [
       "png \n",
       "  2 "
      ]
     },
     "metadata": {},
     "output_type": "display_data"
    }
   ],
   "source": [
    "options(repr.plot.width = 10, repr.plot.height = 10)\n",
    "pdf(\"/home/fer/PearsonTumor.pdf\", width = 10, height = 10)\n",
    "\n",
    "Heatmap(x_pearson, name='Pearson')\n",
    "dev.off()"
   ]
  },
  {
   "cell_type": "code",
   "execution_count": 28,
   "id": "c61bedc1",
   "metadata": {},
   "outputs": [
    {
     "name": "stderr",
     "output_type": "stream",
     "text": [
      "\u001b[1m\u001b[22mNew names:\n",
      "\u001b[36m•\u001b[39m `` -> `...1`\n",
      "\u001b[1mRows: \u001b[22m\u001b[34m64\u001b[39m \u001b[1mColumns: \u001b[22m\u001b[34m26\u001b[39m\n",
      "\u001b[36m──\u001b[39m \u001b[1mColumn specification\u001b[22m \u001b[36m────────────────────────────────────────────────────────\u001b[39m\n",
      "\u001b[1mDelimiter:\u001b[22m \",\"\n",
      "\u001b[31mchr\u001b[39m  (1): ID\n",
      "\u001b[32mdbl\u001b[39m (25): ...1, UEB-0205, UEB-0208, UEB-0209, UEB-0210, UEB-0211, UEB-0212, ...\n",
      "\n",
      "\u001b[36mℹ\u001b[39m Use `spec()` to retrieve the full column specification for this data.\n",
      "\u001b[36mℹ\u001b[39m Specify the column types or set `show_col_types = FALSE` to quiet this message.\n"
     ]
    },
    {
     "data": {
      "text/html": [
       "<table class=\"dataframe\">\n",
       "<caption>A matrix: 6 × 24 of type chr</caption>\n",
       "<thead>\n",
       "\t<tr><th></th><th scope=col>UEB-0205</th><th scope=col>UEB-0208</th><th scope=col>UEB-0209</th><th scope=col>UEB-0210</th><th scope=col>UEB-0211</th><th scope=col>UEB-0212</th><th scope=col>UEB-0213</th><th scope=col>UEB-0214</th><th scope=col>UEB-0215</th><th scope=col>UEB-0217</th><th scope=col>⋯</th><th scope=col>UEB-0223</th><th scope=col>UEB-0226</th><th scope=col>UEB-0228</th><th scope=col>UEB-0230</th><th scope=col>UEB-0232</th><th scope=col>UEB-0233</th><th scope=col>UEB-0234</th><th scope=col>UEB-0235</th><th scope=col>UEB-0236</th><th scope=col>UEB-0237</th></tr>\n",
       "</thead>\n",
       "<tbody>\n",
       "\t<tr><th scope=row>AKT3</th><td>0</td><td>0</td><td>0</td><td>0</td><td>0</td><td>0</td><td>0</td><td>1</td><td>0</td><td>1</td><td>⋯</td><td>0</td><td>0</td><td>0</td><td>0</td><td>0</td><td>0</td><td>0</td><td>0</td><td>0</td><td>0</td></tr>\n",
       "\t<tr><th scope=row>AR</th><td>0</td><td>0</td><td>0</td><td>0</td><td>0</td><td>0</td><td>0</td><td>0</td><td>0</td><td>0</td><td>⋯</td><td>0</td><td>0</td><td>0</td><td>0</td><td>0</td><td>0</td><td>0</td><td>0</td><td>0</td><td>0</td></tr>\n",
       "\t<tr><th scope=row>ARHGAP35</th><td>0</td><td>0</td><td>0</td><td>1</td><td>0</td><td>0</td><td>0</td><td>0</td><td>1</td><td>0</td><td>⋯</td><td>0</td><td>0</td><td>0</td><td>0</td><td>0</td><td>0</td><td>0</td><td>0</td><td>0</td><td>0</td></tr>\n",
       "\t<tr><th scope=row>ARID1A</th><td>0</td><td>0</td><td>0</td><td>0</td><td>0</td><td>0</td><td>0</td><td>1</td><td>0</td><td>1</td><td>⋯</td><td>0</td><td>0</td><td>0</td><td>0</td><td>0</td><td>0</td><td>0</td><td>0</td><td>0</td><td>0</td></tr>\n",
       "\t<tr><th scope=row>ARID2</th><td>0</td><td>0</td><td>0</td><td>0</td><td>0</td><td>0</td><td>0</td><td>0</td><td>0</td><td>0</td><td>⋯</td><td>0</td><td>0</td><td>0</td><td>0</td><td>0</td><td>0</td><td>0</td><td>0</td><td>0</td><td>0</td></tr>\n",
       "\t<tr><th scope=row>ATRX</th><td>0</td><td>0</td><td>0</td><td>0</td><td>0</td><td>0</td><td>0</td><td>0</td><td>0</td><td>0</td><td>⋯</td><td>0</td><td>0</td><td>0</td><td>0</td><td>0</td><td>0</td><td>0</td><td>0</td><td>0</td><td>0</td></tr>\n",
       "</tbody>\n",
       "</table>\n"
      ],
      "text/latex": [
       "A matrix: 6 × 24 of type chr\n",
       "\\begin{tabular}{r|lllllllllllllllllllll}\n",
       "  & UEB-0205 & UEB-0208 & UEB-0209 & UEB-0210 & UEB-0211 & UEB-0212 & UEB-0213 & UEB-0214 & UEB-0215 & UEB-0217 & ⋯ & UEB-0223 & UEB-0226 & UEB-0228 & UEB-0230 & UEB-0232 & UEB-0233 & UEB-0234 & UEB-0235 & UEB-0236 & UEB-0237\\\\\n",
       "\\hline\n",
       "\tAKT3 & 0 & 0 & 0 & 0 & 0 & 0 & 0 & 1 & 0 & 1 & ⋯ & 0 & 0 & 0 & 0 & 0 & 0 & 0 & 0 & 0 & 0\\\\\n",
       "\tAR & 0 & 0 & 0 & 0 & 0 & 0 & 0 & 0 & 0 & 0 & ⋯ & 0 & 0 & 0 & 0 & 0 & 0 & 0 & 0 & 0 & 0\\\\\n",
       "\tARHGAP35 & 0 & 0 & 0 & 1 & 0 & 0 & 0 & 0 & 1 & 0 & ⋯ & 0 & 0 & 0 & 0 & 0 & 0 & 0 & 0 & 0 & 0\\\\\n",
       "\tARID1A & 0 & 0 & 0 & 0 & 0 & 0 & 0 & 1 & 0 & 1 & ⋯ & 0 & 0 & 0 & 0 & 0 & 0 & 0 & 0 & 0 & 0\\\\\n",
       "\tARID2 & 0 & 0 & 0 & 0 & 0 & 0 & 0 & 0 & 0 & 0 & ⋯ & 0 & 0 & 0 & 0 & 0 & 0 & 0 & 0 & 0 & 0\\\\\n",
       "\tATRX & 0 & 0 & 0 & 0 & 0 & 0 & 0 & 0 & 0 & 0 & ⋯ & 0 & 0 & 0 & 0 & 0 & 0 & 0 & 0 & 0 & 0\\\\\n",
       "\\end{tabular}\n"
      ],
      "text/markdown": [
       "\n",
       "A matrix: 6 × 24 of type chr\n",
       "\n",
       "| <!--/--> | UEB-0205 | UEB-0208 | UEB-0209 | UEB-0210 | UEB-0211 | UEB-0212 | UEB-0213 | UEB-0214 | UEB-0215 | UEB-0217 | ⋯ | UEB-0223 | UEB-0226 | UEB-0228 | UEB-0230 | UEB-0232 | UEB-0233 | UEB-0234 | UEB-0235 | UEB-0236 | UEB-0237 |\n",
       "|---|---|---|---|---|---|---|---|---|---|---|---|---|---|---|---|---|---|---|---|---|---|\n",
       "| AKT3 | 0 | 0 | 0 | 0 | 0 | 0 | 0 | 1 | 0 | 1 | ⋯ | 0 | 0 | 0 | 0 | 0 | 0 | 0 | 0 | 0 | 0 |\n",
       "| AR | 0 | 0 | 0 | 0 | 0 | 0 | 0 | 0 | 0 | 0 | ⋯ | 0 | 0 | 0 | 0 | 0 | 0 | 0 | 0 | 0 | 0 |\n",
       "| ARHGAP35 | 0 | 0 | 0 | 1 | 0 | 0 | 0 | 0 | 1 | 0 | ⋯ | 0 | 0 | 0 | 0 | 0 | 0 | 0 | 0 | 0 | 0 |\n",
       "| ARID1A | 0 | 0 | 0 | 0 | 0 | 0 | 0 | 1 | 0 | 1 | ⋯ | 0 | 0 | 0 | 0 | 0 | 0 | 0 | 0 | 0 | 0 |\n",
       "| ARID2 | 0 | 0 | 0 | 0 | 0 | 0 | 0 | 0 | 0 | 0 | ⋯ | 0 | 0 | 0 | 0 | 0 | 0 | 0 | 0 | 0 | 0 |\n",
       "| ATRX | 0 | 0 | 0 | 0 | 0 | 0 | 0 | 0 | 0 | 0 | ⋯ | 0 | 0 | 0 | 0 | 0 | 0 | 0 | 0 | 0 | 0 |\n",
       "\n"
      ],
      "text/plain": [
       "         UEB-0205 UEB-0208 UEB-0209 UEB-0210 UEB-0211 UEB-0212 UEB-0213\n",
       "AKT3     0        0        0        0        0        0        0       \n",
       "AR       0        0        0        0        0        0        0       \n",
       "ARHGAP35 0        0        0        1        0        0        0       \n",
       "ARID1A   0        0        0        0        0        0        0       \n",
       "ARID2    0        0        0        0        0        0        0       \n",
       "ATRX     0        0        0        0        0        0        0       \n",
       "         UEB-0214 UEB-0215 UEB-0217 ⋯ UEB-0223 UEB-0226 UEB-0228 UEB-0230\n",
       "AKT3     1        0        1        ⋯ 0        0        0        0       \n",
       "AR       0        0        0        ⋯ 0        0        0        0       \n",
       "ARHGAP35 0        1        0        ⋯ 0        0        0        0       \n",
       "ARID1A   1        0        1        ⋯ 0        0        0        0       \n",
       "ARID2    0        0        0        ⋯ 0        0        0        0       \n",
       "ATRX     0        0        0        ⋯ 0        0        0        0       \n",
       "         UEB-0232 UEB-0233 UEB-0234 UEB-0235 UEB-0236 UEB-0237\n",
       "AKT3     0        0        0        0        0        0       \n",
       "AR       0        0        0        0        0        0       \n",
       "ARHGAP35 0        0        0        0        0        0       \n",
       "ARID1A   0        0        0        0        0        0       \n",
       "ARID2    0        0        0        0        0        0       \n",
       "ATRX     0        0        0        0        0        0       "
      ]
     },
     "metadata": {},
     "output_type": "display_data"
    }
   ],
   "source": [
    "df_cfDNA = read_csv('/home/fer/Documents/cfDNA/OncoV6/cfDNA_v6.csv')\n",
    "mat_cfDNA = as.matrix(df_cfDNA)\n",
    "mat_cfDNA[is.na(mat_cfDNA)] = \"\"\n",
    "mat_cfDNA <- mat_cfDNA[,-c(1)]\n",
    "rownames(mat_cfDNA) = mat_cfDNA[, 1]\n",
    "mat_cfDNA <- mat_cfDNA[,-c(1)]\n",
    "head(mat_cfDNA)"
   ]
  },
  {
   "cell_type": "code",
   "execution_count": 29,
   "id": "6b771dfc",
   "metadata": {},
   "outputs": [
    {
     "data": {
      "text/html": [
       "<table class=\"dataframe\">\n",
       "<caption>A matrix: 6 × 24 of type dbl</caption>\n",
       "<thead>\n",
       "\t<tr><th></th><th scope=col>UEB-0205</th><th scope=col>UEB-0208</th><th scope=col>UEB-0209</th><th scope=col>UEB-0210</th><th scope=col>UEB-0211</th><th scope=col>UEB-0212</th><th scope=col>UEB-0213</th><th scope=col>UEB-0214</th><th scope=col>UEB-0215</th><th scope=col>UEB-0217</th><th scope=col>⋯</th><th scope=col>UEB-0223</th><th scope=col>UEB-0226</th><th scope=col>UEB-0228</th><th scope=col>UEB-0230</th><th scope=col>UEB-0232</th><th scope=col>UEB-0233</th><th scope=col>UEB-0234</th><th scope=col>UEB-0235</th><th scope=col>UEB-0236</th><th scope=col>UEB-0237</th></tr>\n",
       "</thead>\n",
       "<tbody>\n",
       "\t<tr><th scope=row>AKT3</th><td>0</td><td>0</td><td>0</td><td>0</td><td>0</td><td>0</td><td>0</td><td>1</td><td>0</td><td>1</td><td>⋯</td><td>0</td><td>0</td><td>0</td><td>0</td><td>0</td><td>0</td><td>0</td><td>0</td><td>0</td><td>0</td></tr>\n",
       "\t<tr><th scope=row>AR</th><td>0</td><td>0</td><td>0</td><td>0</td><td>0</td><td>0</td><td>0</td><td>0</td><td>0</td><td>0</td><td>⋯</td><td>0</td><td>0</td><td>0</td><td>0</td><td>0</td><td>0</td><td>0</td><td>0</td><td>0</td><td>0</td></tr>\n",
       "\t<tr><th scope=row>ARHGAP35</th><td>0</td><td>0</td><td>0</td><td>1</td><td>0</td><td>0</td><td>0</td><td>0</td><td>1</td><td>0</td><td>⋯</td><td>0</td><td>0</td><td>0</td><td>0</td><td>0</td><td>0</td><td>0</td><td>0</td><td>0</td><td>0</td></tr>\n",
       "\t<tr><th scope=row>ARID1A</th><td>0</td><td>0</td><td>0</td><td>0</td><td>0</td><td>0</td><td>0</td><td>1</td><td>0</td><td>1</td><td>⋯</td><td>0</td><td>0</td><td>0</td><td>0</td><td>0</td><td>0</td><td>0</td><td>0</td><td>0</td><td>0</td></tr>\n",
       "\t<tr><th scope=row>ARID2</th><td>0</td><td>0</td><td>0</td><td>0</td><td>0</td><td>0</td><td>0</td><td>0</td><td>0</td><td>0</td><td>⋯</td><td>0</td><td>0</td><td>0</td><td>0</td><td>0</td><td>0</td><td>0</td><td>0</td><td>0</td><td>0</td></tr>\n",
       "\t<tr><th scope=row>ATRX</th><td>0</td><td>0</td><td>0</td><td>0</td><td>0</td><td>0</td><td>0</td><td>0</td><td>0</td><td>0</td><td>⋯</td><td>0</td><td>0</td><td>0</td><td>0</td><td>0</td><td>0</td><td>0</td><td>0</td><td>0</td><td>0</td></tr>\n",
       "</tbody>\n",
       "</table>\n"
      ],
      "text/latex": [
       "A matrix: 6 × 24 of type dbl\n",
       "\\begin{tabular}{r|lllllllllllllllllllll}\n",
       "  & UEB-0205 & UEB-0208 & UEB-0209 & UEB-0210 & UEB-0211 & UEB-0212 & UEB-0213 & UEB-0214 & UEB-0215 & UEB-0217 & ⋯ & UEB-0223 & UEB-0226 & UEB-0228 & UEB-0230 & UEB-0232 & UEB-0233 & UEB-0234 & UEB-0235 & UEB-0236 & UEB-0237\\\\\n",
       "\\hline\n",
       "\tAKT3 & 0 & 0 & 0 & 0 & 0 & 0 & 0 & 1 & 0 & 1 & ⋯ & 0 & 0 & 0 & 0 & 0 & 0 & 0 & 0 & 0 & 0\\\\\n",
       "\tAR & 0 & 0 & 0 & 0 & 0 & 0 & 0 & 0 & 0 & 0 & ⋯ & 0 & 0 & 0 & 0 & 0 & 0 & 0 & 0 & 0 & 0\\\\\n",
       "\tARHGAP35 & 0 & 0 & 0 & 1 & 0 & 0 & 0 & 0 & 1 & 0 & ⋯ & 0 & 0 & 0 & 0 & 0 & 0 & 0 & 0 & 0 & 0\\\\\n",
       "\tARID1A & 0 & 0 & 0 & 0 & 0 & 0 & 0 & 1 & 0 & 1 & ⋯ & 0 & 0 & 0 & 0 & 0 & 0 & 0 & 0 & 0 & 0\\\\\n",
       "\tARID2 & 0 & 0 & 0 & 0 & 0 & 0 & 0 & 0 & 0 & 0 & ⋯ & 0 & 0 & 0 & 0 & 0 & 0 & 0 & 0 & 0 & 0\\\\\n",
       "\tATRX & 0 & 0 & 0 & 0 & 0 & 0 & 0 & 0 & 0 & 0 & ⋯ & 0 & 0 & 0 & 0 & 0 & 0 & 0 & 0 & 0 & 0\\\\\n",
       "\\end{tabular}\n"
      ],
      "text/markdown": [
       "\n",
       "A matrix: 6 × 24 of type dbl\n",
       "\n",
       "| <!--/--> | UEB-0205 | UEB-0208 | UEB-0209 | UEB-0210 | UEB-0211 | UEB-0212 | UEB-0213 | UEB-0214 | UEB-0215 | UEB-0217 | ⋯ | UEB-0223 | UEB-0226 | UEB-0228 | UEB-0230 | UEB-0232 | UEB-0233 | UEB-0234 | UEB-0235 | UEB-0236 | UEB-0237 |\n",
       "|---|---|---|---|---|---|---|---|---|---|---|---|---|---|---|---|---|---|---|---|---|---|\n",
       "| AKT3 | 0 | 0 | 0 | 0 | 0 | 0 | 0 | 1 | 0 | 1 | ⋯ | 0 | 0 | 0 | 0 | 0 | 0 | 0 | 0 | 0 | 0 |\n",
       "| AR | 0 | 0 | 0 | 0 | 0 | 0 | 0 | 0 | 0 | 0 | ⋯ | 0 | 0 | 0 | 0 | 0 | 0 | 0 | 0 | 0 | 0 |\n",
       "| ARHGAP35 | 0 | 0 | 0 | 1 | 0 | 0 | 0 | 0 | 1 | 0 | ⋯ | 0 | 0 | 0 | 0 | 0 | 0 | 0 | 0 | 0 | 0 |\n",
       "| ARID1A | 0 | 0 | 0 | 0 | 0 | 0 | 0 | 1 | 0 | 1 | ⋯ | 0 | 0 | 0 | 0 | 0 | 0 | 0 | 0 | 0 | 0 |\n",
       "| ARID2 | 0 | 0 | 0 | 0 | 0 | 0 | 0 | 0 | 0 | 0 | ⋯ | 0 | 0 | 0 | 0 | 0 | 0 | 0 | 0 | 0 | 0 |\n",
       "| ATRX | 0 | 0 | 0 | 0 | 0 | 0 | 0 | 0 | 0 | 0 | ⋯ | 0 | 0 | 0 | 0 | 0 | 0 | 0 | 0 | 0 | 0 |\n",
       "\n"
      ],
      "text/plain": [
       "         UEB-0205 UEB-0208 UEB-0209 UEB-0210 UEB-0211 UEB-0212 UEB-0213\n",
       "AKT3     0        0        0        0        0        0        0       \n",
       "AR       0        0        0        0        0        0        0       \n",
       "ARHGAP35 0        0        0        1        0        0        0       \n",
       "ARID1A   0        0        0        0        0        0        0       \n",
       "ARID2    0        0        0        0        0        0        0       \n",
       "ATRX     0        0        0        0        0        0        0       \n",
       "         UEB-0214 UEB-0215 UEB-0217 ⋯ UEB-0223 UEB-0226 UEB-0228 UEB-0230\n",
       "AKT3     1        0        1        ⋯ 0        0        0        0       \n",
       "AR       0        0        0        ⋯ 0        0        0        0       \n",
       "ARHGAP35 0        1        0        ⋯ 0        0        0        0       \n",
       "ARID1A   1        0        1        ⋯ 0        0        0        0       \n",
       "ARID2    0        0        0        ⋯ 0        0        0        0       \n",
       "ATRX     0        0        0        ⋯ 0        0        0        0       \n",
       "         UEB-0232 UEB-0233 UEB-0234 UEB-0235 UEB-0236 UEB-0237\n",
       "AKT3     0        0        0        0        0        0       \n",
       "AR       0        0        0        0        0        0       \n",
       "ARHGAP35 0        0        0        0        0        0       \n",
       "ARID1A   0        0        0        0        0        0       \n",
       "ARID2    0        0        0        0        0        0       \n",
       "ATRX     0        0        0        0        0        0       "
      ]
     },
     "metadata": {},
     "output_type": "display_data"
    }
   ],
   "source": [
    "# pasar los numeros a numericos\n",
    "x_cfDNA <- matrix (as.numeric(mat_cfDNA), ncol = 24)\n",
    "\n",
    "rownames(x_cfDNA) <- rownames(mat_cfDNA)\n",
    "colnames(x_cfDNA) <- colnames(mat_cfDNA)\n",
    "head(x_cfDNA)"
   ]
  },
  {
   "cell_type": "code",
   "execution_count": 30,
   "id": "66a0c335",
   "metadata": {},
   "outputs": [
    {
     "name": "stderr",
     "output_type": "stream",
     "text": [
      "Warning message in cor(x_cfDNA):\n",
      "“the standard deviation is zero”\n"
     ]
    },
    {
     "data": {
      "text/html": [
       "<table class=\"dataframe\">\n",
       "<caption>A matrix: 6 × 24 of type dbl</caption>\n",
       "<thead>\n",
       "\t<tr><th></th><th scope=col>UEB-0205</th><th scope=col>UEB-0208</th><th scope=col>UEB-0209</th><th scope=col>UEB-0210</th><th scope=col>UEB-0211</th><th scope=col>UEB-0212</th><th scope=col>UEB-0213</th><th scope=col>UEB-0214</th><th scope=col>UEB-0215</th><th scope=col>UEB-0217</th><th scope=col>⋯</th><th scope=col>UEB-0223</th><th scope=col>UEB-0226</th><th scope=col>UEB-0228</th><th scope=col>UEB-0230</th><th scope=col>UEB-0232</th><th scope=col>UEB-0233</th><th scope=col>UEB-0234</th><th scope=col>UEB-0235</th><th scope=col>UEB-0236</th><th scope=col>UEB-0237</th></tr>\n",
       "</thead>\n",
       "<tbody>\n",
       "\t<tr><th scope=row>UEB-0205</th><td>1</td><td> 0.00000000</td><td>0.0000000</td><td> 0.00000000</td><td> 0.00000000</td><td>0</td><td> 0.00000000</td><td> 0.00000000</td><td> 0.00000000</td><td> 0.00000000</td><td>⋯</td><td> 0.00000000</td><td> 0.00000000</td><td> 0.00000000</td><td>0</td><td>0</td><td>0</td><td>0</td><td>0</td><td>0</td><td>0</td></tr>\n",
       "\t<tr><th scope=row>UEB-0208</th><td>0</td><td> 1.00000000</td><td>0.3333333</td><td>-0.06666667</td><td>-0.04415108</td><td>0</td><td> 0.56811207</td><td>-0.05421667</td><td>-0.04415108</td><td>-0.06360867</td><td>⋯</td><td> 0.70147237</td><td> 1.00000000</td><td>-0.04415108</td><td>0</td><td>0</td><td>0</td><td>0</td><td>0</td><td>0</td><td>0</td></tr>\n",
       "\t<tr><th scope=row>UEB-0209</th><td>0</td><td> 0.33333333</td><td>1.0000000</td><td> 0.60000000</td><td> 0.92717265</td><td>0</td><td> 0.13969969</td><td> 0.74819006</td><td>-0.13245324</td><td> 0.63119372</td><td>⋯</td><td> 0.20365327</td><td> 0.33333333</td><td> 0.92717265</td><td>0</td><td>0</td><td>0</td><td>0</td><td>0</td><td>0</td><td>0</td></tr>\n",
       "\t<tr><th scope=row>UEB-0210</th><td>0</td><td>-0.06666667</td><td>0.6000000</td><td> 1.00000000</td><td> 0.66226618</td><td>0</td><td>-0.11734774</td><td> 0.50096204</td><td> 0.66226618</td><td> 0.39045937</td><td>⋯</td><td>-0.09503819</td><td>-0.06666667</td><td> 0.66226618</td><td>0</td><td>0</td><td>0</td><td>0</td><td>0</td><td>0</td><td>0</td></tr>\n",
       "\t<tr><th scope=row>UEB-0211</th><td>0</td><td>-0.04415108</td><td>0.9271726</td><td> 0.66226618</td><td> 1.00000000</td><td>0</td><td>-0.07771544</td><td> 0.81434507</td><td>-0.12280702</td><td> 0.69410473</td><td>⋯</td><td>-0.06294058</td><td>-0.04415108</td><td> 1.00000000</td><td>0</td><td>0</td><td>0</td><td>0</td><td>0</td><td>0</td><td>0</td></tr>\n",
       "\t<tr><th scope=row>UEB-0212</th><td>0</td><td> 0.00000000</td><td>0.0000000</td><td> 0.00000000</td><td> 0.00000000</td><td>1</td><td> 0.00000000</td><td> 0.00000000</td><td> 0.00000000</td><td> 0.00000000</td><td>⋯</td><td> 0.00000000</td><td> 0.00000000</td><td> 0.00000000</td><td>0</td><td>0</td><td>0</td><td>0</td><td>0</td><td>0</td><td>0</td></tr>\n",
       "</tbody>\n",
       "</table>\n"
      ],
      "text/latex": [
       "A matrix: 6 × 24 of type dbl\n",
       "\\begin{tabular}{r|lllllllllllllllllllll}\n",
       "  & UEB-0205 & UEB-0208 & UEB-0209 & UEB-0210 & UEB-0211 & UEB-0212 & UEB-0213 & UEB-0214 & UEB-0215 & UEB-0217 & ⋯ & UEB-0223 & UEB-0226 & UEB-0228 & UEB-0230 & UEB-0232 & UEB-0233 & UEB-0234 & UEB-0235 & UEB-0236 & UEB-0237\\\\\n",
       "\\hline\n",
       "\tUEB-0205 & 1 &  0.00000000 & 0.0000000 &  0.00000000 &  0.00000000 & 0 &  0.00000000 &  0.00000000 &  0.00000000 &  0.00000000 & ⋯ &  0.00000000 &  0.00000000 &  0.00000000 & 0 & 0 & 0 & 0 & 0 & 0 & 0\\\\\n",
       "\tUEB-0208 & 0 &  1.00000000 & 0.3333333 & -0.06666667 & -0.04415108 & 0 &  0.56811207 & -0.05421667 & -0.04415108 & -0.06360867 & ⋯ &  0.70147237 &  1.00000000 & -0.04415108 & 0 & 0 & 0 & 0 & 0 & 0 & 0\\\\\n",
       "\tUEB-0209 & 0 &  0.33333333 & 1.0000000 &  0.60000000 &  0.92717265 & 0 &  0.13969969 &  0.74819006 & -0.13245324 &  0.63119372 & ⋯ &  0.20365327 &  0.33333333 &  0.92717265 & 0 & 0 & 0 & 0 & 0 & 0 & 0\\\\\n",
       "\tUEB-0210 & 0 & -0.06666667 & 0.6000000 &  1.00000000 &  0.66226618 & 0 & -0.11734774 &  0.50096204 &  0.66226618 &  0.39045937 & ⋯ & -0.09503819 & -0.06666667 &  0.66226618 & 0 & 0 & 0 & 0 & 0 & 0 & 0\\\\\n",
       "\tUEB-0211 & 0 & -0.04415108 & 0.9271726 &  0.66226618 &  1.00000000 & 0 & -0.07771544 &  0.81434507 & -0.12280702 &  0.69410473 & ⋯ & -0.06294058 & -0.04415108 &  1.00000000 & 0 & 0 & 0 & 0 & 0 & 0 & 0\\\\\n",
       "\tUEB-0212 & 0 &  0.00000000 & 0.0000000 &  0.00000000 &  0.00000000 & 1 &  0.00000000 &  0.00000000 &  0.00000000 &  0.00000000 & ⋯ &  0.00000000 &  0.00000000 &  0.00000000 & 0 & 0 & 0 & 0 & 0 & 0 & 0\\\\\n",
       "\\end{tabular}\n"
      ],
      "text/markdown": [
       "\n",
       "A matrix: 6 × 24 of type dbl\n",
       "\n",
       "| <!--/--> | UEB-0205 | UEB-0208 | UEB-0209 | UEB-0210 | UEB-0211 | UEB-0212 | UEB-0213 | UEB-0214 | UEB-0215 | UEB-0217 | ⋯ | UEB-0223 | UEB-0226 | UEB-0228 | UEB-0230 | UEB-0232 | UEB-0233 | UEB-0234 | UEB-0235 | UEB-0236 | UEB-0237 |\n",
       "|---|---|---|---|---|---|---|---|---|---|---|---|---|---|---|---|---|---|---|---|---|---|\n",
       "| UEB-0205 | 1 |  0.00000000 | 0.0000000 |  0.00000000 |  0.00000000 | 0 |  0.00000000 |  0.00000000 |  0.00000000 |  0.00000000 | ⋯ |  0.00000000 |  0.00000000 |  0.00000000 | 0 | 0 | 0 | 0 | 0 | 0 | 0 |\n",
       "| UEB-0208 | 0 |  1.00000000 | 0.3333333 | -0.06666667 | -0.04415108 | 0 |  0.56811207 | -0.05421667 | -0.04415108 | -0.06360867 | ⋯ |  0.70147237 |  1.00000000 | -0.04415108 | 0 | 0 | 0 | 0 | 0 | 0 | 0 |\n",
       "| UEB-0209 | 0 |  0.33333333 | 1.0000000 |  0.60000000 |  0.92717265 | 0 |  0.13969969 |  0.74819006 | -0.13245324 |  0.63119372 | ⋯ |  0.20365327 |  0.33333333 |  0.92717265 | 0 | 0 | 0 | 0 | 0 | 0 | 0 |\n",
       "| UEB-0210 | 0 | -0.06666667 | 0.6000000 |  1.00000000 |  0.66226618 | 0 | -0.11734774 |  0.50096204 |  0.66226618 |  0.39045937 | ⋯ | -0.09503819 | -0.06666667 |  0.66226618 | 0 | 0 | 0 | 0 | 0 | 0 | 0 |\n",
       "| UEB-0211 | 0 | -0.04415108 | 0.9271726 |  0.66226618 |  1.00000000 | 0 | -0.07771544 |  0.81434507 | -0.12280702 |  0.69410473 | ⋯ | -0.06294058 | -0.04415108 |  1.00000000 | 0 | 0 | 0 | 0 | 0 | 0 | 0 |\n",
       "| UEB-0212 | 0 |  0.00000000 | 0.0000000 |  0.00000000 |  0.00000000 | 1 |  0.00000000 |  0.00000000 |  0.00000000 |  0.00000000 | ⋯ |  0.00000000 |  0.00000000 |  0.00000000 | 0 | 0 | 0 | 0 | 0 | 0 | 0 |\n",
       "\n"
      ],
      "text/plain": [
       "         UEB-0205 UEB-0208    UEB-0209  UEB-0210    UEB-0211    UEB-0212\n",
       "UEB-0205 1         0.00000000 0.0000000  0.00000000  0.00000000 0       \n",
       "UEB-0208 0         1.00000000 0.3333333 -0.06666667 -0.04415108 0       \n",
       "UEB-0209 0         0.33333333 1.0000000  0.60000000  0.92717265 0       \n",
       "UEB-0210 0        -0.06666667 0.6000000  1.00000000  0.66226618 0       \n",
       "UEB-0211 0        -0.04415108 0.9271726  0.66226618  1.00000000 0       \n",
       "UEB-0212 0         0.00000000 0.0000000  0.00000000  0.00000000 1       \n",
       "         UEB-0213    UEB-0214    UEB-0215    UEB-0217    ⋯ UEB-0223   \n",
       "UEB-0205  0.00000000  0.00000000  0.00000000  0.00000000 ⋯  0.00000000\n",
       "UEB-0208  0.56811207 -0.05421667 -0.04415108 -0.06360867 ⋯  0.70147237\n",
       "UEB-0209  0.13969969  0.74819006 -0.13245324  0.63119372 ⋯  0.20365327\n",
       "UEB-0210 -0.11734774  0.50096204  0.66226618  0.39045937 ⋯ -0.09503819\n",
       "UEB-0211 -0.07771544  0.81434507 -0.12280702  0.69410473 ⋯ -0.06294058\n",
       "UEB-0212  0.00000000  0.00000000  0.00000000  0.00000000 ⋯  0.00000000\n",
       "         UEB-0226    UEB-0228    UEB-0230 UEB-0232 UEB-0233 UEB-0234 UEB-0235\n",
       "UEB-0205  0.00000000  0.00000000 0        0        0        0        0       \n",
       "UEB-0208  1.00000000 -0.04415108 0        0        0        0        0       \n",
       "UEB-0209  0.33333333  0.92717265 0        0        0        0        0       \n",
       "UEB-0210 -0.06666667  0.66226618 0        0        0        0        0       \n",
       "UEB-0211 -0.04415108  1.00000000 0        0        0        0        0       \n",
       "UEB-0212  0.00000000  0.00000000 0        0        0        0        0       \n",
       "         UEB-0236 UEB-0237\n",
       "UEB-0205 0        0       \n",
       "UEB-0208 0        0       \n",
       "UEB-0209 0        0       \n",
       "UEB-0210 0        0       \n",
       "UEB-0211 0        0       \n",
       "UEB-0212 0        0       "
      ]
     },
     "metadata": {},
     "output_type": "display_data"
    }
   ],
   "source": [
    "x_pearson <- cor(x_cfDNA)\n",
    "# se reemplazan los 0 ya que no existen todos los sitios en todas las muestras, lo que hace que\n",
    "# hace que haya algunos NA\n",
    "x_pearson[is.na(x_pearson)] = 0\n",
    "head(x_pearson)"
   ]
  },
  {
   "cell_type": "code",
   "execution_count": 31,
   "id": "6ebf1734",
   "metadata": {},
   "outputs": [
    {
     "data": {
      "text/html": [
       "<strong>png:</strong> 2"
      ],
      "text/latex": [
       "\\textbf{png:} 2"
      ],
      "text/markdown": [
       "**png:** 2"
      ],
      "text/plain": [
       "png \n",
       "  2 "
      ]
     },
     "metadata": {},
     "output_type": "display_data"
    }
   ],
   "source": [
    "options(repr.plot.width = 10, repr.plot.height = 10)\n",
    "pdf(\"/home/fer/PearsoncfDNA.pdf\", width = 10, height = 10)\n",
    "\n",
    "Heatmap(x_pearson, name='Pearson')\n",
    "dev.off()"
   ]
  },
  {
   "cell_type": "markdown",
   "id": "3a0efaf3",
   "metadata": {},
   "source": [
    "# Comparative matrix"
   ]
  },
  {
   "cell_type": "code",
   "execution_count": 32,
   "id": "58f252e3",
   "metadata": {},
   "outputs": [
    {
     "name": "stderr",
     "output_type": "stream",
     "text": [
      "Warning message in cor(x_cfDNA, x_tum):\n",
      "“the standard deviation is zero”\n"
     ]
    },
    {
     "data": {
      "text/html": [
       "<table class=\"dataframe\">\n",
       "<caption>A matrix: 24 × 24 of type dbl</caption>\n",
       "<thead>\n",
       "\t<tr><th></th><th scope=col>UEB-0205</th><th scope=col>UEB-0208</th><th scope=col>UEB-0209</th><th scope=col>UEB-0210</th><th scope=col>UEB-0211</th><th scope=col>UEB-0212</th><th scope=col>UEB-0213</th><th scope=col>UEB-0214</th><th scope=col>UEB-0215</th><th scope=col>UEB-0217</th><th scope=col>⋯</th><th scope=col>UEB-0223</th><th scope=col>UEB-0226</th><th scope=col>UEB-0228</th><th scope=col>UEB-0230</th><th scope=col>UEB-0232</th><th scope=col>UEB-0233</th><th scope=col>UEB-0234</th><th scope=col>UEB-0235</th><th scope=col>UEB-0236</th><th scope=col>UEB-0237</th></tr>\n",
       "</thead>\n",
       "<tbody>\n",
       "\t<tr><th scope=row>UEB-0205</th><td>         NA</td><td>         NA</td><td>         NA</td><td>         NA</td><td>         NA</td><td>          NA</td><td>NA</td><td>         NA</td><td>         NA</td><td>         NA</td><td>⋯</td><td>NA</td><td>NA</td><td>NA</td><td>         NA</td><td>         NA</td><td>         NA</td><td>         NA</td><td>         NA</td><td>         NA</td><td>         NA</td></tr>\n",
       "\t<tr><th scope=row>UEB-0208</th><td> 0.43278353</td><td>-0.02793994</td><td>-0.07273930</td><td>-0.04052204</td><td>-0.06052275</td><td>-0.078811041</td><td>NA</td><td>-0.04761905</td><td>-0.01587302</td><td>-0.04761905</td><td>⋯</td><td>NA</td><td>NA</td><td>NA</td><td>-0.06360867</td><td>-0.07273930</td><td>-0.02793994</td><td> 0.48795004</td><td>-0.02262814</td><td>-0.02262814</td><td>-0.05421667</td></tr>\n",
       "\t<tr><th scope=row>UEB-0209</th><td> 0.06601783</td><td>-0.08381981</td><td> 0.43643578</td><td> 0.36469840</td><td> 0.54470478</td><td> 0.394055203</td><td>NA</td><td>-0.14285714</td><td>-0.04761905</td><td>-0.14285714</td><td>⋯</td><td>NA</td><td>NA</td><td>NA</td><td> 0.16146816</td><td> 0.43643578</td><td> 0.13969969</td><td> 0.09759001</td><td> 0.47519096</td><td> 0.47519096</td><td>-0.16265001</td></tr>\n",
       "\t<tr><th scope=row>UEB-0210</th><td>-0.15404160</td><td>-0.11734774</td><td> 0.39279220</td><td> 0.47816013</td><td> 0.52049568</td><td> 0.341514509</td><td>NA</td><td>-0.20000000</td><td>-0.06666667</td><td>-0.20000000</td><td>⋯</td><td>NA</td><td>NA</td><td>NA</td><td> 0.01467892</td><td> 0.39279220</td><td> 0.06146786</td><td> 0.17566201</td><td> 0.33942212</td><td> 0.33942212</td><td>-0.22771002</td></tr>\n",
       "\t<tr><th scope=row>UEB-0211</th><td>-0.10201654</td><td>-0.07771544</td><td> 0.49136232</td><td> 0.40254570</td><td> 0.60123259</td><td> 0.448867426</td><td>NA</td><td>-0.13245324</td><td>-0.04415108</td><td>-0.13245324</td><td>⋯</td><td>NA</td><td>NA</td><td>NA</td><td> 0.19637137</td><td> 0.49136232</td><td> 0.15913161</td><td>-0.09048279</td><td> 0.51251616</td><td> 0.51251616</td><td>-0.15080464</td></tr>\n",
       "\t<tr><th scope=row>UEB-0212</th><td>         NA</td><td>         NA</td><td>         NA</td><td>         NA</td><td>         NA</td><td>          NA</td><td>NA</td><td>         NA</td><td>         NA</td><td>         NA</td><td>⋯</td><td>NA</td><td>NA</td><td>NA</td><td>         NA</td><td>         NA</td><td>         NA</td><td>         NA</td><td>         NA</td><td>         NA</td><td>         NA</td></tr>\n",
       "\t<tr><th scope=row>UEB-0213</th><td> 0.21089172</td><td>-0.04918033</td><td>-0.12803688</td><td>-0.07132756</td><td>-0.10653312</td><td>-0.138724461</td><td>NA</td><td>-0.08381981</td><td>-0.02793994</td><td>-0.08381981</td><td>⋯</td><td>NA</td><td>NA</td><td>NA</td><td>-0.11196500</td><td>-0.12803688</td><td>-0.04918033</td><td> 0.24812594</td><td>-0.03983042</td><td>-0.03983042</td><td>-0.09543306</td></tr>\n",
       "\t<tr><th scope=row>UEB-0214</th><td>-0.12527434</td><td>-0.09543306</td><td> 0.34783280</td><td> 0.30450009</td><td> 0.45479403</td><td> 0.305083078</td><td>NA</td><td>-0.16265001</td><td>-0.05421667</td><td>-0.16265001</td><td>⋯</td><td>NA</td><td>NA</td><td>NA</td><td> 0.10361868</td><td> 0.34783280</td><td> 0.10815746</td><td>-0.11111111</td><td> 0.41736501</td><td> 0.41736501</td><td>-0.18518519</td></tr>\n",
       "\t<tr><th scope=row>UEB-0215</th><td>-0.10201654</td><td>-0.07771544</td><td> 0.02890367</td><td> 0.23079287</td><td> 0.08818078</td><td> 0.003479592</td><td>NA</td><td>-0.13245324</td><td>-0.04415108</td><td>-0.13245324</td><td>⋯</td><td>NA</td><td>NA</td><td>NA</td><td>-0.17692866</td><td> 0.02890367</td><td>-0.07771544</td><td> 0.32315281</td><td>-0.06294058</td><td>-0.06294058</td><td>-0.15080464</td></tr>\n",
       "\t<tr><th scope=row>UEB-0217</th><td>-0.14697572</td><td>-0.11196500</td><td> 0.24664669</td><td> 0.23733318</td><td> 0.35447514</td><td> 0.202450720</td><td>NA</td><td>-0.19082601</td><td>-0.06360867</td><td>-0.19082601</td><td>⋯</td><td>NA</td><td>NA</td><td>NA</td><td> 0.03469080</td><td> 0.24664669</td><td> 0.07177244</td><td>-0.13035898</td><td> 0.35573989</td><td> 0.35573989</td><td>-0.21726497</td></tr>\n",
       "\t<tr><th scope=row>UEB-0218</th><td>-0.11002971</td><td>-0.08381981</td><td>-0.21821789</td><td>-0.12156613</td><td>-0.18156826</td><td>-0.236433122</td><td>NA</td><td>-0.14285714</td><td>-0.04761905</td><td> 0.14285714</td><td>⋯</td><td>NA</td><td>NA</td><td>NA</td><td>-0.07339462</td><td>-0.21821789</td><td>-0.08381981</td><td>-0.09759001</td><td>-0.06788442</td><td>-0.06788442</td><td>-0.16265001</td></tr>\n",
       "\t<tr><th scope=row>UEB-0219</th><td>-0.22549381</td><td>-0.17177950</td><td> 0.29814240</td><td> 0.30450009</td><td> 0.45479403</td><td> 0.233298824</td><td>NA</td><td>-0.29277002</td><td>-0.09759001</td><td>-0.29277002</td><td>⋯</td><td>NA</td><td>NA</td><td>NA</td><td> 0.09024853</td><td> 0.29814240</td><td>-0.01908661</td><td> 0.06666667</td><td> 0.23186945</td><td> 0.23186945</td><td>-0.33333333</td></tr>\n",
       "\t<tr><th scope=row>UEB-0221</th><td> 0.43278353</td><td>-0.02793994</td><td>-0.07273930</td><td>-0.04052204</td><td>-0.06052275</td><td>-0.078811041</td><td>NA</td><td>-0.04761905</td><td>-0.01587302</td><td>-0.04761905</td><td>⋯</td><td>NA</td><td>NA</td><td>NA</td><td>-0.06360867</td><td>-0.07273930</td><td>-0.02793994</td><td> 0.48795004</td><td>-0.02262814</td><td>-0.02262814</td><td>-0.05421667</td></tr>\n",
       "\t<tr><th scope=row>UEB-0222</th><td>         NA</td><td>         NA</td><td>         NA</td><td>         NA</td><td>         NA</td><td>          NA</td><td>NA</td><td>         NA</td><td>         NA</td><td>         NA</td><td>⋯</td><td>NA</td><td>NA</td><td>NA</td><td>         NA</td><td>         NA</td><td>         NA</td><td>         NA</td><td>         NA</td><td>         NA</td><td>         NA</td></tr>\n",
       "\t<tr><th scope=row>UEB-0223</th><td> 0.28233967</td><td>-0.03983042</td><td>-0.10369517</td><td>-0.05776713</td><td>-0.08627960</td><td>-0.112350883</td><td>NA</td><td>-0.06788442</td><td>-0.02262814</td><td>-0.06788442</td><td>⋯</td><td>NA</td><td>NA</td><td>NA</td><td>-0.09067880</td><td>-0.10369517</td><td>-0.03983042</td><td> 0.32461723</td><td>-0.03225806</td><td>-0.03225806</td><td>-0.07728982</td></tr>\n",
       "\t<tr><th scope=row>UEB-0226</th><td> 0.43278353</td><td>-0.02793994</td><td>-0.07273930</td><td>-0.04052204</td><td>-0.06052275</td><td>-0.078811041</td><td>NA</td><td>-0.04761905</td><td>-0.01587302</td><td>-0.04761905</td><td>⋯</td><td>NA</td><td>NA</td><td>NA</td><td>-0.06360867</td><td>-0.07273930</td><td>-0.02793994</td><td> 0.48795004</td><td>-0.02262814</td><td>-0.02262814</td><td>-0.05421667</td></tr>\n",
       "\t<tr><th scope=row>UEB-0228</th><td>-0.10201654</td><td>-0.07771544</td><td> 0.49136232</td><td> 0.40254570</td><td> 0.60123259</td><td> 0.448867426</td><td>NA</td><td>-0.13245324</td><td>-0.04415108</td><td>-0.13245324</td><td>⋯</td><td>NA</td><td>NA</td><td>NA</td><td> 0.19637137</td><td> 0.49136232</td><td> 0.15913161</td><td>-0.09048279</td><td> 0.51251616</td><td> 0.51251616</td><td>-0.15080464</td></tr>\n",
       "\t<tr><th scope=row>UEB-0230</th><td>         NA</td><td>         NA</td><td>         NA</td><td>         NA</td><td>         NA</td><td>          NA</td><td>NA</td><td>         NA</td><td>         NA</td><td>         NA</td><td>⋯</td><td>NA</td><td>NA</td><td>NA</td><td>         NA</td><td>         NA</td><td>         NA</td><td>         NA</td><td>         NA</td><td>         NA</td><td>         NA</td></tr>\n",
       "\t<tr><th scope=row>UEB-0232</th><td>         NA</td><td>         NA</td><td>         NA</td><td>         NA</td><td>         NA</td><td>          NA</td><td>NA</td><td>         NA</td><td>         NA</td><td>         NA</td><td>⋯</td><td>NA</td><td>NA</td><td>NA</td><td>         NA</td><td>         NA</td><td>         NA</td><td>         NA</td><td>         NA</td><td>         NA</td><td>         NA</td></tr>\n",
       "\t<tr><th scope=row>UEB-0233</th><td>         NA</td><td>         NA</td><td>         NA</td><td>         NA</td><td>         NA</td><td>          NA</td><td>NA</td><td>         NA</td><td>         NA</td><td>         NA</td><td>⋯</td><td>NA</td><td>NA</td><td>NA</td><td>         NA</td><td>         NA</td><td>         NA</td><td>         NA</td><td>         NA</td><td>         NA</td><td>         NA</td></tr>\n",
       "\t<tr><th scope=row>UEB-0234</th><td>         NA</td><td>         NA</td><td>         NA</td><td>         NA</td><td>         NA</td><td>          NA</td><td>NA</td><td>         NA</td><td>         NA</td><td>         NA</td><td>⋯</td><td>NA</td><td>NA</td><td>NA</td><td>         NA</td><td>         NA</td><td>         NA</td><td>         NA</td><td>         NA</td><td>         NA</td><td>         NA</td></tr>\n",
       "\t<tr><th scope=row>UEB-0235</th><td>         NA</td><td>         NA</td><td>         NA</td><td>         NA</td><td>         NA</td><td>          NA</td><td>NA</td><td>         NA</td><td>         NA</td><td>         NA</td><td>⋯</td><td>NA</td><td>NA</td><td>NA</td><td>         NA</td><td>         NA</td><td>         NA</td><td>         NA</td><td>         NA</td><td>         NA</td><td>         NA</td></tr>\n",
       "\t<tr><th scope=row>UEB-0236</th><td>         NA</td><td>         NA</td><td>         NA</td><td>         NA</td><td>         NA</td><td>          NA</td><td>NA</td><td>         NA</td><td>         NA</td><td>         NA</td><td>⋯</td><td>NA</td><td>NA</td><td>NA</td><td>         NA</td><td>         NA</td><td>         NA</td><td>         NA</td><td>         NA</td><td>         NA</td><td>         NA</td></tr>\n",
       "\t<tr><th scope=row>UEB-0237</th><td>         NA</td><td>         NA</td><td>         NA</td><td>         NA</td><td>         NA</td><td>          NA</td><td>NA</td><td>         NA</td><td>         NA</td><td>         NA</td><td>⋯</td><td>NA</td><td>NA</td><td>NA</td><td>         NA</td><td>         NA</td><td>         NA</td><td>         NA</td><td>         NA</td><td>         NA</td><td>         NA</td></tr>\n",
       "</tbody>\n",
       "</table>\n"
      ],
      "text/latex": [
       "A matrix: 24 × 24 of type dbl\n",
       "\\begin{tabular}{r|lllllllllllllllllllll}\n",
       "  & UEB-0205 & UEB-0208 & UEB-0209 & UEB-0210 & UEB-0211 & UEB-0212 & UEB-0213 & UEB-0214 & UEB-0215 & UEB-0217 & ⋯ & UEB-0223 & UEB-0226 & UEB-0228 & UEB-0230 & UEB-0232 & UEB-0233 & UEB-0234 & UEB-0235 & UEB-0236 & UEB-0237\\\\\n",
       "\\hline\n",
       "\tUEB-0205 &          NA &          NA &          NA &          NA &          NA &           NA & NA &          NA &          NA &          NA & ⋯ & NA & NA & NA &          NA &          NA &          NA &          NA &          NA &          NA &          NA\\\\\n",
       "\tUEB-0208 &  0.43278353 & -0.02793994 & -0.07273930 & -0.04052204 & -0.06052275 & -0.078811041 & NA & -0.04761905 & -0.01587302 & -0.04761905 & ⋯ & NA & NA & NA & -0.06360867 & -0.07273930 & -0.02793994 &  0.48795004 & -0.02262814 & -0.02262814 & -0.05421667\\\\\n",
       "\tUEB-0209 &  0.06601783 & -0.08381981 &  0.43643578 &  0.36469840 &  0.54470478 &  0.394055203 & NA & -0.14285714 & -0.04761905 & -0.14285714 & ⋯ & NA & NA & NA &  0.16146816 &  0.43643578 &  0.13969969 &  0.09759001 &  0.47519096 &  0.47519096 & -0.16265001\\\\\n",
       "\tUEB-0210 & -0.15404160 & -0.11734774 &  0.39279220 &  0.47816013 &  0.52049568 &  0.341514509 & NA & -0.20000000 & -0.06666667 & -0.20000000 & ⋯ & NA & NA & NA &  0.01467892 &  0.39279220 &  0.06146786 &  0.17566201 &  0.33942212 &  0.33942212 & -0.22771002\\\\\n",
       "\tUEB-0211 & -0.10201654 & -0.07771544 &  0.49136232 &  0.40254570 &  0.60123259 &  0.448867426 & NA & -0.13245324 & -0.04415108 & -0.13245324 & ⋯ & NA & NA & NA &  0.19637137 &  0.49136232 &  0.15913161 & -0.09048279 &  0.51251616 &  0.51251616 & -0.15080464\\\\\n",
       "\tUEB-0212 &          NA &          NA &          NA &          NA &          NA &           NA & NA &          NA &          NA &          NA & ⋯ & NA & NA & NA &          NA &          NA &          NA &          NA &          NA &          NA &          NA\\\\\n",
       "\tUEB-0213 &  0.21089172 & -0.04918033 & -0.12803688 & -0.07132756 & -0.10653312 & -0.138724461 & NA & -0.08381981 & -0.02793994 & -0.08381981 & ⋯ & NA & NA & NA & -0.11196500 & -0.12803688 & -0.04918033 &  0.24812594 & -0.03983042 & -0.03983042 & -0.09543306\\\\\n",
       "\tUEB-0214 & -0.12527434 & -0.09543306 &  0.34783280 &  0.30450009 &  0.45479403 &  0.305083078 & NA & -0.16265001 & -0.05421667 & -0.16265001 & ⋯ & NA & NA & NA &  0.10361868 &  0.34783280 &  0.10815746 & -0.11111111 &  0.41736501 &  0.41736501 & -0.18518519\\\\\n",
       "\tUEB-0215 & -0.10201654 & -0.07771544 &  0.02890367 &  0.23079287 &  0.08818078 &  0.003479592 & NA & -0.13245324 & -0.04415108 & -0.13245324 & ⋯ & NA & NA & NA & -0.17692866 &  0.02890367 & -0.07771544 &  0.32315281 & -0.06294058 & -0.06294058 & -0.15080464\\\\\n",
       "\tUEB-0217 & -0.14697572 & -0.11196500 &  0.24664669 &  0.23733318 &  0.35447514 &  0.202450720 & NA & -0.19082601 & -0.06360867 & -0.19082601 & ⋯ & NA & NA & NA &  0.03469080 &  0.24664669 &  0.07177244 & -0.13035898 &  0.35573989 &  0.35573989 & -0.21726497\\\\\n",
       "\tUEB-0218 & -0.11002971 & -0.08381981 & -0.21821789 & -0.12156613 & -0.18156826 & -0.236433122 & NA & -0.14285714 & -0.04761905 &  0.14285714 & ⋯ & NA & NA & NA & -0.07339462 & -0.21821789 & -0.08381981 & -0.09759001 & -0.06788442 & -0.06788442 & -0.16265001\\\\\n",
       "\tUEB-0219 & -0.22549381 & -0.17177950 &  0.29814240 &  0.30450009 &  0.45479403 &  0.233298824 & NA & -0.29277002 & -0.09759001 & -0.29277002 & ⋯ & NA & NA & NA &  0.09024853 &  0.29814240 & -0.01908661 &  0.06666667 &  0.23186945 &  0.23186945 & -0.33333333\\\\\n",
       "\tUEB-0221 &  0.43278353 & -0.02793994 & -0.07273930 & -0.04052204 & -0.06052275 & -0.078811041 & NA & -0.04761905 & -0.01587302 & -0.04761905 & ⋯ & NA & NA & NA & -0.06360867 & -0.07273930 & -0.02793994 &  0.48795004 & -0.02262814 & -0.02262814 & -0.05421667\\\\\n",
       "\tUEB-0222 &          NA &          NA &          NA &          NA &          NA &           NA & NA &          NA &          NA &          NA & ⋯ & NA & NA & NA &          NA &          NA &          NA &          NA &          NA &          NA &          NA\\\\\n",
       "\tUEB-0223 &  0.28233967 & -0.03983042 & -0.10369517 & -0.05776713 & -0.08627960 & -0.112350883 & NA & -0.06788442 & -0.02262814 & -0.06788442 & ⋯ & NA & NA & NA & -0.09067880 & -0.10369517 & -0.03983042 &  0.32461723 & -0.03225806 & -0.03225806 & -0.07728982\\\\\n",
       "\tUEB-0226 &  0.43278353 & -0.02793994 & -0.07273930 & -0.04052204 & -0.06052275 & -0.078811041 & NA & -0.04761905 & -0.01587302 & -0.04761905 & ⋯ & NA & NA & NA & -0.06360867 & -0.07273930 & -0.02793994 &  0.48795004 & -0.02262814 & -0.02262814 & -0.05421667\\\\\n",
       "\tUEB-0228 & -0.10201654 & -0.07771544 &  0.49136232 &  0.40254570 &  0.60123259 &  0.448867426 & NA & -0.13245324 & -0.04415108 & -0.13245324 & ⋯ & NA & NA & NA &  0.19637137 &  0.49136232 &  0.15913161 & -0.09048279 &  0.51251616 &  0.51251616 & -0.15080464\\\\\n",
       "\tUEB-0230 &          NA &          NA &          NA &          NA &          NA &           NA & NA &          NA &          NA &          NA & ⋯ & NA & NA & NA &          NA &          NA &          NA &          NA &          NA &          NA &          NA\\\\\n",
       "\tUEB-0232 &          NA &          NA &          NA &          NA &          NA &           NA & NA &          NA &          NA &          NA & ⋯ & NA & NA & NA &          NA &          NA &          NA &          NA &          NA &          NA &          NA\\\\\n",
       "\tUEB-0233 &          NA &          NA &          NA &          NA &          NA &           NA & NA &          NA &          NA &          NA & ⋯ & NA & NA & NA &          NA &          NA &          NA &          NA &          NA &          NA &          NA\\\\\n",
       "\tUEB-0234 &          NA &          NA &          NA &          NA &          NA &           NA & NA &          NA &          NA &          NA & ⋯ & NA & NA & NA &          NA &          NA &          NA &          NA &          NA &          NA &          NA\\\\\n",
       "\tUEB-0235 &          NA &          NA &          NA &          NA &          NA &           NA & NA &          NA &          NA &          NA & ⋯ & NA & NA & NA &          NA &          NA &          NA &          NA &          NA &          NA &          NA\\\\\n",
       "\tUEB-0236 &          NA &          NA &          NA &          NA &          NA &           NA & NA &          NA &          NA &          NA & ⋯ & NA & NA & NA &          NA &          NA &          NA &          NA &          NA &          NA &          NA\\\\\n",
       "\tUEB-0237 &          NA &          NA &          NA &          NA &          NA &           NA & NA &          NA &          NA &          NA & ⋯ & NA & NA & NA &          NA &          NA &          NA &          NA &          NA &          NA &          NA\\\\\n",
       "\\end{tabular}\n"
      ],
      "text/markdown": [
       "\n",
       "A matrix: 24 × 24 of type dbl\n",
       "\n",
       "| <!--/--> | UEB-0205 | UEB-0208 | UEB-0209 | UEB-0210 | UEB-0211 | UEB-0212 | UEB-0213 | UEB-0214 | UEB-0215 | UEB-0217 | ⋯ | UEB-0223 | UEB-0226 | UEB-0228 | UEB-0230 | UEB-0232 | UEB-0233 | UEB-0234 | UEB-0235 | UEB-0236 | UEB-0237 |\n",
       "|---|---|---|---|---|---|---|---|---|---|---|---|---|---|---|---|---|---|---|---|---|---|\n",
       "| UEB-0205 |          NA |          NA |          NA |          NA |          NA |           NA | NA |          NA |          NA |          NA | ⋯ | NA | NA | NA |          NA |          NA |          NA |          NA |          NA |          NA |          NA |\n",
       "| UEB-0208 |  0.43278353 | -0.02793994 | -0.07273930 | -0.04052204 | -0.06052275 | -0.078811041 | NA | -0.04761905 | -0.01587302 | -0.04761905 | ⋯ | NA | NA | NA | -0.06360867 | -0.07273930 | -0.02793994 |  0.48795004 | -0.02262814 | -0.02262814 | -0.05421667 |\n",
       "| UEB-0209 |  0.06601783 | -0.08381981 |  0.43643578 |  0.36469840 |  0.54470478 |  0.394055203 | NA | -0.14285714 | -0.04761905 | -0.14285714 | ⋯ | NA | NA | NA |  0.16146816 |  0.43643578 |  0.13969969 |  0.09759001 |  0.47519096 |  0.47519096 | -0.16265001 |\n",
       "| UEB-0210 | -0.15404160 | -0.11734774 |  0.39279220 |  0.47816013 |  0.52049568 |  0.341514509 | NA | -0.20000000 | -0.06666667 | -0.20000000 | ⋯ | NA | NA | NA |  0.01467892 |  0.39279220 |  0.06146786 |  0.17566201 |  0.33942212 |  0.33942212 | -0.22771002 |\n",
       "| UEB-0211 | -0.10201654 | -0.07771544 |  0.49136232 |  0.40254570 |  0.60123259 |  0.448867426 | NA | -0.13245324 | -0.04415108 | -0.13245324 | ⋯ | NA | NA | NA |  0.19637137 |  0.49136232 |  0.15913161 | -0.09048279 |  0.51251616 |  0.51251616 | -0.15080464 |\n",
       "| UEB-0212 |          NA |          NA |          NA |          NA |          NA |           NA | NA |          NA |          NA |          NA | ⋯ | NA | NA | NA |          NA |          NA |          NA |          NA |          NA |          NA |          NA |\n",
       "| UEB-0213 |  0.21089172 | -0.04918033 | -0.12803688 | -0.07132756 | -0.10653312 | -0.138724461 | NA | -0.08381981 | -0.02793994 | -0.08381981 | ⋯ | NA | NA | NA | -0.11196500 | -0.12803688 | -0.04918033 |  0.24812594 | -0.03983042 | -0.03983042 | -0.09543306 |\n",
       "| UEB-0214 | -0.12527434 | -0.09543306 |  0.34783280 |  0.30450009 |  0.45479403 |  0.305083078 | NA | -0.16265001 | -0.05421667 | -0.16265001 | ⋯ | NA | NA | NA |  0.10361868 |  0.34783280 |  0.10815746 | -0.11111111 |  0.41736501 |  0.41736501 | -0.18518519 |\n",
       "| UEB-0215 | -0.10201654 | -0.07771544 |  0.02890367 |  0.23079287 |  0.08818078 |  0.003479592 | NA | -0.13245324 | -0.04415108 | -0.13245324 | ⋯ | NA | NA | NA | -0.17692866 |  0.02890367 | -0.07771544 |  0.32315281 | -0.06294058 | -0.06294058 | -0.15080464 |\n",
       "| UEB-0217 | -0.14697572 | -0.11196500 |  0.24664669 |  0.23733318 |  0.35447514 |  0.202450720 | NA | -0.19082601 | -0.06360867 | -0.19082601 | ⋯ | NA | NA | NA |  0.03469080 |  0.24664669 |  0.07177244 | -0.13035898 |  0.35573989 |  0.35573989 | -0.21726497 |\n",
       "| UEB-0218 | -0.11002971 | -0.08381981 | -0.21821789 | -0.12156613 | -0.18156826 | -0.236433122 | NA | -0.14285714 | -0.04761905 |  0.14285714 | ⋯ | NA | NA | NA | -0.07339462 | -0.21821789 | -0.08381981 | -0.09759001 | -0.06788442 | -0.06788442 | -0.16265001 |\n",
       "| UEB-0219 | -0.22549381 | -0.17177950 |  0.29814240 |  0.30450009 |  0.45479403 |  0.233298824 | NA | -0.29277002 | -0.09759001 | -0.29277002 | ⋯ | NA | NA | NA |  0.09024853 |  0.29814240 | -0.01908661 |  0.06666667 |  0.23186945 |  0.23186945 | -0.33333333 |\n",
       "| UEB-0221 |  0.43278353 | -0.02793994 | -0.07273930 | -0.04052204 | -0.06052275 | -0.078811041 | NA | -0.04761905 | -0.01587302 | -0.04761905 | ⋯ | NA | NA | NA | -0.06360867 | -0.07273930 | -0.02793994 |  0.48795004 | -0.02262814 | -0.02262814 | -0.05421667 |\n",
       "| UEB-0222 |          NA |          NA |          NA |          NA |          NA |           NA | NA |          NA |          NA |          NA | ⋯ | NA | NA | NA |          NA |          NA |          NA |          NA |          NA |          NA |          NA |\n",
       "| UEB-0223 |  0.28233967 | -0.03983042 | -0.10369517 | -0.05776713 | -0.08627960 | -0.112350883 | NA | -0.06788442 | -0.02262814 | -0.06788442 | ⋯ | NA | NA | NA | -0.09067880 | -0.10369517 | -0.03983042 |  0.32461723 | -0.03225806 | -0.03225806 | -0.07728982 |\n",
       "| UEB-0226 |  0.43278353 | -0.02793994 | -0.07273930 | -0.04052204 | -0.06052275 | -0.078811041 | NA | -0.04761905 | -0.01587302 | -0.04761905 | ⋯ | NA | NA | NA | -0.06360867 | -0.07273930 | -0.02793994 |  0.48795004 | -0.02262814 | -0.02262814 | -0.05421667 |\n",
       "| UEB-0228 | -0.10201654 | -0.07771544 |  0.49136232 |  0.40254570 |  0.60123259 |  0.448867426 | NA | -0.13245324 | -0.04415108 | -0.13245324 | ⋯ | NA | NA | NA |  0.19637137 |  0.49136232 |  0.15913161 | -0.09048279 |  0.51251616 |  0.51251616 | -0.15080464 |\n",
       "| UEB-0230 |          NA |          NA |          NA |          NA |          NA |           NA | NA |          NA |          NA |          NA | ⋯ | NA | NA | NA |          NA |          NA |          NA |          NA |          NA |          NA |          NA |\n",
       "| UEB-0232 |          NA |          NA |          NA |          NA |          NA |           NA | NA |          NA |          NA |          NA | ⋯ | NA | NA | NA |          NA |          NA |          NA |          NA |          NA |          NA |          NA |\n",
       "| UEB-0233 |          NA |          NA |          NA |          NA |          NA |           NA | NA |          NA |          NA |          NA | ⋯ | NA | NA | NA |          NA |          NA |          NA |          NA |          NA |          NA |          NA |\n",
       "| UEB-0234 |          NA |          NA |          NA |          NA |          NA |           NA | NA |          NA |          NA |          NA | ⋯ | NA | NA | NA |          NA |          NA |          NA |          NA |          NA |          NA |          NA |\n",
       "| UEB-0235 |          NA |          NA |          NA |          NA |          NA |           NA | NA |          NA |          NA |          NA | ⋯ | NA | NA | NA |          NA |          NA |          NA |          NA |          NA |          NA |          NA |\n",
       "| UEB-0236 |          NA |          NA |          NA |          NA |          NA |           NA | NA |          NA |          NA |          NA | ⋯ | NA | NA | NA |          NA |          NA |          NA |          NA |          NA |          NA |          NA |\n",
       "| UEB-0237 |          NA |          NA |          NA |          NA |          NA |           NA | NA |          NA |          NA |          NA | ⋯ | NA | NA | NA |          NA |          NA |          NA |          NA |          NA |          NA |          NA |\n",
       "\n"
      ],
      "text/plain": [
       "         UEB-0205    UEB-0208    UEB-0209    UEB-0210    UEB-0211   \n",
       "UEB-0205          NA          NA          NA          NA          NA\n",
       "UEB-0208  0.43278353 -0.02793994 -0.07273930 -0.04052204 -0.06052275\n",
       "UEB-0209  0.06601783 -0.08381981  0.43643578  0.36469840  0.54470478\n",
       "UEB-0210 -0.15404160 -0.11734774  0.39279220  0.47816013  0.52049568\n",
       "UEB-0211 -0.10201654 -0.07771544  0.49136232  0.40254570  0.60123259\n",
       "UEB-0212          NA          NA          NA          NA          NA\n",
       "UEB-0213  0.21089172 -0.04918033 -0.12803688 -0.07132756 -0.10653312\n",
       "UEB-0214 -0.12527434 -0.09543306  0.34783280  0.30450009  0.45479403\n",
       "UEB-0215 -0.10201654 -0.07771544  0.02890367  0.23079287  0.08818078\n",
       "UEB-0217 -0.14697572 -0.11196500  0.24664669  0.23733318  0.35447514\n",
       "UEB-0218 -0.11002971 -0.08381981 -0.21821789 -0.12156613 -0.18156826\n",
       "UEB-0219 -0.22549381 -0.17177950  0.29814240  0.30450009  0.45479403\n",
       "UEB-0221  0.43278353 -0.02793994 -0.07273930 -0.04052204 -0.06052275\n",
       "UEB-0222          NA          NA          NA          NA          NA\n",
       "UEB-0223  0.28233967 -0.03983042 -0.10369517 -0.05776713 -0.08627960\n",
       "UEB-0226  0.43278353 -0.02793994 -0.07273930 -0.04052204 -0.06052275\n",
       "UEB-0228 -0.10201654 -0.07771544  0.49136232  0.40254570  0.60123259\n",
       "UEB-0230          NA          NA          NA          NA          NA\n",
       "UEB-0232          NA          NA          NA          NA          NA\n",
       "UEB-0233          NA          NA          NA          NA          NA\n",
       "UEB-0234          NA          NA          NA          NA          NA\n",
       "UEB-0235          NA          NA          NA          NA          NA\n",
       "UEB-0236          NA          NA          NA          NA          NA\n",
       "UEB-0237          NA          NA          NA          NA          NA\n",
       "         UEB-0212     UEB-0213 UEB-0214    UEB-0215    UEB-0217    ⋯ UEB-0223\n",
       "UEB-0205           NA NA                NA          NA          NA ⋯ NA      \n",
       "UEB-0208 -0.078811041 NA       -0.04761905 -0.01587302 -0.04761905 ⋯ NA      \n",
       "UEB-0209  0.394055203 NA       -0.14285714 -0.04761905 -0.14285714 ⋯ NA      \n",
       "UEB-0210  0.341514509 NA       -0.20000000 -0.06666667 -0.20000000 ⋯ NA      \n",
       "UEB-0211  0.448867426 NA       -0.13245324 -0.04415108 -0.13245324 ⋯ NA      \n",
       "UEB-0212           NA NA                NA          NA          NA ⋯ NA      \n",
       "UEB-0213 -0.138724461 NA       -0.08381981 -0.02793994 -0.08381981 ⋯ NA      \n",
       "UEB-0214  0.305083078 NA       -0.16265001 -0.05421667 -0.16265001 ⋯ NA      \n",
       "UEB-0215  0.003479592 NA       -0.13245324 -0.04415108 -0.13245324 ⋯ NA      \n",
       "UEB-0217  0.202450720 NA       -0.19082601 -0.06360867 -0.19082601 ⋯ NA      \n",
       "UEB-0218 -0.236433122 NA       -0.14285714 -0.04761905  0.14285714 ⋯ NA      \n",
       "UEB-0219  0.233298824 NA       -0.29277002 -0.09759001 -0.29277002 ⋯ NA      \n",
       "UEB-0221 -0.078811041 NA       -0.04761905 -0.01587302 -0.04761905 ⋯ NA      \n",
       "UEB-0222           NA NA                NA          NA          NA ⋯ NA      \n",
       "UEB-0223 -0.112350883 NA       -0.06788442 -0.02262814 -0.06788442 ⋯ NA      \n",
       "UEB-0226 -0.078811041 NA       -0.04761905 -0.01587302 -0.04761905 ⋯ NA      \n",
       "UEB-0228  0.448867426 NA       -0.13245324 -0.04415108 -0.13245324 ⋯ NA      \n",
       "UEB-0230           NA NA                NA          NA          NA ⋯ NA      \n",
       "UEB-0232           NA NA                NA          NA          NA ⋯ NA      \n",
       "UEB-0233           NA NA                NA          NA          NA ⋯ NA      \n",
       "UEB-0234           NA NA                NA          NA          NA ⋯ NA      \n",
       "UEB-0235           NA NA                NA          NA          NA ⋯ NA      \n",
       "UEB-0236           NA NA                NA          NA          NA ⋯ NA      \n",
       "UEB-0237           NA NA                NA          NA          NA ⋯ NA      \n",
       "         UEB-0226 UEB-0228 UEB-0230    UEB-0232    UEB-0233    UEB-0234   \n",
       "UEB-0205 NA       NA                NA          NA          NA          NA\n",
       "UEB-0208 NA       NA       -0.06360867 -0.07273930 -0.02793994  0.48795004\n",
       "UEB-0209 NA       NA        0.16146816  0.43643578  0.13969969  0.09759001\n",
       "UEB-0210 NA       NA        0.01467892  0.39279220  0.06146786  0.17566201\n",
       "UEB-0211 NA       NA        0.19637137  0.49136232  0.15913161 -0.09048279\n",
       "UEB-0212 NA       NA                NA          NA          NA          NA\n",
       "UEB-0213 NA       NA       -0.11196500 -0.12803688 -0.04918033  0.24812594\n",
       "UEB-0214 NA       NA        0.10361868  0.34783280  0.10815746 -0.11111111\n",
       "UEB-0215 NA       NA       -0.17692866  0.02890367 -0.07771544  0.32315281\n",
       "UEB-0217 NA       NA        0.03469080  0.24664669  0.07177244 -0.13035898\n",
       "UEB-0218 NA       NA       -0.07339462 -0.21821789 -0.08381981 -0.09759001\n",
       "UEB-0219 NA       NA        0.09024853  0.29814240 -0.01908661  0.06666667\n",
       "UEB-0221 NA       NA       -0.06360867 -0.07273930 -0.02793994  0.48795004\n",
       "UEB-0222 NA       NA                NA          NA          NA          NA\n",
       "UEB-0223 NA       NA       -0.09067880 -0.10369517 -0.03983042  0.32461723\n",
       "UEB-0226 NA       NA       -0.06360867 -0.07273930 -0.02793994  0.48795004\n",
       "UEB-0228 NA       NA        0.19637137  0.49136232  0.15913161 -0.09048279\n",
       "UEB-0230 NA       NA                NA          NA          NA          NA\n",
       "UEB-0232 NA       NA                NA          NA          NA          NA\n",
       "UEB-0233 NA       NA                NA          NA          NA          NA\n",
       "UEB-0234 NA       NA                NA          NA          NA          NA\n",
       "UEB-0235 NA       NA                NA          NA          NA          NA\n",
       "UEB-0236 NA       NA                NA          NA          NA          NA\n",
       "UEB-0237 NA       NA                NA          NA          NA          NA\n",
       "         UEB-0235    UEB-0236    UEB-0237   \n",
       "UEB-0205          NA          NA          NA\n",
       "UEB-0208 -0.02262814 -0.02262814 -0.05421667\n",
       "UEB-0209  0.47519096  0.47519096 -0.16265001\n",
       "UEB-0210  0.33942212  0.33942212 -0.22771002\n",
       "UEB-0211  0.51251616  0.51251616 -0.15080464\n",
       "UEB-0212          NA          NA          NA\n",
       "UEB-0213 -0.03983042 -0.03983042 -0.09543306\n",
       "UEB-0214  0.41736501  0.41736501 -0.18518519\n",
       "UEB-0215 -0.06294058 -0.06294058 -0.15080464\n",
       "UEB-0217  0.35573989  0.35573989 -0.21726497\n",
       "UEB-0218 -0.06788442 -0.06788442 -0.16265001\n",
       "UEB-0219  0.23186945  0.23186945 -0.33333333\n",
       "UEB-0221 -0.02262814 -0.02262814 -0.05421667\n",
       "UEB-0222          NA          NA          NA\n",
       "UEB-0223 -0.03225806 -0.03225806 -0.07728982\n",
       "UEB-0226 -0.02262814 -0.02262814 -0.05421667\n",
       "UEB-0228  0.51251616  0.51251616 -0.15080464\n",
       "UEB-0230          NA          NA          NA\n",
       "UEB-0232          NA          NA          NA\n",
       "UEB-0233          NA          NA          NA\n",
       "UEB-0234          NA          NA          NA\n",
       "UEB-0235          NA          NA          NA\n",
       "UEB-0236          NA          NA          NA\n",
       "UEB-0237          NA          NA          NA"
      ]
     },
     "metadata": {},
     "output_type": "display_data"
    }
   ],
   "source": [
    "global_correlacion <- cor(x_cfDNA, x_tum)\n",
    "global_correlacion"
   ]
  },
  {
   "cell_type": "code",
   "execution_count": 33,
   "id": "338597d6",
   "metadata": {},
   "outputs": [
    {
     "data": {
      "text/html": [
       "<table class=\"dataframe\">\n",
       "<caption>A matrix: 6 × 24 of type dbl</caption>\n",
       "<thead>\n",
       "\t<tr><th></th><th scope=col>UEB-0205</th><th scope=col>UEB-0208</th><th scope=col>UEB-0209</th><th scope=col>UEB-0210</th><th scope=col>UEB-0211</th><th scope=col>UEB-0212</th><th scope=col>UEB-0213</th><th scope=col>UEB-0214</th><th scope=col>UEB-0215</th><th scope=col>UEB-0217</th><th scope=col>⋯</th><th scope=col>UEB-0223</th><th scope=col>UEB-0226</th><th scope=col>UEB-0228</th><th scope=col>UEB-0230</th><th scope=col>UEB-0232</th><th scope=col>UEB-0233</th><th scope=col>UEB-0234</th><th scope=col>UEB-0235</th><th scope=col>UEB-0236</th><th scope=col>UEB-0237</th></tr>\n",
       "</thead>\n",
       "<tbody>\n",
       "\t<tr><th scope=row>UEB-0205</th><td> 0.00000000</td><td> 0.00000000</td><td> 0.0000000</td><td> 0.00000000</td><td> 0.00000000</td><td> 0.00000000</td><td>0</td><td> 0.00000000</td><td> 0.00000000</td><td> 0.00000000</td><td>⋯</td><td>0</td><td>0</td><td>0</td><td> 0.00000000</td><td> 0.0000000</td><td> 0.00000000</td><td> 0.00000000</td><td> 0.00000000</td><td> 0.00000000</td><td> 0.00000000</td></tr>\n",
       "\t<tr><th scope=row>UEB-0208</th><td> 0.43278353</td><td>-0.02793994</td><td>-0.0727393</td><td>-0.04052204</td><td>-0.06052275</td><td>-0.07881104</td><td>0</td><td>-0.04761905</td><td>-0.01587302</td><td>-0.04761905</td><td>⋯</td><td>0</td><td>0</td><td>0</td><td>-0.06360867</td><td>-0.0727393</td><td>-0.02793994</td><td> 0.48795004</td><td>-0.02262814</td><td>-0.02262814</td><td>-0.05421667</td></tr>\n",
       "\t<tr><th scope=row>UEB-0209</th><td> 0.06601783</td><td>-0.08381981</td><td> 0.4364358</td><td> 0.36469840</td><td> 0.54470478</td><td> 0.39405520</td><td>0</td><td>-0.14285714</td><td>-0.04761905</td><td>-0.14285714</td><td>⋯</td><td>0</td><td>0</td><td>0</td><td> 0.16146816</td><td> 0.4364358</td><td> 0.13969969</td><td> 0.09759001</td><td> 0.47519096</td><td> 0.47519096</td><td>-0.16265001</td></tr>\n",
       "\t<tr><th scope=row>UEB-0210</th><td>-0.15404160</td><td>-0.11734774</td><td> 0.3927922</td><td> 0.47816013</td><td> 0.52049568</td><td> 0.34151451</td><td>0</td><td>-0.20000000</td><td>-0.06666667</td><td>-0.20000000</td><td>⋯</td><td>0</td><td>0</td><td>0</td><td> 0.01467892</td><td> 0.3927922</td><td> 0.06146786</td><td> 0.17566201</td><td> 0.33942212</td><td> 0.33942212</td><td>-0.22771002</td></tr>\n",
       "\t<tr><th scope=row>UEB-0211</th><td>-0.10201654</td><td>-0.07771544</td><td> 0.4913623</td><td> 0.40254570</td><td> 0.60123259</td><td> 0.44886743</td><td>0</td><td>-0.13245324</td><td>-0.04415108</td><td>-0.13245324</td><td>⋯</td><td>0</td><td>0</td><td>0</td><td> 0.19637137</td><td> 0.4913623</td><td> 0.15913161</td><td>-0.09048279</td><td> 0.51251616</td><td> 0.51251616</td><td>-0.15080464</td></tr>\n",
       "\t<tr><th scope=row>UEB-0212</th><td> 0.00000000</td><td> 0.00000000</td><td> 0.0000000</td><td> 0.00000000</td><td> 0.00000000</td><td> 0.00000000</td><td>0</td><td> 0.00000000</td><td> 0.00000000</td><td> 0.00000000</td><td>⋯</td><td>0</td><td>0</td><td>0</td><td> 0.00000000</td><td> 0.0000000</td><td> 0.00000000</td><td> 0.00000000</td><td> 0.00000000</td><td> 0.00000000</td><td> 0.00000000</td></tr>\n",
       "</tbody>\n",
       "</table>\n"
      ],
      "text/latex": [
       "A matrix: 6 × 24 of type dbl\n",
       "\\begin{tabular}{r|lllllllllllllllllllll}\n",
       "  & UEB-0205 & UEB-0208 & UEB-0209 & UEB-0210 & UEB-0211 & UEB-0212 & UEB-0213 & UEB-0214 & UEB-0215 & UEB-0217 & ⋯ & UEB-0223 & UEB-0226 & UEB-0228 & UEB-0230 & UEB-0232 & UEB-0233 & UEB-0234 & UEB-0235 & UEB-0236 & UEB-0237\\\\\n",
       "\\hline\n",
       "\tUEB-0205 &  0.00000000 &  0.00000000 &  0.0000000 &  0.00000000 &  0.00000000 &  0.00000000 & 0 &  0.00000000 &  0.00000000 &  0.00000000 & ⋯ & 0 & 0 & 0 &  0.00000000 &  0.0000000 &  0.00000000 &  0.00000000 &  0.00000000 &  0.00000000 &  0.00000000\\\\\n",
       "\tUEB-0208 &  0.43278353 & -0.02793994 & -0.0727393 & -0.04052204 & -0.06052275 & -0.07881104 & 0 & -0.04761905 & -0.01587302 & -0.04761905 & ⋯ & 0 & 0 & 0 & -0.06360867 & -0.0727393 & -0.02793994 &  0.48795004 & -0.02262814 & -0.02262814 & -0.05421667\\\\\n",
       "\tUEB-0209 &  0.06601783 & -0.08381981 &  0.4364358 &  0.36469840 &  0.54470478 &  0.39405520 & 0 & -0.14285714 & -0.04761905 & -0.14285714 & ⋯ & 0 & 0 & 0 &  0.16146816 &  0.4364358 &  0.13969969 &  0.09759001 &  0.47519096 &  0.47519096 & -0.16265001\\\\\n",
       "\tUEB-0210 & -0.15404160 & -0.11734774 &  0.3927922 &  0.47816013 &  0.52049568 &  0.34151451 & 0 & -0.20000000 & -0.06666667 & -0.20000000 & ⋯ & 0 & 0 & 0 &  0.01467892 &  0.3927922 &  0.06146786 &  0.17566201 &  0.33942212 &  0.33942212 & -0.22771002\\\\\n",
       "\tUEB-0211 & -0.10201654 & -0.07771544 &  0.4913623 &  0.40254570 &  0.60123259 &  0.44886743 & 0 & -0.13245324 & -0.04415108 & -0.13245324 & ⋯ & 0 & 0 & 0 &  0.19637137 &  0.4913623 &  0.15913161 & -0.09048279 &  0.51251616 &  0.51251616 & -0.15080464\\\\\n",
       "\tUEB-0212 &  0.00000000 &  0.00000000 &  0.0000000 &  0.00000000 &  0.00000000 &  0.00000000 & 0 &  0.00000000 &  0.00000000 &  0.00000000 & ⋯ & 0 & 0 & 0 &  0.00000000 &  0.0000000 &  0.00000000 &  0.00000000 &  0.00000000 &  0.00000000 &  0.00000000\\\\\n",
       "\\end{tabular}\n"
      ],
      "text/markdown": [
       "\n",
       "A matrix: 6 × 24 of type dbl\n",
       "\n",
       "| <!--/--> | UEB-0205 | UEB-0208 | UEB-0209 | UEB-0210 | UEB-0211 | UEB-0212 | UEB-0213 | UEB-0214 | UEB-0215 | UEB-0217 | ⋯ | UEB-0223 | UEB-0226 | UEB-0228 | UEB-0230 | UEB-0232 | UEB-0233 | UEB-0234 | UEB-0235 | UEB-0236 | UEB-0237 |\n",
       "|---|---|---|---|---|---|---|---|---|---|---|---|---|---|---|---|---|---|---|---|---|---|\n",
       "| UEB-0205 |  0.00000000 |  0.00000000 |  0.0000000 |  0.00000000 |  0.00000000 |  0.00000000 | 0 |  0.00000000 |  0.00000000 |  0.00000000 | ⋯ | 0 | 0 | 0 |  0.00000000 |  0.0000000 |  0.00000000 |  0.00000000 |  0.00000000 |  0.00000000 |  0.00000000 |\n",
       "| UEB-0208 |  0.43278353 | -0.02793994 | -0.0727393 | -0.04052204 | -0.06052275 | -0.07881104 | 0 | -0.04761905 | -0.01587302 | -0.04761905 | ⋯ | 0 | 0 | 0 | -0.06360867 | -0.0727393 | -0.02793994 |  0.48795004 | -0.02262814 | -0.02262814 | -0.05421667 |\n",
       "| UEB-0209 |  0.06601783 | -0.08381981 |  0.4364358 |  0.36469840 |  0.54470478 |  0.39405520 | 0 | -0.14285714 | -0.04761905 | -0.14285714 | ⋯ | 0 | 0 | 0 |  0.16146816 |  0.4364358 |  0.13969969 |  0.09759001 |  0.47519096 |  0.47519096 | -0.16265001 |\n",
       "| UEB-0210 | -0.15404160 | -0.11734774 |  0.3927922 |  0.47816013 |  0.52049568 |  0.34151451 | 0 | -0.20000000 | -0.06666667 | -0.20000000 | ⋯ | 0 | 0 | 0 |  0.01467892 |  0.3927922 |  0.06146786 |  0.17566201 |  0.33942212 |  0.33942212 | -0.22771002 |\n",
       "| UEB-0211 | -0.10201654 | -0.07771544 |  0.4913623 |  0.40254570 |  0.60123259 |  0.44886743 | 0 | -0.13245324 | -0.04415108 | -0.13245324 | ⋯ | 0 | 0 | 0 |  0.19637137 |  0.4913623 |  0.15913161 | -0.09048279 |  0.51251616 |  0.51251616 | -0.15080464 |\n",
       "| UEB-0212 |  0.00000000 |  0.00000000 |  0.0000000 |  0.00000000 |  0.00000000 |  0.00000000 | 0 |  0.00000000 |  0.00000000 |  0.00000000 | ⋯ | 0 | 0 | 0 |  0.00000000 |  0.0000000 |  0.00000000 |  0.00000000 |  0.00000000 |  0.00000000 |  0.00000000 |\n",
       "\n"
      ],
      "text/plain": [
       "         UEB-0205    UEB-0208    UEB-0209   UEB-0210    UEB-0211    UEB-0212   \n",
       "UEB-0205  0.00000000  0.00000000  0.0000000  0.00000000  0.00000000  0.00000000\n",
       "UEB-0208  0.43278353 -0.02793994 -0.0727393 -0.04052204 -0.06052275 -0.07881104\n",
       "UEB-0209  0.06601783 -0.08381981  0.4364358  0.36469840  0.54470478  0.39405520\n",
       "UEB-0210 -0.15404160 -0.11734774  0.3927922  0.47816013  0.52049568  0.34151451\n",
       "UEB-0211 -0.10201654 -0.07771544  0.4913623  0.40254570  0.60123259  0.44886743\n",
       "UEB-0212  0.00000000  0.00000000  0.0000000  0.00000000  0.00000000  0.00000000\n",
       "         UEB-0213 UEB-0214    UEB-0215    UEB-0217    ⋯ UEB-0223 UEB-0226\n",
       "UEB-0205 0         0.00000000  0.00000000  0.00000000 ⋯ 0        0       \n",
       "UEB-0208 0        -0.04761905 -0.01587302 -0.04761905 ⋯ 0        0       \n",
       "UEB-0209 0        -0.14285714 -0.04761905 -0.14285714 ⋯ 0        0       \n",
       "UEB-0210 0        -0.20000000 -0.06666667 -0.20000000 ⋯ 0        0       \n",
       "UEB-0211 0        -0.13245324 -0.04415108 -0.13245324 ⋯ 0        0       \n",
       "UEB-0212 0         0.00000000  0.00000000  0.00000000 ⋯ 0        0       \n",
       "         UEB-0228 UEB-0230    UEB-0232   UEB-0233    UEB-0234    UEB-0235   \n",
       "UEB-0205 0         0.00000000  0.0000000  0.00000000  0.00000000  0.00000000\n",
       "UEB-0208 0        -0.06360867 -0.0727393 -0.02793994  0.48795004 -0.02262814\n",
       "UEB-0209 0         0.16146816  0.4364358  0.13969969  0.09759001  0.47519096\n",
       "UEB-0210 0         0.01467892  0.3927922  0.06146786  0.17566201  0.33942212\n",
       "UEB-0211 0         0.19637137  0.4913623  0.15913161 -0.09048279  0.51251616\n",
       "UEB-0212 0         0.00000000  0.0000000  0.00000000  0.00000000  0.00000000\n",
       "         UEB-0236    UEB-0237   \n",
       "UEB-0205  0.00000000  0.00000000\n",
       "UEB-0208 -0.02262814 -0.05421667\n",
       "UEB-0209  0.47519096 -0.16265001\n",
       "UEB-0210  0.33942212 -0.22771002\n",
       "UEB-0211  0.51251616 -0.15080464\n",
       "UEB-0212  0.00000000  0.00000000"
      ]
     },
     "metadata": {},
     "output_type": "display_data"
    }
   ],
   "source": [
    "# se reemplazan los 0 ya que no existen todos los sitios en todas las muestras, lo que hace que\n",
    "# hace que haya algunos NA\n",
    "global_correlacion[is.na(global_correlacion)] = 0\n",
    "head(global_correlacion)"
   ]
  },
  {
   "cell_type": "code",
   "execution_count": 67,
   "id": "38b7920b",
   "metadata": {},
   "outputs": [
    {
     "data": {
      "text/html": [
       "<strong>png:</strong> 2"
      ],
      "text/latex": [
       "\\textbf{png:} 2"
      ],
      "text/markdown": [
       "**png:** 2"
      ],
      "text/plain": [
       "png \n",
       "  2 "
      ]
     },
     "metadata": {},
     "output_type": "display_data"
    }
   ],
   "source": [
    "options(repr.plot.width = 10, repr.plot.height = 10)\n",
    "pdf(\"/home/fer/PearsonGlobal.pdf\", width = 10, height = 10)\n",
    "\n",
    "breaks <- c(-1, -0.1, 0.1, 1)\n",
    "#breaks <- c(-0.7, -0.1, 0.1, 0.7)\n",
    "colors <- c('blue', 'white', 'white', 'red')\n",
    "\n",
    "col_fun <- colorRamp2(breaks, colors)\n",
    "\n",
    "Heatmap(global_correlacion, name='Pearson', col = col_fun)\n",
    "#Heatmap(global_correlacion, name='Pearson')\n",
    "dev.off()"
   ]
  },
  {
   "cell_type": "markdown",
   "id": "e1e13f22",
   "metadata": {},
   "source": [
    "## "
   ]
  }
 ],
 "metadata": {
  "kernelspec": {
   "display_name": "R",
   "language": "R",
   "name": "ir"
  },
  "language_info": {
   "codemirror_mode": "r",
   "file_extension": ".r",
   "mimetype": "text/x-r-source",
   "name": "R",
   "pygments_lexer": "r",
   "version": "4.1.2"
  }
 },
 "nbformat": 4,
 "nbformat_minor": 5
}
