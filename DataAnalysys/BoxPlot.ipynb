{
 "cells": [
  {
   "cell_type": "markdown",
   "id": "de999693",
   "metadata": {},
   "source": [
    "# Example"
   ]
  },
  {
   "cell_type": "code",
   "execution_count": 1,
   "id": "eb103573",
   "metadata": {},
   "outputs": [],
   "source": [
    "import pandas as pd\n",
    "import matplotlib.pyplot as plt\n",
    "from scipy import stats\n",
    "import seaborn as sns\n",
    "from statannot import add_stat_annotation\n",
    "from scipy.stats import levene\n",
    "from matplotlib.patches import Rectangle"
   ]
  },
  {
   "cell_type": "code",
   "execution_count": 3,
   "id": "ea70a2e5",
   "metadata": {},
   "outputs": [
    {
     "name": "stdout",
     "output_type": "stream",
     "text": [
      "p-value annotation legend:\n",
      "ns: 5.00e-02 < p <= 1.00e+00\n",
      "*: 1.00e-02 < p <= 5.00e-02\n",
      "**: 1.00e-03 < p <= 1.00e-02\n",
      "***: 1.00e-04 < p <= 1.00e-03\n",
      "****: p <= 1.00e-04\n",
      "\n",
      "Thur v.s. Fri: Mann-Whitney-Wilcoxon test two-sided with Bonferroni correction, P_val=1.000e+00 U_stat=6.305e+02\n",
      "Thur v.s. Sat: Mann-Whitney-Wilcoxon test two-sided with Bonferroni correction, P_val=1.407e-01 U_stat=2.180e+03\n",
      "Sun v.s. Fri: Mann-Whitney-Wilcoxon test two-sided with Bonferroni correction, P_val=8.041e-02 U_stat=9.605e+02\n"
     ]
    },
    {
     "data": {
      "text/plain": [
       "(<AxesSubplot:xlabel='day', ylabel='total_bill'>,\n",
       " [<statannot.StatResult.StatResult at 0x7f6e9a279030>,\n",
       "  <statannot.StatResult.StatResult at 0x7f6e9a13a020>,\n",
       "  <statannot.StatResult.StatResult at 0x7f6e9a138ac0>])"
      ]
     },
     "execution_count": 3,
     "metadata": {},
     "output_type": "execute_result"
    },
    {
     "data": {
      "image/png": "[encoded data removed]",
      "text/plain": [
       "<Figure size 432x288 with 1 Axes>"
      ]
     },
     "metadata": {
      "needs_background": "light"
     },
     "output_type": "display_data"
    }
   ],
   "source": [
    "sns.set(style=\"whitegrid\")\n",
    "df = sns.load_dataset(\"tips\")\n",
    "\n",
    "x = \"day\"\n",
    "y = \"total_bill\"\n",
    "order = ['Sun', 'Thur', 'Fri', 'Sat']\n",
    "ax = sns.boxplot(data=df, x=x, y=y, order=order)\n",
    "add_stat_annotation(ax, data=df, x=x, y=y, order=order,\n",
    "                    box_pairs=[(\"Thur\", \"Fri\"), (\"Thur\", \"Sat\"), (\"Fri\", \"Sun\")],\n",
    "                    test='Mann-Whitney', text_format='star', loc='outside', verbose=2)"
   ]
  },
  {
   "cell_type": "code",
   "execution_count": 9,
   "id": "68d8e1a2",
   "metadata": {},
   "outputs": [
    {
     "data": {
      "text/html": [
       "<div>\n",
       "<style scoped>\n",
       "    .dataframe tbody tr th:only-of-type {\n",
       "        vertical-align: middle;\n",
       "    }\n",
       "\n",
       "    .dataframe tbody tr th {\n",
       "        vertical-align: top;\n",
       "    }\n",
       "\n",
       "    .dataframe thead th {\n",
       "        text-align: right;\n",
       "    }\n",
       "</style>\n",
       "<table border=\"1\" class=\"dataframe\">\n",
       "  <thead>\n",
       "    <tr style=\"text-align: right;\">\n",
       "      <th></th>\n",
       "      <th>total_bill</th>\n",
       "      <th>tip</th>\n",
       "      <th>sex</th>\n",
       "      <th>smoker</th>\n",
       "      <th>day</th>\n",
       "      <th>time</th>\n",
       "      <th>size</th>\n",
       "    </tr>\n",
       "  </thead>\n",
       "  <tbody>\n",
       "    <tr>\n",
       "      <th>0</th>\n",
       "      <td>16.99</td>\n",
       "      <td>1.01</td>\n",
       "      <td>Female</td>\n",
       "      <td>No</td>\n",
       "      <td>Sun</td>\n",
       "      <td>Dinner</td>\n",
       "      <td>2</td>\n",
       "    </tr>\n",
       "    <tr>\n",
       "      <th>1</th>\n",
       "      <td>10.34</td>\n",
       "      <td>1.66</td>\n",
       "      <td>Male</td>\n",
       "      <td>No</td>\n",
       "      <td>Sun</td>\n",
       "      <td>Dinner</td>\n",
       "      <td>3</td>\n",
       "    </tr>\n",
       "    <tr>\n",
       "      <th>2</th>\n",
       "      <td>21.01</td>\n",
       "      <td>3.50</td>\n",
       "      <td>Male</td>\n",
       "      <td>No</td>\n",
       "      <td>Sun</td>\n",
       "      <td>Dinner</td>\n",
       "      <td>3</td>\n",
       "    </tr>\n",
       "    <tr>\n",
       "      <th>3</th>\n",
       "      <td>23.68</td>\n",
       "      <td>3.31</td>\n",
       "      <td>Male</td>\n",
       "      <td>No</td>\n",
       "      <td>Sun</td>\n",
       "      <td>Dinner</td>\n",
       "      <td>2</td>\n",
       "    </tr>\n",
       "    <tr>\n",
       "      <th>4</th>\n",
       "      <td>24.59</td>\n",
       "      <td>3.61</td>\n",
       "      <td>Female</td>\n",
       "      <td>No</td>\n",
       "      <td>Sun</td>\n",
       "      <td>Dinner</td>\n",
       "      <td>4</td>\n",
       "    </tr>\n",
       "  </tbody>\n",
       "</table>\n",
       "</div>"
      ],
      "text/plain": [
       "   total_bill   tip     sex smoker  day    time  size\n",
       "0       16.99  1.01  Female     No  Sun  Dinner     2\n",
       "1       10.34  1.66    Male     No  Sun  Dinner     3\n",
       "2       21.01  3.50    Male     No  Sun  Dinner     3\n",
       "3       23.68  3.31    Male     No  Sun  Dinner     2\n",
       "4       24.59  3.61  Female     No  Sun  Dinner     4"
      ]
     },
     "execution_count": 9,
     "metadata": {},
     "output_type": "execute_result"
    }
   ],
   "source": [
    "df.head()"
   ]
  },
  {
   "cell_type": "markdown",
   "id": "002009ae",
   "metadata": {},
   "source": [
    "# Stage"
   ]
  },
  {
   "cell_type": "code",
   "execution_count": 6,
   "id": "f8fbbab6",
   "metadata": {},
   "outputs": [
    {
     "data": {
      "text/html": [
       "<div>\n",
       "<style scoped>\n",
       "    .dataframe tbody tr th:only-of-type {\n",
       "        vertical-align: middle;\n",
       "    }\n",
       "\n",
       "    .dataframe tbody tr th {\n",
       "        vertical-align: top;\n",
       "    }\n",
       "\n",
       "    .dataframe thead th {\n",
       "        text-align: right;\n",
       "    }\n",
       "</style>\n",
       "<table border=\"1\" class=\"dataframe\">\n",
       "  <thead>\n",
       "    <tr style=\"text-align: right;\">\n",
       "      <th></th>\n",
       "      <th>ID</th>\n",
       "      <th>Stage</th>\n",
       "      <th>Concentration</th>\n",
       "    </tr>\n",
       "  </thead>\n",
       "  <tbody>\n",
       "    <tr>\n",
       "      <th>0</th>\n",
       "      <td>UEB-0205</td>\n",
       "      <td>I</td>\n",
       "      <td>0.81</td>\n",
       "    </tr>\n",
       "    <tr>\n",
       "      <th>1</th>\n",
       "      <td>UEB-0208</td>\n",
       "      <td>I</td>\n",
       "      <td>0.88</td>\n",
       "    </tr>\n",
       "    <tr>\n",
       "      <th>2</th>\n",
       "      <td>UEB-0209</td>\n",
       "      <td>II</td>\n",
       "      <td>0.36</td>\n",
       "    </tr>\n",
       "    <tr>\n",
       "      <th>3</th>\n",
       "      <td>UEB-0210</td>\n",
       "      <td>II</td>\n",
       "      <td>1.27</td>\n",
       "    </tr>\n",
       "    <tr>\n",
       "      <th>4</th>\n",
       "      <td>UEB-0211</td>\n",
       "      <td>III</td>\n",
       "      <td>1.07</td>\n",
       "    </tr>\n",
       "  </tbody>\n",
       "</table>\n",
       "</div>"
      ],
      "text/plain": [
       "         ID Stage  Concentration\n",
       "0  UEB-0205     I           0.81\n",
       "1  UEB-0208     I           0.88\n",
       "2  UEB-0209    II           0.36\n",
       "3  UEB-0210    II           1.27\n",
       "4  UEB-0211   III           1.07"
      ]
     },
     "execution_count": 6,
     "metadata": {},
     "output_type": "execute_result"
    }
   ],
   "source": [
    "df = pd.read_csv('/home/fer/Documents/cfDNA/Clinical/Concentracion_cfDNA.csv')\n",
    "df.head()"
   ]
  },
  {
   "cell_type": "code",
   "execution_count": 7,
   "id": "5c5c905c",
   "metadata": {},
   "outputs": [
    {
     "data": {
      "text/html": [
       "<div>\n",
       "<style scoped>\n",
       "    .dataframe tbody tr th:only-of-type {\n",
       "        vertical-align: middle;\n",
       "    }\n",
       "\n",
       "    .dataframe tbody tr th {\n",
       "        vertical-align: top;\n",
       "    }\n",
       "\n",
       "    .dataframe thead th {\n",
       "        text-align: right;\n",
       "    }\n",
       "</style>\n",
       "<table border=\"1\" class=\"dataframe\">\n",
       "  <thead>\n",
       "    <tr style=\"text-align: right;\">\n",
       "      <th></th>\n",
       "      <th>Concentration</th>\n",
       "    </tr>\n",
       "    <tr>\n",
       "      <th>Stage</th>\n",
       "      <th></th>\n",
       "    </tr>\n",
       "  </thead>\n",
       "  <tbody>\n",
       "    <tr>\n",
       "      <th>I</th>\n",
       "      <td>0.7300</td>\n",
       "    </tr>\n",
       "    <tr>\n",
       "      <th>II</th>\n",
       "      <td>0.8375</td>\n",
       "    </tr>\n",
       "    <tr>\n",
       "      <th>III</th>\n",
       "      <td>1.1160</td>\n",
       "    </tr>\n",
       "  </tbody>\n",
       "</table>\n",
       "</div>"
      ],
      "text/plain": [
       "       Concentration\n",
       "Stage               \n",
       "I             0.7300\n",
       "II            0.8375\n",
       "III           1.1160"
      ]
     },
     "execution_count": 7,
     "metadata": {},
     "output_type": "execute_result"
    }
   ],
   "source": [
    "df.groupby(['Stage']).mean()"
   ]
  },
  {
   "cell_type": "code",
   "execution_count": 8,
   "id": "ecd6f837",
   "metadata": {},
   "outputs": [
    {
     "data": {
      "text/plain": [
       "0.7030027856748982"
      ]
     },
     "execution_count": 8,
     "metadata": {},
     "output_type": "execute_result"
    }
   ],
   "source": [
    "df['Concentration'].std()"
   ]
  },
  {
   "cell_type": "code",
   "execution_count": 9,
   "id": "f2ec324d",
   "metadata": {},
   "outputs": [
    {
     "data": {
      "text/plain": [
       "[0.3599999999999999,\n",
       " 1.27,\n",
       " 0.32,\n",
       " 1.32,\n",
       " 1.27,\n",
       " 0.4299999999999999,\n",
       " 0.7099999999999999,\n",
       " 1.02]"
      ]
     },
     "execution_count": 9,
     "metadata": {},
     "output_type": "execute_result"
    }
   ],
   "source": [
    "df1 = df[df['Stage']=='I'] \n",
    "df2 = df[df['Stage']=='II']\n",
    "df3 = df[df['Stage']=='III']\n",
    "\n",
    "stage1 = list(df1.Concentration)\n",
    "stage2 = list(df2.Concentration)\n",
    "stage3 = list(df3.Concentration)\n",
    "stage2"
   ]
  },
  {
   "cell_type": "code",
   "execution_count": 10,
   "id": "74f44c12",
   "metadata": {},
   "outputs": [
    {
     "data": {
      "text/plain": [
       "LeveneResult(statistic=0.8433511755213283, pvalue=0.45250552218134665)"
      ]
     },
     "execution_count": 10,
     "metadata": {},
     "output_type": "execute_result"
    }
   ],
   "source": [
    "levene(stage1, stage2, stage3)"
   ]
  },
  {
   "cell_type": "code",
   "execution_count": 11,
   "id": "00c542b0",
   "metadata": {},
   "outputs": [
    {
     "data": {
      "text/plain": [
       "0.9774308925541781"
      ]
     },
     "execution_count": 11,
     "metadata": {},
     "output_type": "execute_result"
    }
   ],
   "source": [
    "kw, pv = stats.kruskal(stage1, stage2, stage3)\n",
    "pv"
   ]
  },
  {
   "cell_type": "code",
   "execution_count": 6,
   "id": "70a49933",
   "metadata": {},
   "outputs": [
    {
     "name": "stdout",
     "output_type": "stream",
     "text": [
      "p-value annotation legend:\n",
      "ns: 5.00e-02 < p <= 1.00e+00\n",
      "*: 1.00e-02 < p <= 5.00e-02\n",
      "**: 1.00e-03 < p <= 1.00e-02\n",
      "***: 1.00e-04 < p <= 1.00e-03\n",
      "****: p <= 1.00e-04\n",
      "\n",
      "I v.s. II: Mann-Whitney-Wilcoxon test two-sided with Bonferroni correction, P_val=1.000e+00 U_stat=1.100e+01\n",
      "II v.s. III: Mann-Whitney-Wilcoxon test two-sided with Bonferroni correction, P_val=1.000e+00 U_stat=2.100e+01\n",
      "I v.s. III: Mann-Whitney-Wilcoxon test two-sided with Bonferroni correction, P_val=1.000e+00 U_stat=8.000e+00\n"
     ]
    },
    {
     "data": {
      "text/plain": [
       "(<AxesSubplot:xlabel='Stage', ylabel='Concentration'>,\n",
       " [<statannot.StatResult.StatResult at 0x7f75a2f60d00>,\n",
       "  <statannot.StatResult.StatResult at 0x7f75a2de7430>,\n",
       "  <statannot.StatResult.StatResult at 0x7f75a2de71f0>])"
      ]
     },
     "execution_count": 6,
     "metadata": {},
     "output_type": "execute_result"
    },
    {
     "data": {
      "image/png": "[encoded data removed]",
      "text/plain": [
       "<Figure size 432x288 with 1 Axes>"
      ]
     },
     "metadata": {
      "needs_background": "light"
     },
     "output_type": "display_data"
    }
   ],
   "source": [
    "plt.style.use('ggplot')\n",
    "ax = sns.boxplot(data=df, x='Stage', y='Concentration')\n",
    "add_stat_annotation(ax, data=df, x='Stage', y='Concentration', \n",
    "                    box_pairs=[(\"I\", \"II\"), (\"I\", \"III\"), (\"II\", \"III\")],\n",
    "                    test='Mann-Whitney', text_format='star', loc='outside', verbose=2)"
   ]
  },
  {
   "cell_type": "code",
   "execution_count": 7,
   "id": "4503888a",
   "metadata": {},
   "outputs": [
    {
     "data": {
      "image/png": "[encoded data removed]",
      "text/plain": [
       "<Figure size 432x288 with 1 Axes>"
      ]
     },
     "metadata": {
      "needs_background": "light"
     },
     "output_type": "display_data"
    }
   ],
   "source": [
    "#plt.style.use('ggplot')\n",
    "#sns.set(style=\"whitegrid\")\n",
    "#sns.set_theme(color_codes=True)\n",
    "#fig, ax = plt.subplots(figsize=(5, 5))\n",
    "\n",
    "from matplotlib.patches import FancyBboxPatch\n",
    "p = sns.boxplot(data=df, x='Stage', y='Concentration', palette = \"Set2\")\n",
    "p.set(xlabel = \"Stage\", ylabel = \"Concentration (ng/μl)\")\n",
    "#p.add_patch(Rectangle((-0.4, 2.7), 1, 0.5, fc=\"black\", zorder=10, alpha = .2))\n",
    "#plt.text(-0.3, 3, \"kw = \" + str(round(kw, 4)) , horizontalalignment='left', size=10)\n",
    "#plt.text(-0.3, 2.85, \"p_value = \"+ str(round(pv, 4)) , horizontalalignment='left', size=10)\n",
    "plt.savefig('/home/fer/BoxPlotStage.pdf', dpi=300)"
   ]
  },
  {
   "cell_type": "code",
   "execution_count": 17,
   "id": "75a7f77e",
   "metadata": {},
   "outputs": [
    {
     "data": {
      "image/png": "[encoded data removed]",
      "text/plain": [
       "<Figure size 360x360 with 1 Axes>"
      ]
     },
     "metadata": {},
     "output_type": "display_data"
    }
   ],
   "source": [
    "sns.catplot(data=df, kind=\"violin\",x='Stage', y='Concentration')\n",
    "plt.show()"
   ]
  },
  {
   "cell_type": "markdown",
   "id": "d8f0504c",
   "metadata": {},
   "source": [
    "# Histologica"
   ]
  },
  {
   "cell_type": "code",
   "execution_count": 79,
   "id": "c9841d34",
   "metadata": {},
   "outputs": [
    {
     "data": {
      "text/html": [
       "<div>\n",
       "<style scoped>\n",
       "    .dataframe tbody tr th:only-of-type {\n",
       "        vertical-align: middle;\n",
       "    }\n",
       "\n",
       "    .dataframe tbody tr th {\n",
       "        vertical-align: top;\n",
       "    }\n",
       "\n",
       "    .dataframe thead th {\n",
       "        text-align: right;\n",
       "    }\n",
       "</style>\n",
       "<table border=\"1\" class=\"dataframe\">\n",
       "  <thead>\n",
       "    <tr style=\"text-align: right;\">\n",
       "      <th></th>\n",
       "      <th>Unnamed: 0</th>\n",
       "      <th>ID</th>\n",
       "      <th>Age</th>\n",
       "      <th>Stadium</th>\n",
       "      <th>Sex</th>\n",
       "      <th>ResponseQX</th>\n",
       "      <th>Histological</th>\n",
       "      <th>Tumor_progression</th>\n",
       "      <th>T</th>\n",
       "      <th>N</th>\n",
       "      <th>TumorFraction</th>\n",
       "      <th>SubMolec</th>\n",
       "      <th>cfDNA_concentration</th>\n",
       "      <th>CNV_all</th>\n",
       "      <th>CNV_cfDNA</th>\n",
       "      <th>CNV_tumor</th>\n",
       "      <th>SNV_all</th>\n",
       "      <th>CNV_cfDNASNV</th>\n",
       "      <th>All</th>\n",
       "    </tr>\n",
       "  </thead>\n",
       "  <tbody>\n",
       "    <tr>\n",
       "      <th>0</th>\n",
       "      <td>0</td>\n",
       "      <td>UEB_0205</td>\n",
       "      <td>76.0</td>\n",
       "      <td>IA</td>\n",
       "      <td>Female</td>\n",
       "      <td>Partial</td>\n",
       "      <td>IDC</td>\n",
       "      <td>Remission</td>\n",
       "      <td>1.0</td>\n",
       "      <td>0.0</td>\n",
       "      <td>0.00000</td>\n",
       "      <td>NaN</td>\n",
       "      <td>0.81</td>\n",
       "      <td>7.0</td>\n",
       "      <td>0.0</td>\n",
       "      <td>7.0</td>\n",
       "      <td>1.0</td>\n",
       "      <td>1.0</td>\n",
       "      <td>8.0</td>\n",
       "    </tr>\n",
       "    <tr>\n",
       "      <th>1</th>\n",
       "      <td>1</td>\n",
       "      <td>UEB_0208</td>\n",
       "      <td>55.0</td>\n",
       "      <td>IA</td>\n",
       "      <td>Female</td>\n",
       "      <td>Complete</td>\n",
       "      <td>IDC</td>\n",
       "      <td>Remission</td>\n",
       "      <td>1.0</td>\n",
       "      <td>0.0</td>\n",
       "      <td>0.01832</td>\n",
       "      <td>NaN</td>\n",
       "      <td>0.88</td>\n",
       "      <td>8.0</td>\n",
       "      <td>4.0</td>\n",
       "      <td>4.0</td>\n",
       "      <td>1.0</td>\n",
       "      <td>5.0</td>\n",
       "      <td>9.0</td>\n",
       "    </tr>\n",
       "    <tr>\n",
       "      <th>2</th>\n",
       "      <td>2</td>\n",
       "      <td>UEB_0209</td>\n",
       "      <td>51.0</td>\n",
       "      <td>IIA</td>\n",
       "      <td>Female</td>\n",
       "      <td>NaN</td>\n",
       "      <td>IDC</td>\n",
       "      <td>Remission</td>\n",
       "      <td>2.0</td>\n",
       "      <td>0.0</td>\n",
       "      <td>0.01756</td>\n",
       "      <td>NaN</td>\n",
       "      <td>0.36</td>\n",
       "      <td>32.0</td>\n",
       "      <td>15.0</td>\n",
       "      <td>17.0</td>\n",
       "      <td>0.0</td>\n",
       "      <td>15.0</td>\n",
       "      <td>32.0</td>\n",
       "    </tr>\n",
       "    <tr>\n",
       "      <th>3</th>\n",
       "      <td>3</td>\n",
       "      <td>UEB_0210</td>\n",
       "      <td>55.0</td>\n",
       "      <td>IIA</td>\n",
       "      <td>Female</td>\n",
       "      <td>Partial</td>\n",
       "      <td>IDC</td>\n",
       "      <td>NaN</td>\n",
       "      <td>2.0</td>\n",
       "      <td>0.0</td>\n",
       "      <td>0.01458</td>\n",
       "      <td>Luminal B Like HER2+</td>\n",
       "      <td>1.27</td>\n",
       "      <td>28.0</td>\n",
       "      <td>21.0</td>\n",
       "      <td>7.0</td>\n",
       "      <td>0.0</td>\n",
       "      <td>21.0</td>\n",
       "      <td>28.0</td>\n",
       "    </tr>\n",
       "    <tr>\n",
       "      <th>4</th>\n",
       "      <td>4</td>\n",
       "      <td>UEB_0211</td>\n",
       "      <td>68.0</td>\n",
       "      <td>IIIC</td>\n",
       "      <td>Male</td>\n",
       "      <td>Partial</td>\n",
       "      <td>IDC</td>\n",
       "      <td>Active disease</td>\n",
       "      <td>4.0</td>\n",
       "      <td>1.0</td>\n",
       "      <td>0.02001</td>\n",
       "      <td>NaN</td>\n",
       "      <td>1.07</td>\n",
       "      <td>24.0</td>\n",
       "      <td>11.0</td>\n",
       "      <td>13.0</td>\n",
       "      <td>0.0</td>\n",
       "      <td>11.0</td>\n",
       "      <td>24.0</td>\n",
       "    </tr>\n",
       "  </tbody>\n",
       "</table>\n",
       "</div>"
      ],
      "text/plain": [
       "   Unnamed: 0        ID   Age Stadium     Sex ResponseQX Histological  \\\n",
       "0           0  UEB_0205  76.0      IA  Female    Partial          IDC   \n",
       "1           1  UEB_0208  55.0      IA  Female   Complete          IDC   \n",
       "2           2  UEB_0209  51.0     IIA  Female        NaN          IDC   \n",
       "3           3  UEB_0210  55.0     IIA  Female    Partial          IDC   \n",
       "4           4  UEB_0211  68.0    IIIC    Male    Partial          IDC   \n",
       "\n",
       "  Tumor_progression    T    N  TumorFraction              SubMolec  \\\n",
       "0         Remission  1.0  0.0        0.00000                   NaN   \n",
       "1         Remission  1.0  0.0        0.01832                   NaN   \n",
       "2         Remission  2.0  0.0        0.01756                   NaN   \n",
       "3               NaN  2.0  0.0        0.01458  Luminal B Like HER2+   \n",
       "4    Active disease  4.0  1.0        0.02001                   NaN   \n",
       "\n",
       "   cfDNA_concentration  CNV_all  CNV_cfDNA  CNV_tumor  SNV_all  CNV_cfDNASNV  \\\n",
       "0                 0.81      7.0        0.0        7.0      1.0           1.0   \n",
       "1                 0.88      8.0        4.0        4.0      1.0           5.0   \n",
       "2                 0.36     32.0       15.0       17.0      0.0          15.0   \n",
       "3                 1.27     28.0       21.0        7.0      0.0          21.0   \n",
       "4                 1.07     24.0       11.0       13.0      0.0          11.0   \n",
       "\n",
       "    All  \n",
       "0   8.0  \n",
       "1   9.0  \n",
       "2  32.0  \n",
       "3  28.0  \n",
       "4  24.0  "
      ]
     },
     "execution_count": 79,
     "metadata": {},
     "output_type": "execute_result"
    }
   ],
   "source": [
    "df = pd.read_csv('/home/fer/Documents/cfDNA/Clinical/VariantCounts.csv')\n",
    "df = df.replace({'Sarcomatoid metaplastic':'SM'})\n",
    "df.head()"
   ]
  },
  {
   "cell_type": "code",
   "execution_count": 80,
   "id": "25e1f7b8",
   "metadata": {},
   "outputs": [
    {
     "data": {
      "text/plain": [
       "IDC            18\n",
       "Phyllodes       4\n",
       "SM              1\n",
       "Metaplastic     1\n",
       "Mucinous        1\n",
       "Lobular         1\n",
       "Name: Histological, dtype: int64"
      ]
     },
     "execution_count": 80,
     "metadata": {},
     "output_type": "execute_result"
    }
   ],
   "source": [
    "df['Histological'].value_counts()\n"
   ]
  },
  {
   "cell_type": "code",
   "execution_count": 81,
   "id": "8d1add71",
   "metadata": {},
   "outputs": [],
   "source": [
    "df1 = df[df['Histological']=='IDC'] \n",
    "df2 = df[df['Histological']=='Phyllodes']\n",
    "df3 = df[df['Histological']=='SM']\n",
    "df4 = df[df['Histological']=='Metaplastic']\n",
    "df5 = df[df['Histological']=='Lobular']\n",
    "\n",
    "stage1 = list(df1.cfDNA_concentration)\n",
    "stage1 = [x for x in stage1 if str(x) != 'nan']\n",
    "stage2 = list(df2.cfDNA_concentration)\n",
    "stage2 = [x for x in stage2 if str(x) != 'nan']\n",
    "stage3 = list(df3.cfDNA_concentration)\n",
    "stage3 = [x for x in stage3 if str(x) != 'nan']\n",
    "stage4 = list(df4.cfDNA_concentration)\n",
    "stage4 = [x for x in stage4 if str(x) != 'nan']\n",
    "stage5 = list(df5.cfDNA_concentration)\n",
    "stage5 = [x for x in stage5 if str(x) != 'nan']"
   ]
  },
  {
   "cell_type": "code",
   "execution_count": 82,
   "id": "3fc4348e",
   "metadata": {},
   "outputs": [
    {
     "data": {
      "text/plain": [
       "LeveneResult(statistic=1.4114005389345683, pvalue=0.2991229284136108)"
      ]
     },
     "execution_count": 82,
     "metadata": {},
     "output_type": "execute_result"
    }
   ],
   "source": [
    "levene(stage1, stage2, stage3, stage4, stage5)"
   ]
  },
  {
   "cell_type": "code",
   "execution_count": 83,
   "id": "d26473bf",
   "metadata": {},
   "outputs": [],
   "source": [
    "kw, pv = stats.kruskal(stage1, stage2, stage3, stage4, stage5)"
   ]
  },
  {
   "cell_type": "code",
   "execution_count": 84,
   "id": "b1aa8d85",
   "metadata": {},
   "outputs": [
    {
     "data": {
      "image/png": "[encoded data removed]",
      "text/plain": [
       "<Figure size 432x288 with 1 Axes>"
      ]
     },
     "metadata": {},
     "output_type": "display_data"
    }
   ],
   "source": [
    "sns.set(style=\"whitegrid\")\n",
    "#sns.set_theme(color_codes=True)\n",
    "#fig, ax = plt.subplots(figsize=(5, 5))\n",
    "\n",
    "from matplotlib.patches import FancyBboxPatch\n",
    "p = sns.boxplot(data=df, x='Histological', y='cfDNA_concentration', palette = \"Set2\")\n",
    "p.set_xticklabels(p.get_xticklabels(),rotation = 45)\n",
    "\n",
    "p.set(xlabel = \"Histologic\", ylabel = \"Concentration (ng/μl)\")\n",
    "\n",
    "p.add_patch(Rectangle((3.4, 4.2), 1.9, 1.2, fc=\"black\", zorder=10, alpha = .2))\n",
    "plt.text(3.5, 5, \"kw = \" + str(round(kw, 4)) , horizontalalignment='left', size=10)\n",
    "plt.text(3.5, 4.5, \"p_value = \"+ str(round(pv, 4)) , horizontalalignment='left', size=10)\n",
    "plt.savefig('/home/fer/BoxPlotStage.pdf', dpi=300)"
   ]
  },
  {
   "cell_type": "code",
   "execution_count": 73,
   "id": "41a8454d",
   "metadata": {},
   "outputs": [
    {
     "data": {
      "text/plain": [
       "[3.18]"
      ]
     },
     "execution_count": 73,
     "metadata": {},
     "output_type": "execute_result"
    }
   ],
   "source": [
    "stage3"
   ]
  },
  {
   "cell_type": "markdown",
   "id": "397dd5b6",
   "metadata": {},
   "source": [
    "# SubMolec"
   ]
  },
  {
   "cell_type": "code",
   "execution_count": 63,
   "id": "bc2fa50b",
   "metadata": {},
   "outputs": [
    {
     "data": {
      "text/plain": [
       "Luminal B Like HER2+    4\n",
       "Triple Negativo         3\n",
       "Luminal A               2\n",
       "Luminal B               1\n",
       "Name: SubMolec, dtype: int64"
      ]
     },
     "execution_count": 63,
     "metadata": {},
     "output_type": "execute_result"
    }
   ],
   "source": [
    "df['SubMolec'].value_counts()"
   ]
  },
  {
   "cell_type": "code",
   "execution_count": 74,
   "id": "28cb51e1",
   "metadata": {},
   "outputs": [],
   "source": [
    "df1 = df[df['SubMolec']=='Luminal B Like HER2+'] \n",
    "df2 = df[df['SubMolec']=='Triple Negativo'] \n",
    "df3 = df[df['SubMolec']=='Luminal A'] \n",
    "df4 = df[df['SubMolec']=='Luminal B'] \n",
    "\n",
    "stage1 = list(df1.cfDNA_concentration)\n",
    "stage1 = [x for x in stage1 if str(x) != 'nan']\n",
    "stage2 = list(df2.cfDNA_concentration)\n",
    "stage2 = [x for x in stage2 if str(x) != 'nan']\n",
    "stage3 = list(df2.cfDNA_concentration)\n",
    "stage3 = [x for x in stage3 if str(x) != 'nan']\n",
    "stage4 = list(df2.cfDNA_concentration)\n",
    "stage4 = [x for x in stage4 if str(x) != 'nan']"
   ]
  },
  {
   "cell_type": "code",
   "execution_count": 75,
   "id": "16691835",
   "metadata": {},
   "outputs": [
    {
     "data": {
      "text/plain": [
       "LeveneResult(statistic=1.0024146323541903e+31, pvalue=5.349063567623473e-47)"
      ]
     },
     "execution_count": 75,
     "metadata": {},
     "output_type": "execute_result"
    }
   ],
   "source": [
    "levene(stage1, stage2, stage3, stage4)"
   ]
  },
  {
   "cell_type": "code",
   "execution_count": 76,
   "id": "099258fc",
   "metadata": {},
   "outputs": [],
   "source": [
    "kw, pv = stats.kruskal(stage1, stage2, stage3, stage4, stage5)"
   ]
  },
  {
   "cell_type": "code",
   "execution_count": 78,
   "id": "c4b30b61",
   "metadata": {},
   "outputs": [
    {
     "data": {
      "image/png": "[encoded data removed]",
      "text/plain": [
       "<Figure size 432x288 with 1 Axes>"
      ]
     },
     "metadata": {},
     "output_type": "display_data"
    }
   ],
   "source": [
    "sns.set(style=\"whitegrid\")\n",
    "#sns.set_theme(color_codes=True)\n",
    "#fig, ax = plt.subplots(figsize=(5, 5))\n",
    "\n",
    "from matplotlib.patches import FancyBboxPatch\n",
    "p = sns.boxplot(data=df, x='SubMolec', y='cfDNA_concentration', palette = \"Set2\")\n",
    "p.set_xticklabels(p.get_xticklabels(),rotation = 45)\n",
    "\n",
    "p.set(xlabel = \"Histologic\", ylabel = \"Concentration (ng/μl)\")\n",
    "\n",
    "p.add_patch(Rectangle((3.4, 4.2), 1.9, 1.2, fc=\"black\", zorder=10, alpha = .2))\n",
    "plt.text(3.5, 5, \"kw = \" + str(round(kw, 4)) , horizontalalignment='left', size=10)\n",
    "plt.text(3.5, 4.5, \"p_value = \"+ str(round(pv, 4)) , horizontalalignment='left', size=10)\n",
    "plt.savefig('/home/fer/BoxPlotStage.pdf', dpi=300)"
   ]
  },
  {
   "cell_type": "markdown",
   "id": "87b3860f",
   "metadata": {},
   "source": [
    "# Treatment"
   ]
  },
  {
   "cell_type": "code",
   "execution_count": 6,
   "id": "e7c411cd",
   "metadata": {},
   "outputs": [
    {
     "data": {
      "text/html": [
       "<div>\n",
       "<style scoped>\n",
       "    .dataframe tbody tr th:only-of-type {\n",
       "        vertical-align: middle;\n",
       "    }\n",
       "\n",
       "    .dataframe tbody tr th {\n",
       "        vertical-align: top;\n",
       "    }\n",
       "\n",
       "    .dataframe thead th {\n",
       "        text-align: right;\n",
       "    }\n",
       "</style>\n",
       "<table border=\"1\" class=\"dataframe\">\n",
       "  <thead>\n",
       "    <tr style=\"text-align: right;\">\n",
       "      <th></th>\n",
       "      <th>ID</th>\n",
       "      <th>Concentration</th>\n",
       "      <th>Treatment</th>\n",
       "      <th>TreatmentV2</th>\n",
       "      <th>Unnamed: 4</th>\n",
       "      <th>Unnamed: 5</th>\n",
       "      <th>Unnamed: 6</th>\n",
       "      <th>Unnamed: 7</th>\n",
       "      <th>Unnamed: 8</th>\n",
       "      <th>Unnamed: 9</th>\n",
       "      <th>Unnamed: 10</th>\n",
       "      <th>Unnamed: 11</th>\n",
       "      <th>Unnamed: 12</th>\n",
       "    </tr>\n",
       "  </thead>\n",
       "  <tbody>\n",
       "    <tr>\n",
       "      <th>0</th>\n",
       "      <td>UEB-0228</td>\n",
       "      <td>0.48</td>\n",
       "      <td>Surgery</td>\n",
       "      <td>SX</td>\n",
       "      <td>NaN</td>\n",
       "      <td>NaN</td>\n",
       "      <td>NaN</td>\n",
       "      <td>NaN</td>\n",
       "      <td>NaN</td>\n",
       "      <td>NaN</td>\n",
       "      <td>NaN</td>\n",
       "      <td>NaN</td>\n",
       "      <td>NaN</td>\n",
       "    </tr>\n",
       "    <tr>\n",
       "      <th>1</th>\n",
       "      <td>UEB-0205</td>\n",
       "      <td>0.81</td>\n",
       "      <td>Rad and Chem</td>\n",
       "      <td>RTX-AC</td>\n",
       "      <td>NaN</td>\n",
       "      <td>NaN</td>\n",
       "      <td>NaN</td>\n",
       "      <td>NaN</td>\n",
       "      <td>NaN</td>\n",
       "      <td>NaN</td>\n",
       "      <td>NaN</td>\n",
       "      <td>NaN</td>\n",
       "      <td>NaN</td>\n",
       "    </tr>\n",
       "    <tr>\n",
       "      <th>2</th>\n",
       "      <td>UEB-0208</td>\n",
       "      <td>0.88</td>\n",
       "      <td>Chemotherapy</td>\n",
       "      <td>NAC</td>\n",
       "      <td>NaN</td>\n",
       "      <td>NaN</td>\n",
       "      <td>NaN</td>\n",
       "      <td>NaN</td>\n",
       "      <td>NaN</td>\n",
       "      <td>NaN</td>\n",
       "      <td>NaN</td>\n",
       "      <td>NaN</td>\n",
       "      <td>NaN</td>\n",
       "    </tr>\n",
       "    <tr>\n",
       "      <th>3</th>\n",
       "      <td>UEB-0209</td>\n",
       "      <td>0.36</td>\n",
       "      <td>Surgery</td>\n",
       "      <td>SX</td>\n",
       "      <td>NaN</td>\n",
       "      <td>NaN</td>\n",
       "      <td>NaN</td>\n",
       "      <td>NaN</td>\n",
       "      <td>NaN</td>\n",
       "      <td>NaN</td>\n",
       "      <td>NaN</td>\n",
       "      <td>NaN</td>\n",
       "      <td>NaN</td>\n",
       "    </tr>\n",
       "    <tr>\n",
       "      <th>4</th>\n",
       "      <td>UEB-0210</td>\n",
       "      <td>1.27</td>\n",
       "      <td>Rad and Chem</td>\n",
       "      <td>RTX-NAC</td>\n",
       "      <td>NaN</td>\n",
       "      <td>NaN</td>\n",
       "      <td>NaN</td>\n",
       "      <td>NaN</td>\n",
       "      <td>NaN</td>\n",
       "      <td>NaN</td>\n",
       "      <td>NaN</td>\n",
       "      <td>NaN</td>\n",
       "      <td>NaN</td>\n",
       "    </tr>\n",
       "  </tbody>\n",
       "</table>\n",
       "</div>"
      ],
      "text/plain": [
       "         ID  Concentration     Treatment TreatmentV2  Unnamed: 4  Unnamed: 5  \\\n",
       "0  UEB-0228           0.48       Surgery          SX         NaN         NaN   \n",
       "1  UEB-0205           0.81  Rad and Chem      RTX-AC         NaN         NaN   \n",
       "2  UEB-0208           0.88  Chemotherapy         NAC         NaN         NaN   \n",
       "3  UEB-0209           0.36       Surgery          SX         NaN         NaN   \n",
       "4  UEB-0210           1.27  Rad and Chem     RTX-NAC         NaN         NaN   \n",
       "\n",
       "   Unnamed: 6  Unnamed: 7  Unnamed: 8 Unnamed: 9  Unnamed: 10 Unnamed: 11  \\\n",
       "0         NaN         NaN         NaN        NaN          NaN         NaN   \n",
       "1         NaN         NaN         NaN        NaN          NaN         NaN   \n",
       "2         NaN         NaN         NaN        NaN          NaN         NaN   \n",
       "3         NaN         NaN         NaN        NaN          NaN         NaN   \n",
       "4         NaN         NaN         NaN        NaN          NaN         NaN   \n",
       "\n",
       "  Unnamed: 12  \n",
       "0         NaN  \n",
       "1         NaN  \n",
       "2         NaN  \n",
       "3         NaN  \n",
       "4         NaN  "
      ]
     },
     "execution_count": 6,
     "metadata": {},
     "output_type": "execute_result"
    }
   ],
   "source": [
    "df = pd.read_csv('/home/fer/Documents/cfDNA/Clinical/Treatment.csv')\n",
    "#df = df.replace({'Surgery':'Srg'})\n",
    "#df = df.replace({'Chemotherapy':'Chem'})\n",
    "#df = df.replace({'Radiotherapy':'Rad'})\n",
    "#df = df.replace({'Rad and Chem':'Rad-Chem'})\n",
    "df.head()"
   ]
  },
  {
   "cell_type": "code",
   "execution_count": 22,
   "id": "dba5d2a5",
   "metadata": {},
   "outputs": [
    {
     "name": "stdout",
     "output_type": "stream",
     "text": [
      "p-value annotation legend:\n",
      "ns: 5.00e-02 < p <= 1.00e+00\n",
      "*: 1.00e-02 < p <= 5.00e-02\n",
      "**: 1.00e-03 < p <= 1.00e-02\n",
      "***: 1.00e-04 < p <= 1.00e-03\n",
      "****: p <= 1.00e-04\n",
      "\n"
     ]
    },
    {
     "ename": "ValueError",
     "evalue": "box_pairs contains an invalid box pair.",
     "output_type": "error",
     "traceback": [
      "\u001b[0;31m---------------------------------------------------------------------------\u001b[0m",
      "\u001b[0;31mValueError\u001b[0m                                Traceback (most recent call last)",
      "Input \u001b[0;32mIn [22]\u001b[0m, in \u001b[0;36m<cell line: 3>\u001b[0;34m()\u001b[0m\n\u001b[1;32m      1\u001b[0m plt\u001b[38;5;241m.\u001b[39mstyle\u001b[38;5;241m.\u001b[39muse(\u001b[38;5;124m'\u001b[39m\u001b[38;5;124mggplot\u001b[39m\u001b[38;5;124m'\u001b[39m)\n\u001b[1;32m      2\u001b[0m ax \u001b[38;5;241m=\u001b[39m sns\u001b[38;5;241m.\u001b[39mboxplot(data\u001b[38;5;241m=\u001b[39mdf, x\u001b[38;5;241m=\u001b[39m\u001b[38;5;124m'\u001b[39m\u001b[38;5;124mTreatment\u001b[39m\u001b[38;5;124m'\u001b[39m, y\u001b[38;5;241m=\u001b[39m\u001b[38;5;124m'\u001b[39m\u001b[38;5;124mConcentration\u001b[39m\u001b[38;5;124m'\u001b[39m)\n\u001b[0;32m----> 3\u001b[0m \u001b[43madd_stat_annotation\u001b[49m\u001b[43m(\u001b[49m\u001b[43max\u001b[49m\u001b[43m,\u001b[49m\u001b[43m \u001b[49m\u001b[43mdata\u001b[49m\u001b[38;5;241;43m=\u001b[39;49m\u001b[43mdf\u001b[49m\u001b[43m,\u001b[49m\u001b[43m \u001b[49m\u001b[43mx\u001b[49m\u001b[38;5;241;43m=\u001b[39;49m\u001b[38;5;124;43m'\u001b[39;49m\u001b[38;5;124;43mTreatment\u001b[39;49m\u001b[38;5;124;43m'\u001b[39;49m\u001b[43m,\u001b[49m\u001b[43m \u001b[49m\u001b[43my\u001b[49m\u001b[38;5;241;43m=\u001b[39;49m\u001b[38;5;124;43m'\u001b[39;49m\u001b[38;5;124;43mConcentration\u001b[39;49m\u001b[38;5;124;43m'\u001b[39;49m\u001b[43m,\u001b[49m\u001b[43m \u001b[49m\n\u001b[1;32m      4\u001b[0m \u001b[43m                    \u001b[49m\u001b[43mbox_pairs\u001b[49m\u001b[38;5;241;43m=\u001b[39;49m\u001b[43m[\u001b[49m\u001b[43m(\u001b[49m\u001b[38;5;124;43m\"\u001b[39;49m\u001b[38;5;124;43mSurgery\u001b[39;49m\u001b[38;5;124;43m\"\u001b[39;49m\u001b[43m,\u001b[49m\u001b[43m \u001b[49m\u001b[38;5;124;43m\"\u001b[39;49m\u001b[38;5;124;43mChemotherapy\u001b[39;49m\u001b[38;5;124;43m\"\u001b[39;49m\u001b[43m)\u001b[49m\u001b[43m,\u001b[49m\u001b[43m \u001b[49m\u001b[43m(\u001b[49m\u001b[38;5;124;43m\"\u001b[39;49m\u001b[38;5;124;43mSurgery\u001b[39;49m\u001b[38;5;124;43m\"\u001b[39;49m\u001b[43m,\u001b[49m\u001b[43m \u001b[49m\u001b[38;5;124;43m\"\u001b[39;49m\u001b[38;5;124;43mRad and Chem\u001b[39;49m\u001b[38;5;124;43m\"\u001b[39;49m\u001b[43m)\u001b[49m\u001b[43m,\u001b[49m\u001b[43m \u001b[49m\n\u001b[1;32m      5\u001b[0m \u001b[43m                               \u001b[49m\u001b[43m(\u001b[49m\u001b[38;5;124;43m\"\u001b[39;49m\u001b[38;5;124;43mChemotherapy\u001b[39;49m\u001b[38;5;124;43m\"\u001b[39;49m\u001b[43m,\u001b[49m\u001b[43m \u001b[49m\u001b[38;5;124;43m\"\u001b[39;49m\u001b[38;5;124;43mRad and Chem\u001b[39;49m\u001b[38;5;124;43m\"\u001b[39;49m\u001b[43m)\u001b[49m\u001b[43m,\u001b[49m\u001b[43m \u001b[49m\u001b[43m(\u001b[49m\u001b[38;5;124;43m\"\u001b[39;49m\u001b[38;5;124;43mRadiotherapy\u001b[39;49m\u001b[38;5;124;43m\"\u001b[39;49m\u001b[43m,\u001b[49m\u001b[43m \u001b[49m\u001b[38;5;124;43m\"\u001b[39;49m\u001b[38;5;124;43mRad and Chem\u001b[39;49m\u001b[38;5;124;43m\"\u001b[39;49m\u001b[43m)\u001b[49m\u001b[43m,\u001b[49m\n\u001b[1;32m      6\u001b[0m \u001b[43m                              \u001b[49m\u001b[43m(\u001b[49m\u001b[38;5;124;43m\"\u001b[39;49m\u001b[38;5;124;43mSurgery\u001b[39;49m\u001b[38;5;124;43m\"\u001b[39;49m\u001b[43m,\u001b[49m\u001b[43m \u001b[49m\u001b[38;5;124;43m\"\u001b[39;49m\u001b[38;5;124;43mRadiotherapy\u001b[39;49m\u001b[38;5;124;43m\"\u001b[39;49m\u001b[43m)\u001b[49m\u001b[43m,\u001b[49m\u001b[43m(\u001b[49m\u001b[38;5;124;43m\"\u001b[39;49m\u001b[38;5;124;43mChemotherapy\u001b[39;49m\u001b[38;5;124;43m\"\u001b[39;49m\u001b[43m,\u001b[49m\u001b[43m \u001b[49m\u001b[38;5;124;43m\"\u001b[39;49m\u001b[38;5;124;43mRadiotherapy\u001b[39;49m\u001b[38;5;124;43m\"\u001b[39;49m\u001b[43m)\u001b[49m\u001b[43m]\u001b[49m\u001b[43m,\u001b[49m\n\u001b[1;32m      7\u001b[0m \u001b[43m                    \u001b[49m\u001b[43mtest\u001b[49m\u001b[38;5;241;43m=\u001b[39;49m\u001b[38;5;124;43m'\u001b[39;49m\u001b[38;5;124;43mMann-Whitney\u001b[39;49m\u001b[38;5;124;43m'\u001b[39;49m\u001b[43m,\u001b[49m\u001b[43m \u001b[49m\u001b[43mtext_format\u001b[49m\u001b[38;5;241;43m=\u001b[39;49m\u001b[38;5;124;43m'\u001b[39;49m\u001b[38;5;124;43mstar\u001b[39;49m\u001b[38;5;124;43m'\u001b[39;49m\u001b[43m,\u001b[49m\u001b[43m \u001b[49m\u001b[43mloc\u001b[49m\u001b[38;5;241;43m=\u001b[39;49m\u001b[38;5;124;43m'\u001b[39;49m\u001b[38;5;124;43moutside\u001b[39;49m\u001b[38;5;124;43m'\u001b[39;49m\u001b[43m,\u001b[49m\u001b[43m \u001b[49m\u001b[43mverbose\u001b[49m\u001b[38;5;241;43m=\u001b[39;49m\u001b[38;5;241;43m2\u001b[39;49m\u001b[43m)\u001b[49m\n",
      "File \u001b[0;32m~/.local/lib/python3.10/site-packages/statannot/statannot.py:473\u001b[0m, in \u001b[0;36madd_stat_annotation\u001b[0;34m(ax, plot, data, x, y, hue, units, order, hue_order, box_pairs, width, perform_stat_test, pvalues, test_short_name, test, text_format, pvalue_format_string, text_annot_custom, loc, show_test_name, pvalue_thresholds, stats_params, comparisons_correction, use_fixed_offset, line_offset_to_box, line_offset, line_height, text_offset, color, linewidth, fontsize, verbose)\u001b[0m\n\u001b[1;32m    471\u001b[0m valid \u001b[38;5;241m=\u001b[39m box1 \u001b[38;5;129;01min\u001b[39;00m box_names \u001b[38;5;129;01mand\u001b[39;00m box2 \u001b[38;5;129;01min\u001b[39;00m box_names\n\u001b[1;32m    472\u001b[0m \u001b[38;5;28;01mif\u001b[39;00m \u001b[38;5;129;01mnot\u001b[39;00m valid:\n\u001b[0;32m--> 473\u001b[0m     \u001b[38;5;28;01mraise\u001b[39;00m \u001b[38;5;167;01mValueError\u001b[39;00m(\u001b[38;5;124m\"\u001b[39m\u001b[38;5;124mbox_pairs contains an invalid box pair.\u001b[39m\u001b[38;5;124m\"\u001b[39m)\n\u001b[1;32m    474\u001b[0m     \u001b[38;5;28;01mpass\u001b[39;00m\n\u001b[1;32m    475\u001b[0m \u001b[38;5;66;03m# i_box_pair will keep track of the original order of the box pairs.\u001b[39;00m\n",
      "\u001b[0;31mValueError\u001b[0m: box_pairs contains an invalid box pair."
     ]
    },
    {
     "data": {
      "image/png": "[encoded data removed]",
      "text/plain": [
       "<Figure size 432x288 with 1 Axes>"
      ]
     },
     "metadata": {},
     "output_type": "display_data"
    }
   ],
   "source": [
    "plt.style.use('ggplot')\n",
    "ax = sns.boxplot(data=df, x='Treatment', y='Concentration')\n",
    "add_stat_annotation(ax, data=df, x='Treatment', y='Concentration', \n",
    "                    box_pairs=[(\"Surgery\", \"Chemotherapy\"), (\"Surgery\", \"Rad and Chem\"), \n",
    "                               (\"Chemotherapy\", \"Rad and Chem\"), (\"Radiotherapy\", \"Rad and Chem\"),\n",
    "                              (\"Surgery\", \"Radiotherapy\"),(\"Chemotherapy\", \"Radiotherapy\")],\n",
    "                    test='Mann-Whitney', text_format='star', loc='outside', verbose=2)\n",
    "\n",
    "#add_stat_annotation(ax, data=df, x='Treatment', y='Concentration', \n",
    "#                    box_pairs=[(\"Surgery\", \"Chemotherapy\"),(\"Chemotherapy\", \"Radiotherapy\")],\n",
    "#                    test='Mann-Whitney', text_format='star', loc='outside', verbose=2)"
   ]
  },
  {
   "cell_type": "code",
   "execution_count": 7,
   "id": "a43f19ae",
   "metadata": {},
   "outputs": [
    {
     "name": "stdout",
     "output_type": "stream",
     "text": [
      "SX\n",
      "RTX-AC\n",
      "NAC\n",
      "RTX-NAC\n",
      "RTX\n",
      "AC\n"
     ]
    }
   ],
   "source": [
    "for i in df['TreatmentV2'].unique():\n",
    "    print(i)"
   ]
  },
  {
   "cell_type": "code",
   "execution_count": 8,
   "id": "abc6a30a",
   "metadata": {},
   "outputs": [],
   "source": [
    "df_Surg = df[df['Treatment']=='Srg']\n",
    "df_Rad_Chem = df[df['Treatment']=='Rad-Chem']\n",
    "df_chem = df[df['Treatment']=='Chem']\n",
    "df_rad = df[df['Treatment']=='Rad']\n",
    "\n",
    "\n",
    "Surg = list(df_Surg.Concentration)\n",
    "Rad_Chem = list(df_Rad_Chem.Concentration)\n",
    "Chem = list(df_chem.Concentration)\n",
    "Rad = list(df_rad.Concentration)"
   ]
  },
  {
   "cell_type": "code",
   "execution_count": 16,
   "id": "d3a89587",
   "metadata": {},
   "outputs": [],
   "source": [
    "df_Sx = df[df['TreatmentV2']=='SX']\n",
    "df_RTXAC = df[df['TreatmentV2']=='RTX-AC']\n",
    "df_NCT = df[df['TreatmentV2']=='NAC']\n",
    "df_RTXNCT = df[df['TreatmentV2']=='RTX-NAC']\n",
    "df_RTX = df[df['TreatmentV2']=='RTX']\n",
    "df_AC = df[df['TreatmentV2']=='AC']\n",
    "\n",
    "df_Sx = list(df_Sx.Concentration)\n",
    "df_RTXAC = list(df_RTXAC .Concentration)\n",
    "df_NCT = list(df_NCT.Concentration)\n",
    "df_RTXNCT = list(df_RTXNCT.Concentration)\n",
    "df_RTX  = list(df_RTX.Concentration)\n",
    "df_AC = list(df_AC .Concentration)"
   ]
  },
  {
   "cell_type": "code",
   "execution_count": 17,
   "id": "2c4a4ce2",
   "metadata": {},
   "outputs": [
    {
     "data": {
      "text/plain": [
       "[0.48, 0.36, 0.56, 0.43, 0.64]"
      ]
     },
     "execution_count": 17,
     "metadata": {},
     "output_type": "execute_result"
    }
   ],
   "source": [
    "df_Sx"
   ]
  },
  {
   "cell_type": "code",
   "execution_count": 12,
   "id": "d35af9b3",
   "metadata": {},
   "outputs": [
    {
     "data": {
      "text/plain": [
       "LeveneResult(statistic=nan, pvalue=nan)"
      ]
     },
     "execution_count": 12,
     "metadata": {},
     "output_type": "execute_result"
    }
   ],
   "source": [
    "levene(Surg, Rad_Chem, Chem, Rad)"
   ]
  },
  {
   "cell_type": "code",
   "execution_count": 18,
   "id": "b2b06e08",
   "metadata": {},
   "outputs": [
    {
     "data": {
      "text/plain": [
       "LeveneResult(statistic=3.471840504893044, pvalue=0.03268623575020781)"
      ]
     },
     "execution_count": 18,
     "metadata": {},
     "output_type": "execute_result"
    }
   ],
   "source": [
    "levene(df_Sx, df_RTXAC, df_NCT, df_RTXNCT, df_RTX, df_AC)"
   ]
  },
  {
   "cell_type": "code",
   "execution_count": 19,
   "id": "1b63a4a6",
   "metadata": {},
   "outputs": [],
   "source": [
    "kw, pv = stats.kruskal(Surg, Rad_Chem, Chem, Rad)"
   ]
  },
  {
   "cell_type": "code",
   "execution_count": 21,
   "id": "d4def125",
   "metadata": {},
   "outputs": [
    {
     "data": {
      "text/plain": [
       "0.15878445156662058"
      ]
     },
     "execution_count": 21,
     "metadata": {},
     "output_type": "execute_result"
    }
   ],
   "source": [
    "kw, pv = stats.kruskal(df_Sx, df_RTXAC, df_NCT, df_RTXNCT, df_RTX, df_AC)\n",
    "pv"
   ]
  },
  {
   "cell_type": "code",
   "execution_count": 22,
   "id": "891bae46",
   "metadata": {},
   "outputs": [
    {
     "data": {
      "image/png": "[encoded data removed]",
      "text/plain": [
       "<Figure size 432x288 with 1 Axes>"
      ]
     },
     "metadata": {
      "needs_background": "light"
     },
     "output_type": "display_data"
    }
   ],
   "source": [
    "#plt.style.use('ggplot')\n",
    "#fig, ax = plt.subplots(figsize=(5, 5))\n",
    "#sns.set(style=\"whitegrid\")\n",
    "\n",
    "p = sns.boxplot(data=df, x='TreatmentV2', y='Concentration', palette = \"Set2\")\n",
    "p.set(xlabel = \"Treatment\", ylabel = \"Concentrartion (ng/μl)\")\n",
    "\n",
    "#p.add_patch(Rectangle((2.21, 4.42), 1.2, 0.9, fc=\"black\", zorder=10, alpha = .2))\n",
    "\n",
    "#plt.text(2.3, 5, \"kw = \" + str(round(kw, 4)) , horizontalalignment='left', size=10)\n",
    "#plt.text(2.3, 4.7, \"p_value = \"+ str(round(pv, 4)) , horizontalalignment='left', size=10)\n",
    "plt.savefig('/home/fer/BoxPlotTreatment.pdf', dpi=10000)"
   ]
  },
  {
   "cell_type": "code",
   "execution_count": 20,
   "id": "b1d2ee0f",
   "metadata": {},
   "outputs": [
    {
     "data": {
      "image/png": "[encoded data removed]",
      "text/plain": [
       "<Figure size 360x360 with 1 Axes>"
      ]
     },
     "metadata": {},
     "output_type": "display_data"
    }
   ],
   "source": [
    "sns.catplot(data=df, kind=\"violin\",x='Treatment', y='Concentration')\n",
    "plt.show()"
   ]
  },
  {
   "cell_type": "markdown",
   "id": "6e9ac182",
   "metadata": {},
   "source": [
    "# Age"
   ]
  },
  {
   "cell_type": "code",
   "execution_count": 21,
   "id": "35e6bdc3",
   "metadata": {},
   "outputs": [
    {
     "data": {
      "text/html": [
       "<div>\n",
       "<style scoped>\n",
       "    .dataframe tbody tr th:only-of-type {\n",
       "        vertical-align: middle;\n",
       "    }\n",
       "\n",
       "    .dataframe tbody tr th {\n",
       "        vertical-align: top;\n",
       "    }\n",
       "\n",
       "    .dataframe thead th {\n",
       "        text-align: right;\n",
       "    }\n",
       "</style>\n",
       "<table border=\"1\" class=\"dataframe\">\n",
       "  <thead>\n",
       "    <tr style=\"text-align: right;\">\n",
       "      <th></th>\n",
       "      <th>ID</th>\n",
       "      <th>Age</th>\n",
       "      <th>Concentration</th>\n",
       "    </tr>\n",
       "  </thead>\n",
       "  <tbody>\n",
       "    <tr>\n",
       "      <th>0</th>\n",
       "      <td>UEB-0228</td>\n",
       "      <td>50-60</td>\n",
       "      <td>0.48</td>\n",
       "    </tr>\n",
       "    <tr>\n",
       "      <th>1</th>\n",
       "      <td>UEB-0205</td>\n",
       "      <td>&gt;60</td>\n",
       "      <td>0.81</td>\n",
       "    </tr>\n",
       "    <tr>\n",
       "      <th>2</th>\n",
       "      <td>UEB-0208</td>\n",
       "      <td>50-60</td>\n",
       "      <td>0.88</td>\n",
       "    </tr>\n",
       "    <tr>\n",
       "      <th>3</th>\n",
       "      <td>UEB-0209</td>\n",
       "      <td>50-60</td>\n",
       "      <td>0.36</td>\n",
       "    </tr>\n",
       "    <tr>\n",
       "      <th>4</th>\n",
       "      <td>UEB-0210</td>\n",
       "      <td>50-60</td>\n",
       "      <td>1.27</td>\n",
       "    </tr>\n",
       "  </tbody>\n",
       "</table>\n",
       "</div>"
      ],
      "text/plain": [
       "         ID    Age  Concentration\n",
       "0  UEB-0228  50-60           0.48\n",
       "1  UEB-0205    >60           0.81\n",
       "2  UEB-0208  50-60           0.88\n",
       "3  UEB-0209  50-60           0.36\n",
       "4  UEB-0210  50-60           1.27"
      ]
     },
     "execution_count": 21,
     "metadata": {},
     "output_type": "execute_result"
    }
   ],
   "source": [
    "df = pd.read_csv('/home/fer/Documents/cfDNA/Clinical/Age.csv')\n",
    "df.head()"
   ]
  },
  {
   "cell_type": "code",
   "execution_count": 43,
   "id": "db7ee056",
   "metadata": {},
   "outputs": [
    {
     "name": "stdout",
     "output_type": "stream",
     "text": [
      "p-value annotation legend:\n",
      "ns: 5.00e-02 < p <= 1.00e+00\n",
      "*: 1.00e-02 < p <= 5.00e-02\n",
      "**: 1.00e-03 < p <= 1.00e-02\n",
      "***: 1.00e-04 < p <= 1.00e-03\n",
      "****: p <= 1.00e-04\n",
      "\n",
      ">60 v.s. <50: Mann-Whitney-Wilcoxon test two-sided with Bonferroni correction, P_val=1.000e+00 U_stat=2.300e+01\n",
      "50-60 v.s. >60: Mann-Whitney-Wilcoxon test two-sided with Bonferroni correction, P_val=1.000e+00 U_stat=2.150e+01\n",
      "50-60 v.s. <50: Mann-Whitney-Wilcoxon test two-sided with Bonferroni correction, P_val=1.000e+00 U_stat=1.300e+01\n"
     ]
    },
    {
     "data": {
      "text/plain": [
       "(<AxesSubplot:xlabel='Age', ylabel='Concentration'>,\n",
       " [<statannot.StatResult.StatResult at 0x7f2f05a18610>,\n",
       "  <statannot.StatResult.StatResult at 0x7f2f038e2410>,\n",
       "  <statannot.StatResult.StatResult at 0x7f2f05a1bc70>])"
      ]
     },
     "execution_count": 43,
     "metadata": {},
     "output_type": "execute_result"
    },
    {
     "data": {
      "image/png": "[encoded data removed]",
      "text/plain": [
       "<Figure size 432x288 with 1 Axes>"
      ]
     },
     "metadata": {},
     "output_type": "display_data"
    }
   ],
   "source": [
    "plt.style.use('ggplot')\n",
    "ax = sns.boxplot(data=df, x='Age', y='Concentration')\n",
    "\n",
    "add_stat_annotation(ax, data=df, x='Age', y='Concentration', \n",
    "                    box_pairs=[(\"<50\", \"50-60\"),(\"<50\", \">60\"),(\"50-60\", \">60\")],\n",
    "                    test='Mann-Whitney', text_format='star', loc='outside', verbose=2)"
   ]
  },
  {
   "cell_type": "code",
   "execution_count": 44,
   "id": "56fd9b40",
   "metadata": {},
   "outputs": [
    {
     "data": {
      "image/png": "[encoded data removed]",
      "text/plain": [
       "<Figure size 360x360 with 1 Axes>"
      ]
     },
     "metadata": {},
     "output_type": "display_data"
    }
   ],
   "source": [
    "sns.catplot(data=df, kind=\"violin\",x='Age', y='Concentration')\n",
    "plt.show()"
   ]
  },
  {
   "cell_type": "code",
   "execution_count": 24,
   "id": "749113b4",
   "metadata": {},
   "outputs": [],
   "source": [
    "df_menor = df[df['Age']=='<50'] \n",
    "df_median = df[df['Age'] == '50-60']\n",
    "df_mayor = df[df['Age'] == '>60']\n",
    "\n",
    "menor = list(df_menor.Concentration)\n",
    "median = list(df_median.Concentration)\n",
    "mayor = list(df_mayor.Concentration)"
   ]
  },
  {
   "cell_type": "code",
   "execution_count": 28,
   "id": "7675c238",
   "metadata": {},
   "outputs": [
    {
     "data": {
      "text/plain": [
       "LeveneResult(statistic=0.6162906621392191, pvalue=0.5522772677736059)"
      ]
     },
     "execution_count": 28,
     "metadata": {},
     "output_type": "execute_result"
    }
   ],
   "source": [
    "levene(menor, median, mayor)"
   ]
  },
  {
   "cell_type": "code",
   "execution_count": 25,
   "id": "e981a106",
   "metadata": {},
   "outputs": [
    {
     "data": {
      "text/plain": [
       "KruskalResult(statistic=0.0158033362598818, pvalue=0.992129467986618)"
      ]
     },
     "execution_count": 25,
     "metadata": {},
     "output_type": "execute_result"
    }
   ],
   "source": [
    "stats.kruskal(menor, median, mayor)"
   ]
  },
  {
   "cell_type": "markdown",
   "id": "724e77dc",
   "metadata": {},
   "source": [
    "# Tumoral Fraction"
   ]
  },
  {
   "cell_type": "code",
   "execution_count": 1,
   "id": "a0bb4414",
   "metadata": {},
   "outputs": [
    {
     "data": {
      "text/html": [
       "<div>\n",
       "<style scoped>\n",
       "    .dataframe tbody tr th:only-of-type {\n",
       "        vertical-align: middle;\n",
       "    }\n",
       "\n",
       "    .dataframe tbody tr th {\n",
       "        vertical-align: top;\n",
       "    }\n",
       "\n",
       "    .dataframe thead th {\n",
       "        text-align: right;\n",
       "    }\n",
       "</style>\n",
       "<table border=\"1\" class=\"dataframe\">\n",
       "  <thead>\n",
       "    <tr style=\"text-align: right;\">\n",
       "      <th></th>\n",
       "      <th>ID</th>\n",
       "      <th>FracTum</th>\n",
       "      <th>Stage</th>\n",
       "    </tr>\n",
       "  </thead>\n",
       "  <tbody>\n",
       "    <tr>\n",
       "      <th>0</th>\n",
       "      <td>UEB-0228</td>\n",
       "      <td>0.01414</td>\n",
       "      <td>Unknow</td>\n",
       "    </tr>\n",
       "    <tr>\n",
       "      <th>1</th>\n",
       "      <td>UEB-0205</td>\n",
       "      <td>0.00000</td>\n",
       "      <td>I</td>\n",
       "    </tr>\n",
       "    <tr>\n",
       "      <th>2</th>\n",
       "      <td>UEB-0208</td>\n",
       "      <td>0.01832</td>\n",
       "      <td>IA</td>\n",
       "    </tr>\n",
       "    <tr>\n",
       "      <th>3</th>\n",
       "      <td>UEB-0209</td>\n",
       "      <td>0.01756</td>\n",
       "      <td>IIA</td>\n",
       "    </tr>\n",
       "    <tr>\n",
       "      <th>4</th>\n",
       "      <td>UEB-0210</td>\n",
       "      <td>0.01458</td>\n",
       "      <td>IIA</td>\n",
       "    </tr>\n",
       "    <tr>\n",
       "      <th>5</th>\n",
       "      <td>UEB-0211</td>\n",
       "      <td>0.02001</td>\n",
       "      <td>IIIC</td>\n",
       "    </tr>\n",
       "    <tr>\n",
       "      <th>6</th>\n",
       "      <td>UEB-0213</td>\n",
       "      <td>0.01495</td>\n",
       "      <td>IIA</td>\n",
       "    </tr>\n",
       "    <tr>\n",
       "      <th>7</th>\n",
       "      <td>UEB-0214</td>\n",
       "      <td>0.01339</td>\n",
       "      <td>Unknow</td>\n",
       "    </tr>\n",
       "    <tr>\n",
       "      <th>8</th>\n",
       "      <td>UEB-0215</td>\n",
       "      <td>0.01796</td>\n",
       "      <td>IIIC</td>\n",
       "    </tr>\n",
       "    <tr>\n",
       "      <th>9</th>\n",
       "      <td>UEB-0216</td>\n",
       "      <td>0.01342</td>\n",
       "      <td>Unknow</td>\n",
       "    </tr>\n",
       "    <tr>\n",
       "      <th>10</th>\n",
       "      <td>UEB-0217</td>\n",
       "      <td>0.01355</td>\n",
       "      <td>Unknow</td>\n",
       "    </tr>\n",
       "    <tr>\n",
       "      <th>11</th>\n",
       "      <td>UEB-0218</td>\n",
       "      <td>0.01852</td>\n",
       "      <td>IIIB</td>\n",
       "    </tr>\n",
       "    <tr>\n",
       "      <th>12</th>\n",
       "      <td>UEB-0219</td>\n",
       "      <td>0.01263</td>\n",
       "      <td>IIIB</td>\n",
       "    </tr>\n",
       "    <tr>\n",
       "      <th>13</th>\n",
       "      <td>UEB-0220</td>\n",
       "      <td>0.01320</td>\n",
       "      <td>IIB</td>\n",
       "    </tr>\n",
       "    <tr>\n",
       "      <th>14</th>\n",
       "      <td>UEB-0221</td>\n",
       "      <td>0.01688</td>\n",
       "      <td>IIB</td>\n",
       "    </tr>\n",
       "    <tr>\n",
       "      <th>15</th>\n",
       "      <td>UEB-0222</td>\n",
       "      <td>0.00000</td>\n",
       "      <td>IIA</td>\n",
       "    </tr>\n",
       "    <tr>\n",
       "      <th>16</th>\n",
       "      <td>UEB-0223</td>\n",
       "      <td>0.02047</td>\n",
       "      <td>IIA</td>\n",
       "    </tr>\n",
       "    <tr>\n",
       "      <th>17</th>\n",
       "      <td>UEB-0224</td>\n",
       "      <td>0.01473</td>\n",
       "      <td>IIB</td>\n",
       "    </tr>\n",
       "    <tr>\n",
       "      <th>18</th>\n",
       "      <td>UEB-0226</td>\n",
       "      <td>0.01454</td>\n",
       "      <td>Unknow</td>\n",
       "    </tr>\n",
       "    <tr>\n",
       "      <th>19</th>\n",
       "      <td>UEB-0227</td>\n",
       "      <td>0.01395</td>\n",
       "      <td>IIIB</td>\n",
       "    </tr>\n",
       "  </tbody>\n",
       "</table>\n",
       "</div>"
      ],
      "text/plain": [
       "          ID  FracTum   Stage\n",
       "0   UEB-0228  0.01414  Unknow\n",
       "1   UEB-0205  0.00000       I\n",
       "2   UEB-0208  0.01832      IA\n",
       "3   UEB-0209  0.01756     IIA\n",
       "4   UEB-0210  0.01458     IIA\n",
       "5   UEB-0211  0.02001    IIIC\n",
       "6   UEB-0213  0.01495     IIA\n",
       "7   UEB-0214  0.01339  Unknow\n",
       "8   UEB-0215  0.01796    IIIC\n",
       "9   UEB-0216  0.01342  Unknow\n",
       "10  UEB-0217  0.01355  Unknow\n",
       "11  UEB-0218  0.01852    IIIB\n",
       "12  UEB-0219  0.01263    IIIB\n",
       "13  UEB-0220  0.01320     IIB\n",
       "14  UEB-0221  0.01688     IIB\n",
       "15  UEB-0222  0.00000     IIA\n",
       "16  UEB-0223  0.02047     IIA\n",
       "17  UEB-0224  0.01473     IIB\n",
       "18  UEB-0226  0.01454  Unknow\n",
       "19  UEB-0227  0.01395    IIIB"
      ]
     },
     "execution_count": 1,
     "metadata": {},
     "output_type": "execute_result"
    }
   ],
   "source": [
    "import pandas as pd \n",
    "df = pd.read_csv('/home/fer/Documents/cfDNA/Clinical/TumoralFraction.csv')\n",
    "df"
   ]
  },
  {
   "cell_type": "code",
   "execution_count": 33,
   "id": "0447a960",
   "metadata": {},
   "outputs": [
    {
     "data": {
      "text/html": [
       "<div>\n",
       "<style scoped>\n",
       "    .dataframe tbody tr th:only-of-type {\n",
       "        vertical-align: middle;\n",
       "    }\n",
       "\n",
       "    .dataframe tbody tr th {\n",
       "        vertical-align: top;\n",
       "    }\n",
       "\n",
       "    .dataframe thead th {\n",
       "        text-align: right;\n",
       "    }\n",
       "</style>\n",
       "<table border=\"1\" class=\"dataframe\">\n",
       "  <thead>\n",
       "    <tr style=\"text-align: right;\">\n",
       "      <th></th>\n",
       "      <th>ID</th>\n",
       "      <th>FracTum</th>\n",
       "      <th>Stage</th>\n",
       "      <th>FracTumRound</th>\n",
       "    </tr>\n",
       "  </thead>\n",
       "  <tbody>\n",
       "    <tr>\n",
       "      <th>0</th>\n",
       "      <td>UEB-0228</td>\n",
       "      <td>0.01414</td>\n",
       "      <td>Unknow</td>\n",
       "      <td>0.014</td>\n",
       "    </tr>\n",
       "    <tr>\n",
       "      <th>1</th>\n",
       "      <td>UEB-0205</td>\n",
       "      <td>0.00000</td>\n",
       "      <td>I</td>\n",
       "      <td>0.000</td>\n",
       "    </tr>\n",
       "    <tr>\n",
       "      <th>2</th>\n",
       "      <td>UEB-0208</td>\n",
       "      <td>0.01832</td>\n",
       "      <td>IA</td>\n",
       "      <td>0.018</td>\n",
       "    </tr>\n",
       "    <tr>\n",
       "      <th>3</th>\n",
       "      <td>UEB-0209</td>\n",
       "      <td>0.01756</td>\n",
       "      <td>IIA</td>\n",
       "      <td>0.017</td>\n",
       "    </tr>\n",
       "    <tr>\n",
       "      <th>4</th>\n",
       "      <td>UEB-0210</td>\n",
       "      <td>0.01458</td>\n",
       "      <td>IIA</td>\n",
       "      <td>0.014</td>\n",
       "    </tr>\n",
       "    <tr>\n",
       "      <th>5</th>\n",
       "      <td>UEB-0211</td>\n",
       "      <td>0.02001</td>\n",
       "      <td>IIIC</td>\n",
       "      <td>0.020</td>\n",
       "    </tr>\n",
       "    <tr>\n",
       "      <th>6</th>\n",
       "      <td>UEB-0213</td>\n",
       "      <td>0.01495</td>\n",
       "      <td>IIA</td>\n",
       "      <td>0.014</td>\n",
       "    </tr>\n",
       "    <tr>\n",
       "      <th>7</th>\n",
       "      <td>UEB-0214</td>\n",
       "      <td>0.01339</td>\n",
       "      <td>Unknow</td>\n",
       "      <td>0.013</td>\n",
       "    </tr>\n",
       "    <tr>\n",
       "      <th>8</th>\n",
       "      <td>UEB-0215</td>\n",
       "      <td>0.01796</td>\n",
       "      <td>IIIC</td>\n",
       "      <td>0.017</td>\n",
       "    </tr>\n",
       "    <tr>\n",
       "      <th>9</th>\n",
       "      <td>UEB-0216</td>\n",
       "      <td>0.01342</td>\n",
       "      <td>Unknow</td>\n",
       "      <td>0.013</td>\n",
       "    </tr>\n",
       "    <tr>\n",
       "      <th>10</th>\n",
       "      <td>UEB-0217</td>\n",
       "      <td>0.01355</td>\n",
       "      <td>Unknow</td>\n",
       "      <td>0.013</td>\n",
       "    </tr>\n",
       "    <tr>\n",
       "      <th>11</th>\n",
       "      <td>UEB-0218</td>\n",
       "      <td>0.01852</td>\n",
       "      <td>IIIB</td>\n",
       "      <td>0.018</td>\n",
       "    </tr>\n",
       "    <tr>\n",
       "      <th>12</th>\n",
       "      <td>UEB-0219</td>\n",
       "      <td>0.01263</td>\n",
       "      <td>IIIB</td>\n",
       "      <td>0.012</td>\n",
       "    </tr>\n",
       "    <tr>\n",
       "      <th>13</th>\n",
       "      <td>UEB-0220</td>\n",
       "      <td>0.01320</td>\n",
       "      <td>IIB</td>\n",
       "      <td>0.013</td>\n",
       "    </tr>\n",
       "    <tr>\n",
       "      <th>14</th>\n",
       "      <td>UEB-0221</td>\n",
       "      <td>0.01688</td>\n",
       "      <td>IIB</td>\n",
       "      <td>0.016</td>\n",
       "    </tr>\n",
       "    <tr>\n",
       "      <th>15</th>\n",
       "      <td>UEB-0222</td>\n",
       "      <td>0.00000</td>\n",
       "      <td>IIA</td>\n",
       "      <td>0.000</td>\n",
       "    </tr>\n",
       "    <tr>\n",
       "      <th>16</th>\n",
       "      <td>UEB-0223</td>\n",
       "      <td>0.02047</td>\n",
       "      <td>IIA</td>\n",
       "      <td>0.020</td>\n",
       "    </tr>\n",
       "    <tr>\n",
       "      <th>17</th>\n",
       "      <td>UEB-0224</td>\n",
       "      <td>0.01473</td>\n",
       "      <td>IIB</td>\n",
       "      <td>0.014</td>\n",
       "    </tr>\n",
       "    <tr>\n",
       "      <th>18</th>\n",
       "      <td>UEB-0226</td>\n",
       "      <td>0.01454</td>\n",
       "      <td>Unknow</td>\n",
       "      <td>0.014</td>\n",
       "    </tr>\n",
       "    <tr>\n",
       "      <th>19</th>\n",
       "      <td>UEB-0227</td>\n",
       "      <td>0.01395</td>\n",
       "      <td>IIIB</td>\n",
       "      <td>0.013</td>\n",
       "    </tr>\n",
       "  </tbody>\n",
       "</table>\n",
       "</div>"
      ],
      "text/plain": [
       "          ID  FracTum   Stage  FracTumRound\n",
       "0   UEB-0228  0.01414  Unknow         0.014\n",
       "1   UEB-0205  0.00000       I         0.000\n",
       "2   UEB-0208  0.01832      IA         0.018\n",
       "3   UEB-0209  0.01756     IIA         0.017\n",
       "4   UEB-0210  0.01458     IIA         0.014\n",
       "5   UEB-0211  0.02001    IIIC         0.020\n",
       "6   UEB-0213  0.01495     IIA         0.014\n",
       "7   UEB-0214  0.01339  Unknow         0.013\n",
       "8   UEB-0215  0.01796    IIIC         0.017\n",
       "9   UEB-0216  0.01342  Unknow         0.013\n",
       "10  UEB-0217  0.01355  Unknow         0.013\n",
       "11  UEB-0218  0.01852    IIIB         0.018\n",
       "12  UEB-0219  0.01263    IIIB         0.012\n",
       "13  UEB-0220  0.01320     IIB         0.013\n",
       "14  UEB-0221  0.01688     IIB         0.016\n",
       "15  UEB-0222  0.00000     IIA         0.000\n",
       "16  UEB-0223  0.02047     IIA         0.020\n",
       "17  UEB-0224  0.01473     IIB         0.014\n",
       "18  UEB-0226  0.01454  Unknow         0.014\n",
       "19  UEB-0227  0.01395    IIIB         0.013"
      ]
     },
     "execution_count": 33,
     "metadata": {},
     "output_type": "execute_result"
    }
   ],
   "source": [
    "df.loc[df.FracTum==0,'FracTumRound']=0\n",
    "\n",
    "intervalos = [0.001,0.002, 0.003, 0.004, 0.005, 0.006, 0.007, 0.008,0.009,0.010, 0.011,  0.012, 0.013, 0.014, 0.015, 0.016, 0.017, 0.018, 0.019, 0.020, 0.021, 0.022] \n",
    "\n",
    "for i in intervalos:\n",
    "    df.loc[df.FracTum > i,'FracTumRound']=i\n",
    "df"
   ]
  },
  {
   "cell_type": "code",
   "execution_count": 7,
   "id": "dd4999ab",
   "metadata": {},
   "outputs": [
    {
     "data": {
      "text/plain": [
       "['IIA', 'IA', 'IIB', 'Unknow', 'IIIC', 'IIIB', 'I']"
      ]
     },
     "execution_count": 7,
     "metadata": {},
     "output_type": "execute_result"
    }
   ],
   "source": [
    "stages = set(list(df.Stage))\n",
    "stages = list(stages)\n",
    "stages"
   ]
  },
  {
   "cell_type": "code",
   "execution_count": 39,
   "id": "5880cb3d",
   "metadata": {},
   "outputs": [],
   "source": [
    "#Filtrado por estadios\n",
    "desconocido = df[df['Stage']=='Unknow']\n",
    "dfIIA = df[df['Stage'] == 'IIA']\n",
    "dfIA = df[df['Stage'] == 'IA']\n",
    "dfIIB = df[df['Stage'] == 'IIB']\n",
    "dfIIIC = df[df['Stage'] == 'IIIC']\n",
    "dfIIIB = df[df['Stage'] == 'IIIB']\n",
    "dfI = df[df['Stage'] == 'I']"
   ]
  },
  {
   "cell_type": "code",
   "execution_count": 55,
   "id": "732fdadf",
   "metadata": {},
   "outputs": [
    {
     "name": "stdout",
     "output_type": "stream",
     "text": [
      "La lista maxima es: [0.014, 0.013, 0.013, 0.013, 0.014]\n",
      "La lista maxima es: [0.017, 0.014, 0.014, 0.0, 0.02]\n",
      "agregando4\n",
      "agregando2\n",
      "agregando3\n",
      "agregando2\n",
      "agregando4\n"
     ]
    }
   ],
   "source": [
    "a = list(desconocido.FracTumRound)\n",
    "b = list(dfIIA.FracTumRound)\n",
    "c = list(dfIA.FracTumRound)\n",
    "d = list(dfIIB.FracTumRound)\n",
    "e = list(dfIIIC.FracTumRound)\n",
    "f = list(dfIIIB.FracTumRound)\n",
    "g = list(dfI.FracTumRound)\n",
    "\n",
    "lenmax = max(len(a),len(b),len(c),len(d),len(e),len(f),len(g))\n",
    "\n",
    "lst = [a,b,c,d,e,f,g]\n",
    "\n",
    "for i in lst:\n",
    "    if len(i) == lenmax:\n",
    "        print('La lista maxima es: ' + str(i))\n",
    "    else:\n",
    "        delta = lenmax - len(i)\n",
    "        print('agregando' + str(delta))\n",
    "        while len(i) < lenmax:\n",
    "            i.append(0)\n",
    "            "
   ]
  },
  {
   "cell_type": "code",
   "execution_count": 27,
   "id": "a20546e3",
   "metadata": {},
   "outputs": [
    {
     "data": {
      "image/png": "[encoded data removed]",
      "text/plain": [
       "<Figure size 432x288 with 1 Axes>"
      ]
     },
     "metadata": {
      "needs_background": "light"
     },
     "output_type": "display_data"
    }
   ],
   "source": [
    "import matplotlib.pyplot as plt\n",
    "import seaborn as sb\n",
    "\n",
    "ft = np.array(df['FracTum'])\n",
    "\n",
    "\n",
    "ejes = [0, 0.005, 0.010, 0.015, 0.020]\n",
    "\n",
    "\n",
    "plt.hist(x=ft, bins=intervalos, color='#F2AB6D', rwidth=0.85,stacked=True)\n",
    "plt.xlabel('Tumoral Fraction')\n",
    "plt.ylabel('Frequency')\n",
    "plt.xticks(ejes)\n",
    "\n",
    "plt.savefig('/home/fer/HistoTumoralFraction.png', dpi=300)"
   ]
  },
  {
   "cell_type": "code",
   "execution_count": 81,
   "id": "6a53b10d",
   "metadata": {},
   "outputs": [],
   "source": [
    "s = pd.DataFrame(df[['Stage', 'FracTumRound']].value_counts())\n",
    "s.columns = ['Freq']\n",
    "s.to_csv('/home/fer/Global.csv')"
   ]
  },
  {
   "cell_type": "code",
   "execution_count": 82,
   "id": "e0daf93d",
   "metadata": {},
   "outputs": [
    {
     "data": {
      "text/html": [
       "<div>\n",
       "<style scoped>\n",
       "    .dataframe tbody tr th:only-of-type {\n",
       "        vertical-align: middle;\n",
       "    }\n",
       "\n",
       "    .dataframe tbody tr th {\n",
       "        vertical-align: top;\n",
       "    }\n",
       "\n",
       "    .dataframe thead th {\n",
       "        text-align: right;\n",
       "    }\n",
       "</style>\n",
       "<table border=\"1\" class=\"dataframe\">\n",
       "  <thead>\n",
       "    <tr style=\"text-align: right;\">\n",
       "      <th></th>\n",
       "      <th>Stage</th>\n",
       "      <th>FracTumRound</th>\n",
       "      <th>Freq</th>\n",
       "    </tr>\n",
       "  </thead>\n",
       "  <tbody>\n",
       "    <tr>\n",
       "      <th>0</th>\n",
       "      <td>Unknow</td>\n",
       "      <td>0.013</td>\n",
       "      <td>3</td>\n",
       "    </tr>\n",
       "    <tr>\n",
       "      <th>1</th>\n",
       "      <td>IIA</td>\n",
       "      <td>0.014</td>\n",
       "      <td>2</td>\n",
       "    </tr>\n",
       "    <tr>\n",
       "      <th>2</th>\n",
       "      <td>Unknow</td>\n",
       "      <td>0.014</td>\n",
       "      <td>2</td>\n",
       "    </tr>\n",
       "    <tr>\n",
       "      <th>3</th>\n",
       "      <td>I</td>\n",
       "      <td>0.000</td>\n",
       "      <td>1</td>\n",
       "    </tr>\n",
       "    <tr>\n",
       "      <th>4</th>\n",
       "      <td>IA</td>\n",
       "      <td>0.018</td>\n",
       "      <td>1</td>\n",
       "    </tr>\n",
       "    <tr>\n",
       "      <th>5</th>\n",
       "      <td>IIA</td>\n",
       "      <td>0.000</td>\n",
       "      <td>1</td>\n",
       "    </tr>\n",
       "    <tr>\n",
       "      <th>6</th>\n",
       "      <td>IIA</td>\n",
       "      <td>0.017</td>\n",
       "      <td>1</td>\n",
       "    </tr>\n",
       "    <tr>\n",
       "      <th>7</th>\n",
       "      <td>IIA</td>\n",
       "      <td>0.020</td>\n",
       "      <td>1</td>\n",
       "    </tr>\n",
       "    <tr>\n",
       "      <th>8</th>\n",
       "      <td>IIB</td>\n",
       "      <td>0.013</td>\n",
       "      <td>1</td>\n",
       "    </tr>\n",
       "    <tr>\n",
       "      <th>9</th>\n",
       "      <td>IIB</td>\n",
       "      <td>0.014</td>\n",
       "      <td>1</td>\n",
       "    </tr>\n",
       "    <tr>\n",
       "      <th>10</th>\n",
       "      <td>IIB</td>\n",
       "      <td>0.016</td>\n",
       "      <td>1</td>\n",
       "    </tr>\n",
       "    <tr>\n",
       "      <th>11</th>\n",
       "      <td>IIIB</td>\n",
       "      <td>0.012</td>\n",
       "      <td>1</td>\n",
       "    </tr>\n",
       "    <tr>\n",
       "      <th>12</th>\n",
       "      <td>IIIB</td>\n",
       "      <td>0.013</td>\n",
       "      <td>1</td>\n",
       "    </tr>\n",
       "    <tr>\n",
       "      <th>13</th>\n",
       "      <td>IIIB</td>\n",
       "      <td>0.018</td>\n",
       "      <td>1</td>\n",
       "    </tr>\n",
       "    <tr>\n",
       "      <th>14</th>\n",
       "      <td>IIIC</td>\n",
       "      <td>0.017</td>\n",
       "      <td>1</td>\n",
       "    </tr>\n",
       "    <tr>\n",
       "      <th>15</th>\n",
       "      <td>IIIC</td>\n",
       "      <td>0.020</td>\n",
       "      <td>1</td>\n",
       "    </tr>\n",
       "  </tbody>\n",
       "</table>\n",
       "</div>"
      ],
      "text/plain": [
       "     Stage  FracTumRound  Freq\n",
       "0   Unknow         0.013     3\n",
       "1      IIA         0.014     2\n",
       "2   Unknow         0.014     2\n",
       "3        I         0.000     1\n",
       "4       IA         0.018     1\n",
       "5      IIA         0.000     1\n",
       "6      IIA         0.017     1\n",
       "7      IIA         0.020     1\n",
       "8      IIB         0.013     1\n",
       "9      IIB         0.014     1\n",
       "10     IIB         0.016     1\n",
       "11    IIIB         0.012     1\n",
       "12    IIIB         0.013     1\n",
       "13    IIIB         0.018     1\n",
       "14    IIIC         0.017     1\n",
       "15    IIIC         0.020     1"
      ]
     },
     "execution_count": 82,
     "metadata": {},
     "output_type": "execute_result"
    }
   ],
   "source": [
    "df = pd.read_csv('/home/fer/Global.csv')\n",
    "df"
   ]
  },
  {
   "cell_type": "markdown",
   "id": "1857a664",
   "metadata": {},
   "source": [
    "El resto esta en otro script en R"
   ]
  },
  {
   "cell_type": "code",
   "execution_count": null,
   "id": "2b085e81",
   "metadata": {},
   "outputs": [],
   "source": []
  }
 ],
 "metadata": {
  "kernelspec": {
   "display_name": "Python 3 (ipykernel)",
   "language": "python",
   "name": "python3"
  },
  "language_info": {
   "codemirror_mode": {
    "name": "ipython",
    "version": 3
   },
   "file_extension": ".py",
   "mimetype": "text/x-python",
   "name": "python",
   "nbconvert_exporter": "python",
   "pygments_lexer": "ipython3",
   "version": "3.10.6"
  }
 },
 "nbformat": 4,
 "nbformat_minor": 5
}
