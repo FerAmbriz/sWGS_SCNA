{
 "cells": [
  {
   "cell_type": "code",
   "execution_count": 17,
   "id": "176e09b0",
   "metadata": {},
   "outputs": [],
   "source": [
    "import pandas as pd"
   ]
  },
  {
   "cell_type": "code",
   "execution_count": 25,
   "id": "9f19bafd",
   "metadata": {},
   "outputs": [
    {
     "data": {
      "text/plain": [
       "NEUT    37\n",
       "GAIN    10\n",
       "HETD     4\n",
       "Name: call, dtype: int64"
      ]
     },
     "execution_count": 25,
     "metadata": {},
     "output_type": "execute_result"
    }
   ],
   "source": [
    "df = pd.read_csv('/home/fer/Documents/cfDNA/Programs/ichorCNA/500kb/txt/simulated.bed', sep = '\\t')\n",
    "df.call.value_counts()"
   ]
  },
  {
   "cell_type": "code",
   "execution_count": 22,
   "id": "4bf239b1",
   "metadata": {},
   "outputs": [
    {
     "data": {
      "text/html": [
       "<div>\n",
       "<style scoped>\n",
       "    .dataframe tbody tr th:only-of-type {\n",
       "        vertical-align: middle;\n",
       "    }\n",
       "\n",
       "    .dataframe tbody tr th {\n",
       "        vertical-align: top;\n",
       "    }\n",
       "\n",
       "    .dataframe thead th {\n",
       "        text-align: right;\n",
       "    }\n",
       "</style>\n",
       "<table border=\"1\" class=\"dataframe\">\n",
       "  <thead>\n",
       "    <tr style=\"text-align: right;\">\n",
       "      <th></th>\n",
       "      <th>start</th>\n",
       "      <th>end</th>\n",
       "      <th>call</th>\n",
       "    </tr>\n",
       "    <tr>\n",
       "      <th>chrom</th>\n",
       "      <th></th>\n",
       "      <th></th>\n",
       "      <th></th>\n",
       "    </tr>\n",
       "  </thead>\n",
       "  <tbody>\n",
       "    <tr>\n",
       "      <th>2</th>\n",
       "      <td>162000001</td>\n",
       "      <td>213000000</td>\n",
       "      <td>GAIN</td>\n",
       "    </tr>\n",
       "    <tr>\n",
       "      <th>3</th>\n",
       "      <td>25000001</td>\n",
       "      <td>30500000</td>\n",
       "      <td>GAIN</td>\n",
       "    </tr>\n",
       "    <tr>\n",
       "      <th>3</th>\n",
       "      <td>132500001</td>\n",
       "      <td>163000000</td>\n",
       "      <td>GAIN</td>\n",
       "    </tr>\n",
       "    <tr>\n",
       "      <th>5</th>\n",
       "      <td>51500001</td>\n",
       "      <td>53500000</td>\n",
       "      <td>HETD</td>\n",
       "    </tr>\n",
       "    <tr>\n",
       "      <th>5</th>\n",
       "      <td>55000001</td>\n",
       "      <td>75000000</td>\n",
       "      <td>HETD</td>\n",
       "    </tr>\n",
       "    <tr>\n",
       "      <th>5</th>\n",
       "      <td>105500001</td>\n",
       "      <td>136000000</td>\n",
       "      <td>GAIN</td>\n",
       "    </tr>\n",
       "    <tr>\n",
       "      <th>6</th>\n",
       "      <td>28500001</td>\n",
       "      <td>33500000</td>\n",
       "      <td>GAIN</td>\n",
       "    </tr>\n",
       "    <tr>\n",
       "      <th>6</th>\n",
       "      <td>104000001</td>\n",
       "      <td>114000000</td>\n",
       "      <td>HETD</td>\n",
       "    </tr>\n",
       "    <tr>\n",
       "      <th>8</th>\n",
       "      <td>92000001</td>\n",
       "      <td>102000000</td>\n",
       "      <td>GAIN</td>\n",
       "    </tr>\n",
       "    <tr>\n",
       "      <th>10</th>\n",
       "      <td>15000001</td>\n",
       "      <td>17000000</td>\n",
       "      <td>GAIN</td>\n",
       "    </tr>\n",
       "    <tr>\n",
       "      <th>10</th>\n",
       "      <td>65000001</td>\n",
       "      <td>114500000</td>\n",
       "      <td>HETD</td>\n",
       "    </tr>\n",
       "    <tr>\n",
       "      <th>15</th>\n",
       "      <td>92500001</td>\n",
       "      <td>98000000</td>\n",
       "      <td>GAIN</td>\n",
       "    </tr>\n",
       "    <tr>\n",
       "      <th>16</th>\n",
       "      <td>11500001</td>\n",
       "      <td>31500000</td>\n",
       "      <td>GAIN</td>\n",
       "    </tr>\n",
       "    <tr>\n",
       "      <th>X</th>\n",
       "      <td>132000001</td>\n",
       "      <td>137000000</td>\n",
       "      <td>GAIN</td>\n",
       "    </tr>\n",
       "  </tbody>\n",
       "</table>\n",
       "</div>"
      ],
      "text/plain": [
       "           start        end  call\n",
       "chrom                            \n",
       "2      162000001  213000000  GAIN\n",
       "3       25000001   30500000  GAIN\n",
       "3      132500001  163000000  GAIN\n",
       "5       51500001   53500000  HETD\n",
       "5       55000001   75000000  HETD\n",
       "5      105500001  136000000  GAIN\n",
       "6       28500001   33500000  GAIN\n",
       "6      104000001  114000000  HETD\n",
       "8       92000001  102000000  GAIN\n",
       "10      15000001   17000000  GAIN\n",
       "10      65000001  114500000  HETD\n",
       "15      92500001   98000000  GAIN\n",
       "16      11500001   31500000  GAIN\n",
       "X      132000001  137000000  GAIN"
      ]
     },
     "execution_count": 22,
     "metadata": {},
     "output_type": "execute_result"
    }
   ],
   "source": [
    "df = df[df['call']!='NEUT'].set_index('chrom')\n",
    "df"
   ]
  },
  {
   "cell_type": "code",
   "execution_count": null,
   "id": "9392d43b",
   "metadata": {},
   "outputs": [],
   "source": []
  }
 ],
 "metadata": {
  "kernelspec": {
   "display_name": "Python 3 (ipykernel)",
   "language": "python",
   "name": "python3"
  },
  "language_info": {
   "codemirror_mode": {
    "name": "ipython",
    "version": 3
   },
   "file_extension": ".py",
   "mimetype": "text/x-python",
   "name": "python",
   "nbconvert_exporter": "python",
   "pygments_lexer": "ipython3",
   "version": "3.10.4"
  }
 },
 "nbformat": 4,
 "nbformat_minor": 5
}
