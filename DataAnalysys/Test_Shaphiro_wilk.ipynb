{
 "cells": [
  {
   "cell_type": "markdown",
   "id": "bbcd90e6",
   "metadata": {},
   "source": [
    "# Test de Shapiro-Wilk\n",
    "Se emplea para contrastar normalidad cuando el tamaño de la muestra es menor de 50.\n",
    "* Ho: Distribución normal\n",
    "* Ha: Distribucion no-normal\n",
    "\n",
    "### Otros tests para la evaluación de distribución\n",
    "* test de kolmogorov-Smirnov.\n",
    "* test Lilliefors\n",
    "* test de Jarque-Bera\n",
    "\n",
    "https://bookdown.org/dietrichson/metodos-cuantitativos/test-de-normalidad.html\n",
    "https://www.cienciadedatos.net/documentos/8_analisis_normalidad\n"
   ]
  },
  {
   "cell_type": "code",
   "execution_count": 1,
   "id": "345014c1",
   "metadata": {},
   "outputs": [
    {
     "name": "stderr",
     "output_type": "stream",
     "text": [
      "── \u001b[1mAttaching packages\u001b[22m ─────────────────────────────────────── tidyverse 1.3.1 ──\n",
      "\n",
      "\u001b[32m✔\u001b[39m \u001b[34mtibble \u001b[39m 3.1.7     \u001b[32m✔\u001b[39m \u001b[34mdplyr  \u001b[39m 1.0.9\n",
      "\u001b[32m✔\u001b[39m \u001b[34mtidyr  \u001b[39m 1.2.0     \u001b[32m✔\u001b[39m \u001b[34mstringr\u001b[39m 1.4.0\n",
      "\u001b[32m✔\u001b[39m \u001b[34mreadr  \u001b[39m 2.1.2     \u001b[32m✔\u001b[39m \u001b[34mforcats\u001b[39m 0.5.1\n",
      "\u001b[32m✔\u001b[39m \u001b[34mpurrr  \u001b[39m 0.3.4     \n",
      "\n",
      "── \u001b[1mConflicts\u001b[22m ────────────────────────────────────────── tidyverse_conflicts() ──\n",
      "\u001b[31m✖\u001b[39m \u001b[34mdplyr\u001b[39m::\u001b[32mfilter()\u001b[39m masks \u001b[34mstats\u001b[39m::filter()\n",
      "\u001b[31m✖\u001b[39m \u001b[34mdplyr\u001b[39m::\u001b[32mlag()\u001b[39m    masks \u001b[34mstats\u001b[39m::lag()\n",
      "\n"
     ]
    }
   ],
   "source": [
    "library(ggplot2)\n",
    "library(tidyverse)"
   ]
  },
  {
   "cell_type": "code",
   "execution_count": 6,
   "id": "259d1840",
   "metadata": {},
   "outputs": [
    {
     "name": "stderr",
     "output_type": "stream",
     "text": [
      "\u001b[1mRows: \u001b[22m\u001b[34m20\u001b[39m \u001b[1mColumns: \u001b[22m\u001b[34m3\u001b[39m\n",
      "\u001b[36m──\u001b[39m \u001b[1mColumn specification\u001b[22m \u001b[36m────────────────────────────────────────────────────────\u001b[39m\n",
      "\u001b[1mDelimiter:\u001b[22m \",\"\n",
      "\u001b[31mchr\u001b[39m (2): ID, Stage\n",
      "\u001b[32mdbl\u001b[39m (1): Concentration\n",
      "\n",
      "\u001b[36mℹ\u001b[39m Use `spec()` to retrieve the full column specification for this data.\n",
      "\u001b[36mℹ\u001b[39m Specify the column types or set `show_col_types = FALSE` to quiet this message.\n"
     ]
    },
    {
     "data": {
      "text/html": [
       "<table class=\"dataframe\">\n",
       "<caption>A tibble: 16 × 3</caption>\n",
       "<thead>\n",
       "\t<tr><th scope=col>ID</th><th scope=col>Stage</th><th scope=col>Concentration</th></tr>\n",
       "\t<tr><th scope=col>&lt;chr&gt;</th><th scope=col>&lt;chr&gt;</th><th scope=col>&lt;dbl&gt;</th></tr>\n",
       "</thead>\n",
       "<tbody>\n",
       "\t<tr><td>UEB-0205</td><td>I  </td><td>0.81</td></tr>\n",
       "\t<tr><td>UEB-0208</td><td>I  </td><td>0.88</td></tr>\n",
       "\t<tr><td>UEB-0209</td><td>II </td><td>0.36</td></tr>\n",
       "\t<tr><td>UEB-0210</td><td>II </td><td>1.27</td></tr>\n",
       "\t<tr><td>UEB-0211</td><td>III</td><td>1.07</td></tr>\n",
       "\t<tr><td>UEB-0213</td><td>II </td><td>0.32</td></tr>\n",
       "\t<tr><td>UEB-0215</td><td>III</td><td>0.56</td></tr>\n",
       "\t<tr><td>UEB-0216</td><td>I  </td><td>0.50</td></tr>\n",
       "\t<tr><td>UEB-0218</td><td>III</td><td>3.18</td></tr>\n",
       "\t<tr><td>UEB-0219</td><td>III</td><td>0.49</td></tr>\n",
       "\t<tr><td>UEB-0220</td><td>II </td><td>1.32</td></tr>\n",
       "\t<tr><td>UEB-0221</td><td>II </td><td>1.27</td></tr>\n",
       "\t<tr><td>UEB-0222</td><td>II </td><td>0.43</td></tr>\n",
       "\t<tr><td>UEB-0223</td><td>II </td><td>0.71</td></tr>\n",
       "\t<tr><td>UEB-0224</td><td>II </td><td>1.02</td></tr>\n",
       "\t<tr><td>UEB-0227</td><td>III</td><td>0.28</td></tr>\n",
       "</tbody>\n",
       "</table>\n"
      ],
      "text/latex": [
       "A tibble: 16 × 3\n",
       "\\begin{tabular}{lll}\n",
       " ID & Stage & Concentration\\\\\n",
       " <chr> & <chr> & <dbl>\\\\\n",
       "\\hline\n",
       "\t UEB-0205 & I   & 0.81\\\\\n",
       "\t UEB-0208 & I   & 0.88\\\\\n",
       "\t UEB-0209 & II  & 0.36\\\\\n",
       "\t UEB-0210 & II  & 1.27\\\\\n",
       "\t UEB-0211 & III & 1.07\\\\\n",
       "\t UEB-0213 & II  & 0.32\\\\\n",
       "\t UEB-0215 & III & 0.56\\\\\n",
       "\t UEB-0216 & I   & 0.50\\\\\n",
       "\t UEB-0218 & III & 3.18\\\\\n",
       "\t UEB-0219 & III & 0.49\\\\\n",
       "\t UEB-0220 & II  & 1.32\\\\\n",
       "\t UEB-0221 & II  & 1.27\\\\\n",
       "\t UEB-0222 & II  & 0.43\\\\\n",
       "\t UEB-0223 & II  & 0.71\\\\\n",
       "\t UEB-0224 & II  & 1.02\\\\\n",
       "\t UEB-0227 & III & 0.28\\\\\n",
       "\\end{tabular}\n"
      ],
      "text/markdown": [
       "\n",
       "A tibble: 16 × 3\n",
       "\n",
       "| ID &lt;chr&gt; | Stage &lt;chr&gt; | Concentration &lt;dbl&gt; |\n",
       "|---|---|---|\n",
       "| UEB-0205 | I   | 0.81 |\n",
       "| UEB-0208 | I   | 0.88 |\n",
       "| UEB-0209 | II  | 0.36 |\n",
       "| UEB-0210 | II  | 1.27 |\n",
       "| UEB-0211 | III | 1.07 |\n",
       "| UEB-0213 | II  | 0.32 |\n",
       "| UEB-0215 | III | 0.56 |\n",
       "| UEB-0216 | I   | 0.50 |\n",
       "| UEB-0218 | III | 3.18 |\n",
       "| UEB-0219 | III | 0.49 |\n",
       "| UEB-0220 | II  | 1.32 |\n",
       "| UEB-0221 | II  | 1.27 |\n",
       "| UEB-0222 | II  | 0.43 |\n",
       "| UEB-0223 | II  | 0.71 |\n",
       "| UEB-0224 | II  | 1.02 |\n",
       "| UEB-0227 | III | 0.28 |\n",
       "\n"
      ],
      "text/plain": [
       "   ID       Stage Concentration\n",
       "1  UEB-0205 I     0.81         \n",
       "2  UEB-0208 I     0.88         \n",
       "3  UEB-0209 II    0.36         \n",
       "4  UEB-0210 II    1.27         \n",
       "5  UEB-0211 III   1.07         \n",
       "6  UEB-0213 II    0.32         \n",
       "7  UEB-0215 III   0.56         \n",
       "8  UEB-0216 I     0.50         \n",
       "9  UEB-0218 III   3.18         \n",
       "10 UEB-0219 III   0.49         \n",
       "11 UEB-0220 II    1.32         \n",
       "12 UEB-0221 II    1.27         \n",
       "13 UEB-0222 II    0.43         \n",
       "14 UEB-0223 II    0.71         \n",
       "15 UEB-0224 II    1.02         \n",
       "16 UEB-0227 III   0.28         "
      ]
     },
     "metadata": {},
     "output_type": "display_data"
    }
   ],
   "source": [
    "df = read_csv('/home/fer/Documents/cfDNA/Clinical/Concentracion_cfDNA.csv')\n",
    "#borrar filas vacias\n",
    "df <- df[rowSums(is.na(df)) != ncol(df),]\n",
    "df"
   ]
  },
  {
   "cell_type": "code",
   "execution_count": 7,
   "id": "f815eaca",
   "metadata": {},
   "outputs": [
    {
     "data": {
      "text/plain": [
       "\n",
       "\tShapiro-Wilk normality test\n",
       "\n",
       "data:  df$Concentration\n",
       "W = 0.74157, p-value = 0.0005038\n"
      ]
     },
     "metadata": {},
     "output_type": "display_data"
    }
   ],
   "source": [
    "shapiro.test(x = df$Concentration)"
   ]
  },
  {
   "cell_type": "code",
   "execution_count": 9,
   "id": "6d039782",
   "metadata": {},
   "outputs": [
    {
     "data": {
      "text/html": [
       "<strong>png:</strong> 2"
      ],
      "text/latex": [
       "\\textbf{png:} 2"
      ],
      "text/markdown": [
       "**png:** 2"
      ],
      "text/plain": [
       "png \n",
       "  2 "
      ]
     },
     "metadata": {},
     "output_type": "display_data"
    }
   ],
   "source": [
    "library(ggplot2)\n",
    "\n",
    "pdf(\"/home/fer/TestShapiro.pdf\", width = 7, height = 7)\n",
    "#png(file=\"/home/fer/TestShapiro.png\",\n",
    "#width=560, height=560)\n",
    "\n",
    "base=ggplot(data=df, aes(x=Concentration))\n",
    "base=base + labs(title = \"Shapiro-Wilk normality test\",\n",
    "       subtitle = \"cfDNA concentration distribution\", x = expression(Concentration~(ng / mu*l)), y = \"Frequency\")\n",
    "base = base + geom_histogram(bins = 20,   color = 'blue', fill=\"lightblue\")\n",
    "base = base + annotate(\"rect\", xmin = 2.5, xmax = 3.5, ymin = 3.7, ymax = 4.2,\n",
    "  alpha = .2)\n",
    "base = base + annotate(\"text\", x = 2.83, y = 4, label = \"W = 0.74157\")\n",
    "base = base + annotate(\"text\", x = 3, y = 3.9, label = \"p-value = 0.0005038\")\n",
    "base\n",
    "dev.off()"
   ]
  },
  {
   "cell_type": "code",
   "execution_count": 15,
   "id": "0ec983fc",
   "metadata": {},
   "outputs": [
    {
     "data": {
      "image/png": "[encoded data removed]",
      "text/plain": [
       "Plot with title “Normal Q-Q Plot”"
      ]
     },
     "metadata": {
      "image/png": {
       "height": 420,
       "width": 420
      }
     },
     "output_type": "display_data"
    }
   ],
   "source": [
    "qqnorm(df$Concentration, pch = 19, col = \"gray50\")\n",
    "qqline(df$Concentration)"
   ]
  },
  {
   "cell_type": "code",
   "execution_count": 18,
   "id": "e1b7b5dc",
   "metadata": {},
   "outputs": [
    {
     "name": "stderr",
     "output_type": "stream",
     "text": [
      "Warning message:\n",
      "“Unknown or uninitialised column: `Concentrartion`.”\n",
      "Warning message in mean.default(df$Concentrartion):\n",
      "“argument is not numeric or logical: returning NA”\n",
      "Warning message:\n",
      "“Unknown or uninitialised column: `Concentrartion`.”\n",
      "`stat_bin()` using `bins = 30`. Pick better value with `binwidth`.\n",
      "\n",
      "Warning message:\n",
      "“Removed 101 row(s) containing missing values (geom_path).”\n"
     ]
    },
    {
     "data": {
      "image/png": "[encoded data removed]",
      "text/plain": [
       "plot without title"
      ]
     },
     "metadata": {
      "image/png": {
       "height": 420,
       "width": 420
      }
     },
     "output_type": "display_data"
    }
   ],
   "source": [
    "library(ggplot2)\n",
    "\n",
    "ggplot(data = df, aes(x = Concentration)) +\n",
    "  geom_histogram(aes(y = ..density.., fill = ..count..)) +\n",
    "  scale_fill_gradient(low = \"#DCDCDC\", high = \"#7C7C7C\") +\n",
    "  stat_function(fun = dnorm, colour = \"firebrick\",\n",
    "                args = list(mean = mean(df$Concentrartion),\n",
    "                            sd = sd(df$Concentrartion))) +\n",
    "  ggtitle(\"Histograma con curva normal teórica\") +\n",
    "  theme_bw()"
   ]
  },
  {
   "cell_type": "code",
   "execution_count": 11,
   "id": "e4263c7b",
   "metadata": {},
   "outputs": [
    {
     "name": "stderr",
     "output_type": "stream",
     "text": [
      "\u001b[1mRows: \u001b[22m\u001b[34m20\u001b[39m \u001b[1mColumns: \u001b[22m\u001b[34m2\u001b[39m\n",
      "\u001b[36m──\u001b[39m \u001b[1mColumn specification\u001b[22m \u001b[36m────────────────────────────────────────────────────────\u001b[39m\n",
      "\u001b[1mDelimiter:\u001b[22m \",\"\n",
      "\u001b[31mchr\u001b[39m (1): ID\n",
      "\u001b[32mdbl\u001b[39m (1): Fracción_tumoral\n",
      "\n",
      "\u001b[36mℹ\u001b[39m Use `spec()` to retrieve the full column specification for this data.\n",
      "\u001b[36mℹ\u001b[39m Specify the column types or set `show_col_types = FALSE` to quiet this message.\n"
     ]
    },
    {
     "data": {
      "text/html": [
       "<table class=\"dataframe\">\n",
       "<caption>A tibble: 6 × 2</caption>\n",
       "<thead>\n",
       "\t<tr><th scope=col>ID</th><th scope=col>Fracción_tumoral</th></tr>\n",
       "\t<tr><th scope=col>&lt;chr&gt;</th><th scope=col>&lt;dbl&gt;</th></tr>\n",
       "</thead>\n",
       "<tbody>\n",
       "\t<tr><td>UEB-0228</td><td>0.01414</td></tr>\n",
       "\t<tr><td>UEB-0205</td><td>0.00000</td></tr>\n",
       "\t<tr><td>UEB-0208</td><td>0.01832</td></tr>\n",
       "\t<tr><td>UEB-0209</td><td>0.01756</td></tr>\n",
       "\t<tr><td>UEB-0210</td><td>0.01458</td></tr>\n",
       "\t<tr><td>UEB-0211</td><td>0.02001</td></tr>\n",
       "</tbody>\n",
       "</table>\n"
      ],
      "text/latex": [
       "A tibble: 6 × 2\n",
       "\\begin{tabular}{ll}\n",
       " ID & Fracción\\_tumoral\\\\\n",
       " <chr> & <dbl>\\\\\n",
       "\\hline\n",
       "\t UEB-0228 & 0.01414\\\\\n",
       "\t UEB-0205 & 0.00000\\\\\n",
       "\t UEB-0208 & 0.01832\\\\\n",
       "\t UEB-0209 & 0.01756\\\\\n",
       "\t UEB-0210 & 0.01458\\\\\n",
       "\t UEB-0211 & 0.02001\\\\\n",
       "\\end{tabular}\n"
      ],
      "text/markdown": [
       "\n",
       "A tibble: 6 × 2\n",
       "\n",
       "| ID &lt;chr&gt; | Fracción_tumoral &lt;dbl&gt; |\n",
       "|---|---|\n",
       "| UEB-0228 | 0.01414 |\n",
       "| UEB-0205 | 0.00000 |\n",
       "| UEB-0208 | 0.01832 |\n",
       "| UEB-0209 | 0.01756 |\n",
       "| UEB-0210 | 0.01458 |\n",
       "| UEB-0211 | 0.02001 |\n",
       "\n"
      ],
      "text/plain": [
       "  ID       Fracción_tumoral\n",
       "1 UEB-0228 0.01414         \n",
       "2 UEB-0205 0.00000         \n",
       "3 UEB-0208 0.01832         \n",
       "4 UEB-0209 0.01756         \n",
       "5 UEB-0210 0.01458         \n",
       "6 UEB-0211 0.02001         "
      ]
     },
     "metadata": {},
     "output_type": "display_data"
    }
   ],
   "source": [
    "df = read_csv('/home/fer/Documents/cfDNA/Clinical/TumoralFraction.csv')\n",
    "#borrar filas vacias\n",
    "df <- df[rowSums(is.na(df)) != ncol(df),]\n",
    "head(df)"
   ]
  },
  {
   "cell_type": "code",
   "execution_count": 12,
   "id": "3dbd2173",
   "metadata": {},
   "outputs": [
    {
     "data": {
      "text/html": [
       "<strong>null device:</strong> 1"
      ],
      "text/latex": [
       "\\textbf{null device:} 1"
      ],
      "text/markdown": [
       "**null device:** 1"
      ],
      "text/plain": [
       "null device \n",
       "          1 "
      ]
     },
     "metadata": {},
     "output_type": "display_data"
    },
    {
     "data": {
      "image/png": "[encoded data removed]",
      "text/plain": [
       "plot without title"
      ]
     },
     "metadata": {
      "image/png": {
       "height": 420,
       "width": 420
      }
     },
     "output_type": "display_data"
    }
   ],
   "source": [
    "library(ggplot2)\n",
    "\n",
    "#pdf(\"/home/fer/HistoTumorFraction.pdf\", width = 7, height = 7)\n",
    "\n",
    "\n",
    "base=ggplot(data=df, aes(x=Fracción_tumoral))\n",
    "base=base + labs(title = \"Shapiro-Wilk normality test\",\n",
    "       subtitle = \"cfDNA concentration distribution\", x = expression(Concentration~(ng / mu*l)), y = \"Frequency\")\n",
    "base = base + geom_histogram(bins = 200,   color = 'blue', fill=\"lightblue\")\n",
    "base = base + annotate(\"rect\", xmin = 2.5, xmax = 3.5, ymin = 3.7, ymax = 4.2,\n",
    "  alpha = .2)\n",
    "base = base + annotate(\"text\", x = 2.83, y = 4, label = \"W = 0.74157\")\n",
    "base = base + annotate(\"text\", x = 3, y = 3.9, label = \"p-value = 0.0005038\")\n",
    "base\n",
    "dev.off()"
   ]
  },
  {
   "cell_type": "code",
   "execution_count": null,
   "id": "a4c9ad21",
   "metadata": {},
   "outputs": [],
   "source": []
  }
 ],
 "metadata": {
  "kernelspec": {
   "display_name": "R",
   "language": "R",
   "name": "ir"
  },
  "language_info": {
   "codemirror_mode": "r",
   "file_extension": ".r",
   "mimetype": "text/x-r-source",
   "name": "R",
   "pygments_lexer": "r",
   "version": "4.1.2"
  }
 },
 "nbformat": 4,
 "nbformat_minor": 5
}
