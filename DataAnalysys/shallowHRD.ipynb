{
 "cells": [
  {
   "cell_type": "code",
   "execution_count": 1,
   "id": "5a0ab2f9",
   "metadata": {},
   "outputs": [],
   "source": [
    "import pandas as pd\n",
    "import seaborn as sns\n",
    "import matplotlib.pyplot as plt"
   ]
  },
  {
   "cell_type": "code",
   "execution_count": 2,
   "id": "6e206d6a",
   "metadata": {},
   "outputs": [
    {
     "data": {
      "text/html": [
       "<div>\n",
       "<style scoped>\n",
       "    .dataframe tbody tr th:only-of-type {\n",
       "        vertical-align: middle;\n",
       "    }\n",
       "\n",
       "    .dataframe tbody tr th {\n",
       "        vertical-align: top;\n",
       "    }\n",
       "\n",
       "    .dataframe thead th {\n",
       "        text-align: right;\n",
       "    }\n",
       "</style>\n",
       "<table border=\"1\" class=\"dataframe\">\n",
       "  <thead>\n",
       "    <tr style=\"text-align: right;\">\n",
       "      <th></th>\n",
       "      <th>ID</th>\n",
       "      <th>CNA cut-off</th>\n",
       "      <th>Number LGAs</th>\n",
       "    </tr>\n",
       "  </thead>\n",
       "  <tbody>\n",
       "    <tr>\n",
       "      <th>0</th>\n",
       "      <td>UEB-0205</td>\n",
       "      <td>0.034</td>\n",
       "      <td>1</td>\n",
       "    </tr>\n",
       "    <tr>\n",
       "      <th>1</th>\n",
       "      <td>UEB-0208</td>\n",
       "      <td>0.040</td>\n",
       "      <td>1</td>\n",
       "    </tr>\n",
       "    <tr>\n",
       "      <th>2</th>\n",
       "      <td>UEB-0209</td>\n",
       "      <td>0.033</td>\n",
       "      <td>2</td>\n",
       "    </tr>\n",
       "    <tr>\n",
       "      <th>3</th>\n",
       "      <td>UEB-0210</td>\n",
       "      <td>0.025</td>\n",
       "      <td>2</td>\n",
       "    </tr>\n",
       "    <tr>\n",
       "      <th>4</th>\n",
       "      <td>UEB-0211</td>\n",
       "      <td>0.032</td>\n",
       "      <td>7</td>\n",
       "    </tr>\n",
       "    <tr>\n",
       "      <th>5</th>\n",
       "      <td>UEB-0213</td>\n",
       "      <td>0.040</td>\n",
       "      <td>2</td>\n",
       "    </tr>\n",
       "    <tr>\n",
       "      <th>6</th>\n",
       "      <td>UEB-0214</td>\n",
       "      <td>0.026</td>\n",
       "      <td>3</td>\n",
       "    </tr>\n",
       "    <tr>\n",
       "      <th>7</th>\n",
       "      <td>UEB-0215</td>\n",
       "      <td>0.045</td>\n",
       "      <td>0</td>\n",
       "    </tr>\n",
       "    <tr>\n",
       "      <th>8</th>\n",
       "      <td>UEB-0216</td>\n",
       "      <td>0.052</td>\n",
       "      <td>1</td>\n",
       "    </tr>\n",
       "    <tr>\n",
       "      <th>9</th>\n",
       "      <td>UEB-0217</td>\n",
       "      <td>0.025</td>\n",
       "      <td>2</td>\n",
       "    </tr>\n",
       "    <tr>\n",
       "      <th>10</th>\n",
       "      <td>UEB-0218</td>\n",
       "      <td>0.028</td>\n",
       "      <td>15</td>\n",
       "    </tr>\n",
       "    <tr>\n",
       "      <th>11</th>\n",
       "      <td>UEB-0219</td>\n",
       "      <td>0.025</td>\n",
       "      <td>2</td>\n",
       "    </tr>\n",
       "    <tr>\n",
       "      <th>12</th>\n",
       "      <td>UEB-0220</td>\n",
       "      <td>0.028</td>\n",
       "      <td>2</td>\n",
       "    </tr>\n",
       "    <tr>\n",
       "      <th>13</th>\n",
       "      <td>UEB-0221</td>\n",
       "      <td>0.038</td>\n",
       "      <td>0</td>\n",
       "    </tr>\n",
       "    <tr>\n",
       "      <th>14</th>\n",
       "      <td>UEB-0222</td>\n",
       "      <td>0.026</td>\n",
       "      <td>1</td>\n",
       "    </tr>\n",
       "    <tr>\n",
       "      <th>15</th>\n",
       "      <td>UEB-0223</td>\n",
       "      <td>0.064</td>\n",
       "      <td>0</td>\n",
       "    </tr>\n",
       "    <tr>\n",
       "      <th>16</th>\n",
       "      <td>UEB-0224</td>\n",
       "      <td>0.450</td>\n",
       "      <td>0</td>\n",
       "    </tr>\n",
       "    <tr>\n",
       "      <th>17</th>\n",
       "      <td>UEB-0226</td>\n",
       "      <td>0.033</td>\n",
       "      <td>0</td>\n",
       "    </tr>\n",
       "    <tr>\n",
       "      <th>18</th>\n",
       "      <td>UEB-0227</td>\n",
       "      <td>0.025</td>\n",
       "      <td>2</td>\n",
       "    </tr>\n",
       "    <tr>\n",
       "      <th>19</th>\n",
       "      <td>UEB-0228</td>\n",
       "      <td>0.025</td>\n",
       "      <td>3</td>\n",
       "    </tr>\n",
       "  </tbody>\n",
       "</table>\n",
       "</div>"
      ],
      "text/plain": [
       "          ID  CNA cut-off  Number LGAs\n",
       "0   UEB-0205        0.034            1\n",
       "1   UEB-0208        0.040            1\n",
       "2   UEB-0209        0.033            2\n",
       "3   UEB-0210        0.025            2\n",
       "4   UEB-0211        0.032            7\n",
       "5   UEB-0213        0.040            2\n",
       "6   UEB-0214        0.026            3\n",
       "7   UEB-0215        0.045            0\n",
       "8   UEB-0216        0.052            1\n",
       "9   UEB-0217        0.025            2\n",
       "10  UEB-0218        0.028           15\n",
       "11  UEB-0219        0.025            2\n",
       "12  UEB-0220        0.028            2\n",
       "13  UEB-0221        0.038            0\n",
       "14  UEB-0222        0.026            1\n",
       "15  UEB-0223        0.064            0\n",
       "16  UEB-0224        0.450            0\n",
       "17  UEB-0226        0.033            0\n",
       "18  UEB-0227        0.025            2\n",
       "19  UEB-0228        0.025            3"
      ]
     },
     "execution_count": 2,
     "metadata": {},
     "output_type": "execute_result"
    }
   ],
   "source": [
    "df = pd.read_excel('/home/fer/Documents/cfDNA/ShallowHRD.xlsx')\n",
    "df"
   ]
  },
  {
   "cell_type": "code",
   "execution_count": 3,
   "id": "5fd5c851",
   "metadata": {},
   "outputs": [
    {
     "data": {
      "text/plain": [
       "<seaborn.axisgrid.JointGrid at 0x7f30ce310d30>"
      ]
     },
     "execution_count": 3,
     "metadata": {},
     "output_type": "execute_result"
    },
    {
     "data": {
      "image/png": "[encoded data removed]",
      "text/plain": [
       "<Figure size 432x432 with 3 Axes>"
      ]
     },
     "metadata": {
      "needs_background": "light"
     },
     "output_type": "display_data"
    }
   ],
   "source": [
    "sns.jointplot(data=df, x='CNA cut-off', y='Number LGAs')"
   ]
  },
  {
   "cell_type": "code",
   "execution_count": 4,
   "id": "5bfee101",
   "metadata": {},
   "outputs": [
    {
     "data": {
      "text/plain": [
       "(array([ 0,  1,  2,  3,  4,  5,  6,  7,  8,  9, 10, 11, 12, 13, 14, 15, 16,\n",
       "        17, 18, 19]),\n",
       " [Text(0, 0, 'UEB-0205'),\n",
       "  Text(1, 0, 'UEB-0208'),\n",
       "  Text(2, 0, 'UEB-0209'),\n",
       "  Text(3, 0, 'UEB-0210'),\n",
       "  Text(4, 0, 'UEB-0211'),\n",
       "  Text(5, 0, 'UEB-0213'),\n",
       "  Text(6, 0, 'UEB-0214'),\n",
       "  Text(7, 0, 'UEB-0215'),\n",
       "  Text(8, 0, 'UEB-0216'),\n",
       "  Text(9, 0, 'UEB-0217'),\n",
       "  Text(10, 0, 'UEB-0218'),\n",
       "  Text(11, 0, 'UEB-0219'),\n",
       "  Text(12, 0, 'UEB-0220'),\n",
       "  Text(13, 0, 'UEB-0221'),\n",
       "  Text(14, 0, 'UEB-0222'),\n",
       "  Text(15, 0, 'UEB-0223'),\n",
       "  Text(16, 0, 'UEB-0224'),\n",
       "  Text(17, 0, 'UEB-0226'),\n",
       "  Text(18, 0, 'UEB-0227'),\n",
       "  Text(19, 0, 'UEB-0228')])"
      ]
     },
     "execution_count": 4,
     "metadata": {},
     "output_type": "execute_result"
    },
    {
     "data": {
      "image/png": "[encoded data removed]",
      "text/plain": [
       "<Figure size 432x288 with 1 Axes>"
      ]
     },
     "metadata": {
      "needs_background": "light"
     },
     "output_type": "display_data"
    }
   ],
   "source": [
    "sns.barplot(x = 'ID',\n",
    "            y = 'Number LGAs',\n",
    "            data = df, color='blue')\n",
    "\n",
    "plt.xticks(rotation = 90)"
   ]
  },
  {
   "cell_type": "code",
   "execution_count": 10,
   "id": "39f93c50",
   "metadata": {},
   "outputs": [
    {
     "data": {
      "image/png": "[encoded data removed]",
      "text/plain": [
       "<Figure size 720x360 with 2 Axes>"
      ]
     },
     "metadata": {
      "needs_background": "light"
     },
     "output_type": "display_data"
    }
   ],
   "source": [
    "x = df['ID']\n",
    "y = df['CNA cut-off']\n",
    "y1 = df['Number LGAs']\n",
    "\n",
    "fig, ax1 = plt.subplots(figsize=(10, 5))\n",
    "\n",
    "plt.xticks(rotation = 90)\n",
    "ax2 = ax1.twinx()\n",
    "\n",
    "\n",
    "#ax1.bar(x, y, label='Counts')\n",
    "ax1.bar(x, y1, label='Number LGAs')\n",
    "ax2.plot(x, y, 'o-', color=\"red\", label='CNA cut-off')\n",
    "\n",
    "ax1.set_xlabel('ID')\n",
    "ax1.set_ylabel('Number LGAs')\n",
    "ax2.set_ylabel('CNA cut-off')\n",
    "\n",
    "# Get the handles and labels for each plot\n",
    "handles1, labels1 = ax1.get_legend_handles_labels()\n",
    "handles2, labels2 = ax2.get_legend_handles_labels()\n",
    "\n",
    "# Create a single legend for both plots\n",
    "fig.legend(handles1 + handles2, labels1 + labels2, loc=(0.1, 0.81))\n",
    "\n",
    "plt.savefig('/home/fer/shallowHRD.pdf', dpi = 300, pad_inches=0.2, bbox_inches='tight')\n",
    "plt.show()"
   ]
  },
  {
   "cell_type": "code",
   "execution_count": null,
   "id": "e01335a3",
   "metadata": {},
   "outputs": [],
   "source": []
  }
 ],
 "metadata": {
  "kernelspec": {
   "display_name": "Python 3 (ipykernel)",
   "language": "python",
   "name": "python3"
  },
  "language_info": {
   "codemirror_mode": {
    "name": "ipython",
    "version": 3
   },
   "file_extension": ".py",
   "mimetype": "text/x-python",
   "name": "python",
   "nbconvert_exporter": "python",
   "pygments_lexer": "ipython3",
   "version": "3.10.6"
  }
 },
 "nbformat": 4,
 "nbformat_minor": 5
}
