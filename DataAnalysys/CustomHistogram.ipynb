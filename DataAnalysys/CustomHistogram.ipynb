{
 "cells": [
  {
   "cell_type": "code",
   "execution_count": 1,
   "id": "c482872c",
   "metadata": {},
   "outputs": [
    {
     "name": "stderr",
     "output_type": "stream",
     "text": [
      "── \u001b[1mAttaching packages\u001b[22m ─────────────────────────────────────── tidyverse 1.3.1 ──\n",
      "\n",
      "\u001b[32m✔\u001b[39m \u001b[34mggplot2\u001b[39m 3.3.6     \u001b[32m✔\u001b[39m \u001b[34mpurrr  \u001b[39m 0.3.4\n",
      "\u001b[32m✔\u001b[39m \u001b[34mtibble \u001b[39m 3.1.7     \u001b[32m✔\u001b[39m \u001b[34mdplyr  \u001b[39m 1.0.9\n",
      "\u001b[32m✔\u001b[39m \u001b[34mtidyr  \u001b[39m 1.2.0     \u001b[32m✔\u001b[39m \u001b[34mstringr\u001b[39m 1.4.0\n",
      "\u001b[32m✔\u001b[39m \u001b[34mreadr  \u001b[39m 2.1.2     \u001b[32m✔\u001b[39m \u001b[34mforcats\u001b[39m 0.5.1\n",
      "\n",
      "── \u001b[1mConflicts\u001b[22m ────────────────────────────────────────── tidyverse_conflicts() ──\n",
      "\u001b[31m✖\u001b[39m \u001b[34mdplyr\u001b[39m::\u001b[32mfilter()\u001b[39m masks \u001b[34mstats\u001b[39m::filter()\n",
      "\u001b[31m✖\u001b[39m \u001b[34mdplyr\u001b[39m::\u001b[32mlag()\u001b[39m    masks \u001b[34mstats\u001b[39m::lag()\n",
      "\n"
     ]
    }
   ],
   "source": [
    "library(tidyverse)\n",
    "library(ggplot2)"
   ]
  },
  {
   "cell_type": "code",
   "execution_count": 2,
   "id": "af1cc804",
   "metadata": {},
   "outputs": [
    {
     "name": "stderr",
     "output_type": "stream",
     "text": [
      "\u001b[1mRows: \u001b[22m\u001b[34m16\u001b[39m \u001b[1mColumns: \u001b[22m\u001b[34m3\u001b[39m\n",
      "\u001b[36m──\u001b[39m \u001b[1mColumn specification\u001b[22m \u001b[36m────────────────────────────────────────────────────────\u001b[39m\n",
      "\u001b[1mDelimiter:\u001b[22m \",\"\n",
      "\u001b[31mchr\u001b[39m (1): Stage\n",
      "\u001b[32mdbl\u001b[39m (2): FracTumRound, Freq\n",
      "\n",
      "\u001b[36mℹ\u001b[39m Use `spec()` to retrieve the full column specification for this data.\n",
      "\u001b[36mℹ\u001b[39m Specify the column types or set `show_col_types = FALSE` to quiet this message.\n"
     ]
    },
    {
     "data": {
      "text/html": [
       "<table class=\"dataframe\">\n",
       "<caption>A tibble: 6 × 3</caption>\n",
       "<thead>\n",
       "\t<tr><th scope=col>Stage</th><th scope=col>FracTumRound</th><th scope=col>Freq</th></tr>\n",
       "\t<tr><th scope=col>&lt;chr&gt;</th><th scope=col>&lt;dbl&gt;</th><th scope=col>&lt;dbl&gt;</th></tr>\n",
       "</thead>\n",
       "<tbody>\n",
       "\t<tr><td>Unknow</td><td>0.013</td><td>3</td></tr>\n",
       "\t<tr><td>IIA   </td><td>0.014</td><td>2</td></tr>\n",
       "\t<tr><td>Unknow</td><td>0.014</td><td>2</td></tr>\n",
       "\t<tr><td>I     </td><td>0.000</td><td>1</td></tr>\n",
       "\t<tr><td>IA    </td><td>0.018</td><td>1</td></tr>\n",
       "\t<tr><td>IIA   </td><td>0.000</td><td>1</td></tr>\n",
       "</tbody>\n",
       "</table>\n"
      ],
      "text/latex": [
       "A tibble: 6 × 3\n",
       "\\begin{tabular}{lll}\n",
       " Stage & FracTumRound & Freq\\\\\n",
       " <chr> & <dbl> & <dbl>\\\\\n",
       "\\hline\n",
       "\t Unknow & 0.013 & 3\\\\\n",
       "\t IIA    & 0.014 & 2\\\\\n",
       "\t Unknow & 0.014 & 2\\\\\n",
       "\t I      & 0.000 & 1\\\\\n",
       "\t IA     & 0.018 & 1\\\\\n",
       "\t IIA    & 0.000 & 1\\\\\n",
       "\\end{tabular}\n"
      ],
      "text/markdown": [
       "\n",
       "A tibble: 6 × 3\n",
       "\n",
       "| Stage &lt;chr&gt; | FracTumRound &lt;dbl&gt; | Freq &lt;dbl&gt; |\n",
       "|---|---|---|\n",
       "| Unknow | 0.013 | 3 |\n",
       "| IIA    | 0.014 | 2 |\n",
       "| Unknow | 0.014 | 2 |\n",
       "| I      | 0.000 | 1 |\n",
       "| IA     | 0.018 | 1 |\n",
       "| IIA    | 0.000 | 1 |\n",
       "\n"
      ],
      "text/plain": [
       "  Stage  FracTumRound Freq\n",
       "1 Unknow 0.013        3   \n",
       "2 IIA    0.014        2   \n",
       "3 Unknow 0.014        2   \n",
       "4 I      0.000        1   \n",
       "5 IA     0.018        1   \n",
       "6 IIA    0.000        1   "
      ]
     },
     "metadata": {},
     "output_type": "display_data"
    }
   ],
   "source": [
    "df = read_csv('/home/fer/Global.csv')\n",
    "head(df)"
   ]
  },
  {
   "cell_type": "code",
   "execution_count": 3,
   "id": "87707d37",
   "metadata": {},
   "outputs": [
    {
     "data": {
      "image/png": "[encoded data removed]",
      "text/plain": [
       "plot without title"
      ]
     },
     "metadata": {
      "image/png": {
       "height": 420,
       "width": 420
      }
     },
     "output_type": "display_data"
    }
   ],
   "source": [
    "ggplot(df, aes(x = FracTumRound, y = Freq, fill = Stage)) + \n",
    "  geom_bar(stat = \"identity\") +\n",
    "  scale_fill_brewer() +\n",
    "  labs(title = \"Tumoral Fraction\",\n",
    "       subtitle = \"Distribution of the tumor fraction by stage\", y =\"Frequency\",  x= \"Tumoral Fraction\")"
   ]
  },
  {
   "cell_type": "code",
   "execution_count": 7,
   "id": "6dd1bc21",
   "metadata": {},
   "outputs": [
    {
     "data": {
      "text/html": [
       "<strong>png:</strong> 2"
      ],
      "text/latex": [
       "\\textbf{png:} 2"
      ],
      "text/markdown": [
       "**png:** 2"
      ],
      "text/plain": [
       "png \n",
       "  2 "
      ]
     },
     "metadata": {},
     "output_type": "display_data"
    }
   ],
   "source": [
    "pdf(\"/home/fer/HistogramTumorFration.pdf\", width = 7, height = 7)\n",
    "ggplot(df, aes(x = FracTumRound, y = Freq, fill = Stage)) + \n",
    "  geom_bar(stat = \"identity\") +\n",
    "  scale_fill_brewer() +\n",
    "  labs(title = \"Tumoral Fraction\",\n",
    "       subtitle = \"Distribution of the tumor fraction by stage\", y =\"Frequency\",  x= \"Tumoral Fraction\")\n",
    "dev.off()"
   ]
  },
  {
   "cell_type": "code",
   "execution_count": null,
   "id": "5c0533b9",
   "metadata": {},
   "outputs": [],
   "source": []
  }
 ],
 "metadata": {
  "kernelspec": {
   "display_name": "R",
   "language": "R",
   "name": "ir"
  },
  "language_info": {
   "codemirror_mode": "r",
   "file_extension": ".r",
   "mimetype": "text/x-r-source",
   "name": "R",
   "pygments_lexer": "r",
   "version": "4.1.2"
  }
 },
 "nbformat": 4,
 "nbformat_minor": 5
}
